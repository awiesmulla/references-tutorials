{
 "cells": [
  {
   "cell_type": "markdown",
   "metadata": {},
   "source": [
    "## Common preprocessing steps"
   ]
  },
  {
   "cell_type": "markdown",
   "metadata": {},
   "source": [
    "All classifiers in scikit-learn expect the training and test data-tables to have only numbers.  Further, there should be no missing values. Raw data is seldom in this format. We will look at a few functions in Pandas that are handy in converting a raw table to the required format. We use a toy dataset on T-shirts for the purpose of illustration. The table has four features: Brand, Size, Color, and Price."
   ]
  },
  {
   "cell_type": "code",
   "execution_count": 1,
   "metadata": {},
   "outputs": [],
   "source": [
    "import pandas as pd"
   ]
  },
  {
   "cell_type": "code",
   "execution_count": 2,
   "metadata": {},
   "outputs": [],
   "source": [
    "master_data = pd.read_csv('misc/tshirts.csv')"
   ]
  },
  {
   "cell_type": "markdown",
   "metadata": {},
   "source": [
    "We see that the data has 19 rows. Columns `Brand` and `Price` have 1 and 2 null values, respectively."
   ]
  },
  {
   "cell_type": "code",
   "execution_count": 3,
   "metadata": {},
   "outputs": [
    {
     "name": "stdout",
     "output_type": "stream",
     "text": [
      "<class 'pandas.core.frame.DataFrame'>\n",
      "RangeIndex: 19 entries, 0 to 18\n",
      "Data columns (total 4 columns):\n",
      "Brand    18 non-null object\n",
      "Size     19 non-null object\n",
      "Color    19 non-null object\n",
      "Price    17 non-null float64\n",
      "dtypes: float64(1), object(3)\n",
      "memory usage: 688.0+ bytes\n"
     ]
    }
   ],
   "source": [
    "master_data.info()"
   ]
  },
  {
   "cell_type": "code",
   "execution_count": 4,
   "metadata": {},
   "outputs": [
    {
     "data": {
      "text/html": [
       "<div>\n",
       "<style scoped>\n",
       "    .dataframe tbody tr th:only-of-type {\n",
       "        vertical-align: middle;\n",
       "    }\n",
       "\n",
       "    .dataframe tbody tr th {\n",
       "        vertical-align: top;\n",
       "    }\n",
       "\n",
       "    .dataframe thead th {\n",
       "        text-align: right;\n",
       "    }\n",
       "</style>\n",
       "<table border=\"1\" class=\"dataframe\">\n",
       "  <thead>\n",
       "    <tr style=\"text-align: right;\">\n",
       "      <th></th>\n",
       "      <th>Brand</th>\n",
       "      <th>Size</th>\n",
       "      <th>Color</th>\n",
       "      <th>Price</th>\n",
       "    </tr>\n",
       "  </thead>\n",
       "  <tbody>\n",
       "    <tr>\n",
       "      <th>13</th>\n",
       "      <td>Puma</td>\n",
       "      <td>M</td>\n",
       "      <td>Blue</td>\n",
       "      <td>2400.0</td>\n",
       "    </tr>\n",
       "    <tr>\n",
       "      <th>8</th>\n",
       "      <td>Arrow</td>\n",
       "      <td>M</td>\n",
       "      <td>Blue</td>\n",
       "      <td>2400.0</td>\n",
       "    </tr>\n",
       "    <tr>\n",
       "      <th>16</th>\n",
       "      <td>Puma</td>\n",
       "      <td>XXL</td>\n",
       "      <td>Black</td>\n",
       "      <td>2450.0</td>\n",
       "    </tr>\n",
       "    <tr>\n",
       "      <th>3</th>\n",
       "      <td>Arrow</td>\n",
       "      <td>M</td>\n",
       "      <td>Blue</td>\n",
       "      <td>NaN</td>\n",
       "    </tr>\n",
       "    <tr>\n",
       "      <th>11</th>\n",
       "      <td>Arrow</td>\n",
       "      <td>XL</td>\n",
       "      <td>Red</td>\n",
       "      <td>1200.0</td>\n",
       "    </tr>\n",
       "  </tbody>\n",
       "</table>\n",
       "</div>"
      ],
      "text/plain": [
       "    Brand Size  Color   Price\n",
       "13   Puma    M   Blue  2400.0\n",
       "8   Arrow    M   Blue  2400.0\n",
       "16   Puma  XXL  Black  2450.0\n",
       "3   Arrow    M   Blue     NaN\n",
       "11  Arrow   XL    Red  1200.0"
      ]
     },
     "execution_count": 4,
     "metadata": {},
     "output_type": "execute_result"
    }
   ],
   "source": [
    "master_data.sample(5)"
   ]
  },
  {
   "cell_type": "markdown",
   "metadata": {},
   "source": [
    "### Coping with missing values"
   ]
  },
  {
   "cell_type": "markdown",
   "metadata": {},
   "source": [
    "#### Method 1: Drop them\n",
    "\n",
    "The easiest way to deal with missing values is to drop the rows having them. This is a viable option if the number of rows with missing values is small. In the code below, we drop the rows where either the `Brand` or the  `Price` information is missing."
   ]
  },
  {
   "cell_type": "code",
   "execution_count": 5,
   "metadata": {},
   "outputs": [],
   "source": [
    "df = master_data.copy()"
   ]
  },
  {
   "cell_type": "code",
   "execution_count": 6,
   "metadata": {},
   "outputs": [
    {
     "data": {
      "text/plain": [
       "(19, 4)"
      ]
     },
     "execution_count": 6,
     "metadata": {},
     "output_type": "execute_result"
    }
   ],
   "source": [
    "df.shape"
   ]
  },
  {
   "cell_type": "code",
   "execution_count": 7,
   "metadata": {},
   "outputs": [
    {
     "name": "stdout",
     "output_type": "stream",
     "text": [
      "<class 'pandas.core.frame.DataFrame'>\n",
      "RangeIndex: 19 entries, 0 to 18\n",
      "Data columns (total 4 columns):\n",
      "Brand    18 non-null object\n",
      "Size     19 non-null object\n",
      "Color    19 non-null object\n",
      "Price    17 non-null float64\n",
      "dtypes: float64(1), object(3)\n",
      "memory usage: 688.0+ bytes\n"
     ]
    }
   ],
   "source": [
    "df.info()"
   ]
  },
  {
   "cell_type": "code",
   "execution_count": 8,
   "metadata": {},
   "outputs": [],
   "source": [
    "df.dropna( subset=['Brand','Price'] , inplace = True)"
   ]
  },
  {
   "cell_type": "code",
   "execution_count": 9,
   "metadata": {},
   "outputs": [
    {
     "data": {
      "text/html": [
       "<div>\n",
       "<style scoped>\n",
       "    .dataframe tbody tr th:only-of-type {\n",
       "        vertical-align: middle;\n",
       "    }\n",
       "\n",
       "    .dataframe tbody tr th {\n",
       "        vertical-align: top;\n",
       "    }\n",
       "\n",
       "    .dataframe thead th {\n",
       "        text-align: right;\n",
       "    }\n",
       "</style>\n",
       "<table border=\"1\" class=\"dataframe\">\n",
       "  <thead>\n",
       "    <tr style=\"text-align: right;\">\n",
       "      <th></th>\n",
       "      <th>Brand</th>\n",
       "      <th>Size</th>\n",
       "      <th>Color</th>\n",
       "      <th>Price</th>\n",
       "    </tr>\n",
       "  </thead>\n",
       "  <tbody>\n",
       "    <tr>\n",
       "      <th>0</th>\n",
       "      <td>Adidas</td>\n",
       "      <td>XXL</td>\n",
       "      <td>Blue</td>\n",
       "      <td>1400.0</td>\n",
       "    </tr>\n",
       "    <tr>\n",
       "      <th>1</th>\n",
       "      <td>Adidas</td>\n",
       "      <td>XL</td>\n",
       "      <td>Red</td>\n",
       "      <td>1200.0</td>\n",
       "    </tr>\n",
       "    <tr>\n",
       "      <th>2</th>\n",
       "      <td>Arrow</td>\n",
       "      <td>XXL</td>\n",
       "      <td>Black</td>\n",
       "      <td>2450.0</td>\n",
       "    </tr>\n",
       "    <tr>\n",
       "      <th>5</th>\n",
       "      <td>Adidas</td>\n",
       "      <td>L</td>\n",
       "      <td>Green</td>\n",
       "      <td>1200.0</td>\n",
       "    </tr>\n",
       "    <tr>\n",
       "      <th>6</th>\n",
       "      <td>Arrow</td>\n",
       "      <td>XL</td>\n",
       "      <td>Blue</td>\n",
       "      <td>2400.0</td>\n",
       "    </tr>\n",
       "    <tr>\n",
       "      <th>7</th>\n",
       "      <td>Arrow</td>\n",
       "      <td>M</td>\n",
       "      <td>Blue</td>\n",
       "      <td>1400.0</td>\n",
       "    </tr>\n",
       "    <tr>\n",
       "      <th>8</th>\n",
       "      <td>Arrow</td>\n",
       "      <td>M</td>\n",
       "      <td>Blue</td>\n",
       "      <td>2400.0</td>\n",
       "    </tr>\n",
       "    <tr>\n",
       "      <th>9</th>\n",
       "      <td>Puma</td>\n",
       "      <td>XL</td>\n",
       "      <td>Blue</td>\n",
       "      <td>2400.0</td>\n",
       "    </tr>\n",
       "    <tr>\n",
       "      <th>10</th>\n",
       "      <td>Puma</td>\n",
       "      <td>M</td>\n",
       "      <td>Blue</td>\n",
       "      <td>1400.0</td>\n",
       "    </tr>\n",
       "    <tr>\n",
       "      <th>11</th>\n",
       "      <td>Arrow</td>\n",
       "      <td>XL</td>\n",
       "      <td>Red</td>\n",
       "      <td>1200.0</td>\n",
       "    </tr>\n",
       "    <tr>\n",
       "      <th>12</th>\n",
       "      <td>Arrow</td>\n",
       "      <td>L</td>\n",
       "      <td>Green</td>\n",
       "      <td>1200.0</td>\n",
       "    </tr>\n",
       "    <tr>\n",
       "      <th>13</th>\n",
       "      <td>Puma</td>\n",
       "      <td>M</td>\n",
       "      <td>Blue</td>\n",
       "      <td>2400.0</td>\n",
       "    </tr>\n",
       "    <tr>\n",
       "      <th>14</th>\n",
       "      <td>Puma</td>\n",
       "      <td>XL</td>\n",
       "      <td>Red</td>\n",
       "      <td>2200.0</td>\n",
       "    </tr>\n",
       "    <tr>\n",
       "      <th>16</th>\n",
       "      <td>Puma</td>\n",
       "      <td>XXL</td>\n",
       "      <td>Black</td>\n",
       "      <td>2450.0</td>\n",
       "    </tr>\n",
       "    <tr>\n",
       "      <th>17</th>\n",
       "      <td>Puma</td>\n",
       "      <td>M</td>\n",
       "      <td>Blue</td>\n",
       "      <td>1000.0</td>\n",
       "    </tr>\n",
       "    <tr>\n",
       "      <th>18</th>\n",
       "      <td>Puma</td>\n",
       "      <td>L</td>\n",
       "      <td>Green</td>\n",
       "      <td>3200.0</td>\n",
       "    </tr>\n",
       "  </tbody>\n",
       "</table>\n",
       "</div>"
      ],
      "text/plain": [
       "     Brand Size  Color   Price\n",
       "0   Adidas  XXL   Blue  1400.0\n",
       "1   Adidas   XL    Red  1200.0\n",
       "2    Arrow  XXL  Black  2450.0\n",
       "5   Adidas    L  Green  1200.0\n",
       "6    Arrow   XL   Blue  2400.0\n",
       "7    Arrow    M   Blue  1400.0\n",
       "8    Arrow    M   Blue  2400.0\n",
       "9     Puma   XL   Blue  2400.0\n",
       "10    Puma    M   Blue  1400.0\n",
       "11   Arrow   XL    Red  1200.0\n",
       "12   Arrow    L  Green  1200.0\n",
       "13    Puma    M   Blue  2400.0\n",
       "14    Puma   XL    Red  2200.0\n",
       "16    Puma  XXL  Black  2450.0\n",
       "17    Puma    M   Blue  1000.0\n",
       "18    Puma    L  Green  3200.0"
      ]
     },
     "execution_count": 9,
     "metadata": {},
     "output_type": "execute_result"
    }
   ],
   "source": [
    "df"
   ]
  },
  {
   "cell_type": "markdown",
   "metadata": {},
   "source": [
    "#### Method 2: Replace with mean\n",
    "\n",
    "The most common way to deal with missing numerical values is by filling them with the mean value. We do so by using two functions. If f is a series object, then the command f.fillna( x ) replaces the NULL values in f by x. We choose x to be f.mean()"
   ]
  },
  {
   "cell_type": "code",
   "execution_count": 10,
   "metadata": {},
   "outputs": [],
   "source": [
    "df = master_data.copy()"
   ]
  },
  {
   "cell_type": "code",
   "execution_count": 11,
   "metadata": {},
   "outputs": [],
   "source": [
    "def fill_missing(f):\n",
    "    f_mean = f.mean()\n",
    "    return f.fillna( f_mean )"
   ]
  },
  {
   "cell_type": "code",
   "execution_count": 12,
   "metadata": {},
   "outputs": [
    {
     "data": {
      "text/plain": [
       "0     1400.000000\n",
       "1     1200.000000\n",
       "2     2450.000000\n",
       "3     1788.235294\n",
       "4      500.000000\n",
       "5     1200.000000\n",
       "6     2400.000000\n",
       "7     1400.000000\n",
       "8     2400.000000\n",
       "9     2400.000000\n",
       "10    1400.000000\n",
       "11    1200.000000\n",
       "12    1200.000000\n",
       "13    2400.000000\n",
       "14    2200.000000\n",
       "15    1788.235294\n",
       "16    2450.000000\n",
       "17    1000.000000\n",
       "18    3200.000000\n",
       "Name: Price, dtype: float64"
      ]
     },
     "execution_count": 12,
     "metadata": {},
     "output_type": "execute_result"
    }
   ],
   "source": [
    "fill_missing( df['Price'] )"
   ]
  },
  {
   "cell_type": "code",
   "execution_count": 13,
   "metadata": {},
   "outputs": [],
   "source": [
    "df['Price'] = fill_missing(df['Price'])"
   ]
  },
  {
   "cell_type": "code",
   "execution_count": 14,
   "metadata": {},
   "outputs": [
    {
     "data": {
      "text/plain": [
       "0     1400.000000\n",
       "1     1200.000000\n",
       "2     2450.000000\n",
       "3     1788.235294\n",
       "4      500.000000\n",
       "5     1200.000000\n",
       "6     2400.000000\n",
       "7     1400.000000\n",
       "8     2400.000000\n",
       "9     2400.000000\n",
       "10    1400.000000\n",
       "11    1200.000000\n",
       "12    1200.000000\n",
       "13    2400.000000\n",
       "14    2200.000000\n",
       "15    1788.235294\n",
       "16    2450.000000\n",
       "17    1000.000000\n",
       "18    3200.000000\n",
       "Name: Price, dtype: float64"
      ]
     },
     "execution_count": 14,
     "metadata": {},
     "output_type": "execute_result"
    }
   ],
   "source": [
    "df['Price']"
   ]
  },
  {
   "cell_type": "markdown",
   "metadata": {},
   "source": [
    "##### Comment about inplace argument\n",
    "\n",
    "The function <code>fill_missing</code> does not change the data-table df. We should have called fillna with the option <code>inplace=True</code> if we wanted to do so. We can also change the price column in df by explicitly assigning <code>df['Price'] = fill_missing( df['Price'])</code>"
   ]
  },
  {
   "cell_type": "markdown",
   "metadata": {},
   "source": [
    "#### Method 3: Replace with mean value of a group\n",
    "\n",
    "A better idea would be to fill the missing price of a T-shirt with the mean price of its brand. We use two functions to do this: groupby and transform. See the explanation below for how transform works under the hood. "
   ]
  },
  {
   "cell_type": "code",
   "execution_count": 15,
   "metadata": {},
   "outputs": [],
   "source": [
    "df = master_data.copy()"
   ]
  },
  {
   "cell_type": "code",
   "execution_count": 16,
   "metadata": {},
   "outputs": [],
   "source": [
    "df.dropna(subset=['Brand'], inplace=True)"
   ]
  },
  {
   "cell_type": "code",
   "execution_count": 17,
   "metadata": {},
   "outputs": [],
   "source": [
    "g = df.groupby(['Brand'])['Price']"
   ]
  },
  {
   "cell_type": "code",
   "execution_count": 18,
   "metadata": {
    "scrolled": true
   },
   "outputs": [
    {
     "data": {
      "text/plain": [
       "pandas.core.groupby.generic.SeriesGroupBy"
      ]
     },
     "execution_count": 18,
     "metadata": {},
     "output_type": "execute_result"
    }
   ],
   "source": [
    "type(g)"
   ]
  },
  {
   "cell_type": "code",
   "execution_count": 19,
   "metadata": {},
   "outputs": [
    {
     "data": {
      "text/plain": [
       "Brand\n",
       "Adidas    1266.666667\n",
       "Arrow     1841.666667\n",
       "Puma      2150.000000\n",
       "Name: Price, dtype: float64"
      ]
     },
     "execution_count": 19,
     "metadata": {},
     "output_type": "execute_result"
    }
   ],
   "source": [
    "g.mean()"
   ]
  },
  {
   "cell_type": "code",
   "execution_count": 20,
   "metadata": {},
   "outputs": [
    {
     "data": {
      "text/plain": [
       "0     1400.000000\n",
       "1     1200.000000\n",
       "2     2450.000000\n",
       "3     1841.666667\n",
       "5     1200.000000\n",
       "6     2400.000000\n",
       "7     1400.000000\n",
       "8     2400.000000\n",
       "9     2400.000000\n",
       "10    1400.000000\n",
       "11    1200.000000\n",
       "12    1200.000000\n",
       "13    2400.000000\n",
       "14    2200.000000\n",
       "15    1266.666667\n",
       "16    2450.000000\n",
       "17    1000.000000\n",
       "18    3200.000000\n",
       "Name: Price, dtype: float64"
      ]
     },
     "execution_count": 20,
     "metadata": {},
     "output_type": "execute_result"
    }
   ],
   "source": [
    "g.transform( fill_missing ) "
   ]
  },
  {
   "cell_type": "markdown",
   "metadata": {},
   "source": [
    "**Explanation:** In the code above, g is Series.GroupBy object. The column 'Price' is grouped by Brand. The function transform effectively works as follows:\n",
    "\n",
    "1. It splits the group-series object g into three Series objects--one for each brand.\n",
    "2. It passes each of the three Series objects one by one to the function fill_missing.\n",
    "3. The function fill_missing is the same as the one we wrote earlier. It fills the missing values by mean and returns a series object. This function is called three times -- once for each brand. Each time it receives only prices related to one brand. So fill_missing computes the mean for that brand and fills the missing values for NULL values of Price for that brand.\n",
    "4. The three series objects returned by fill_missing is combined and put in the original order given by df['Price']. This results in one Series object that is the output of the line g.transform(..)"
   ]
  },
  {
   "cell_type": "markdown",
   "metadata": {},
   "source": [
    "#### Method 4: Replace with the most frequent item\n",
    "\n",
    "If the missing values are of categorical type, a reasonable thing to do would be to replace them with the most frequently occurring value. This is called the *mode*. The mode() function returns the list of all values that occur the maximum number of times. Brands Arrow and Puma occur the maximum number of times (7 times). Even if the mode is unique, mode() still returns a list so we use [0] to pick the first value."
   ]
  },
  {
   "cell_type": "code",
   "execution_count": 21,
   "metadata": {},
   "outputs": [
    {
     "data": {
      "text/plain": [
       "0    Arrow\n",
       "1     Puma\n",
       "dtype: object"
      ]
     },
     "execution_count": 21,
     "metadata": {},
     "output_type": "execute_result"
    }
   ],
   "source": [
    "df['Brand'].mode()"
   ]
  },
  {
   "cell_type": "code",
   "execution_count": 22,
   "metadata": {},
   "outputs": [
    {
     "data": {
      "text/plain": [
       "0     Adidas\n",
       "1     Adidas\n",
       "2      Arrow\n",
       "3      Arrow\n",
       "5     Adidas\n",
       "6      Arrow\n",
       "7      Arrow\n",
       "8      Arrow\n",
       "9       Puma\n",
       "10      Puma\n",
       "11     Arrow\n",
       "12     Arrow\n",
       "13      Puma\n",
       "14      Puma\n",
       "15    Adidas\n",
       "16      Puma\n",
       "17      Puma\n",
       "18      Puma\n",
       "Name: Brand, dtype: object"
      ]
     },
     "execution_count": 22,
     "metadata": {},
     "output_type": "execute_result"
    }
   ],
   "source": [
    "most_frequent = df['Brand'].mode()[1]\n",
    "df['Brand'].fillna( most_frequent )"
   ]
  },
  {
   "cell_type": "markdown",
   "metadata": {},
   "source": [
    "### How to convert Categories to numbers?\n",
    "\n",
    "As we said earlier, all classifiers in scikit-learn expect the data-tables to have only numbers. We need a numerical representation of categorical data. Functions that help us do this are discussed below."
   ]
  },
  {
   "cell_type": "markdown",
   "metadata": {},
   "source": [
    "#### Method 1: Suitable for ordinal features\n",
    "\n",
    "It is meaningful to order the sizes of T-shirts as $M < L < XL < XXL$. However, we cannot impose any natural ordering on the colors of the T-shirt. So we say 'Size' is an *ordinal* feature and 'Color' is a *nominal* feature. These two types are treated differently. Let us look at how to convert ordinal categories to numbers first.  "
   ]
  },
  {
   "cell_type": "code",
   "execution_count": 23,
   "metadata": {},
   "outputs": [],
   "source": [
    "df = master_data.copy()"
   ]
  },
  {
   "cell_type": "code",
   "execution_count": 24,
   "metadata": {},
   "outputs": [],
   "source": [
    "size_num = {'M':1,\n",
    "            'L':2,\n",
    "            'XL':3,\n",
    "            'XXL':4}"
   ]
  },
  {
   "cell_type": "markdown",
   "metadata": {},
   "source": [
    "The apply method take a function as argument. It runs this function on each value in Size."
   ]
  },
  {
   "cell_type": "code",
   "execution_count": 25,
   "metadata": {},
   "outputs": [],
   "source": [
    "df['Size'] = df['Size'].apply( lambda x: size_num[x] )"
   ]
  },
  {
   "cell_type": "code",
   "execution_count": 26,
   "metadata": {},
   "outputs": [
    {
     "data": {
      "text/plain": [
       "0     4\n",
       "1     3\n",
       "2     4\n",
       "3     1\n",
       "4     1\n",
       "5     2\n",
       "6     3\n",
       "7     1\n",
       "8     1\n",
       "9     3\n",
       "10    1\n",
       "11    3\n",
       "12    2\n",
       "13    1\n",
       "14    3\n",
       "15    4\n",
       "16    4\n",
       "17    1\n",
       "18    2\n",
       "Name: Size, dtype: int64"
      ]
     },
     "execution_count": 26,
     "metadata": {},
     "output_type": "execute_result"
    }
   ],
   "source": [
    "df['Size']"
   ]
  },
  {
   "cell_type": "markdown",
   "metadata": {},
   "source": [
    "#### Method 2: Suitable for nominal features\n",
    "\n",
    "In case of a nominal feature like color, we represent each unique color as a (dummy) feature of its own. Once transformed, for every data point, exactly one feature has the value 1 and the rest of them have zero. This representation is known as **one-hot encoding**. "
   ]
  },
  {
   "cell_type": "code",
   "execution_count": 27,
   "metadata": {},
   "outputs": [],
   "source": [
    "df = master_data.copy()"
   ]
  },
  {
   "cell_type": "code",
   "execution_count": 28,
   "metadata": {},
   "outputs": [
    {
     "data": {
      "text/html": [
       "<div>\n",
       "<style scoped>\n",
       "    .dataframe tbody tr th:only-of-type {\n",
       "        vertical-align: middle;\n",
       "    }\n",
       "\n",
       "    .dataframe tbody tr th {\n",
       "        vertical-align: top;\n",
       "    }\n",
       "\n",
       "    .dataframe thead th {\n",
       "        text-align: right;\n",
       "    }\n",
       "</style>\n",
       "<table border=\"1\" class=\"dataframe\">\n",
       "  <thead>\n",
       "    <tr style=\"text-align: right;\">\n",
       "      <th></th>\n",
       "      <th>Brand</th>\n",
       "      <th>Size</th>\n",
       "      <th>Color</th>\n",
       "      <th>Price</th>\n",
       "    </tr>\n",
       "  </thead>\n",
       "  <tbody>\n",
       "    <tr>\n",
       "      <th>0</th>\n",
       "      <td>Adidas</td>\n",
       "      <td>XXL</td>\n",
       "      <td>Blue</td>\n",
       "      <td>1400.0</td>\n",
       "    </tr>\n",
       "    <tr>\n",
       "      <th>1</th>\n",
       "      <td>Adidas</td>\n",
       "      <td>XL</td>\n",
       "      <td>Red</td>\n",
       "      <td>1200.0</td>\n",
       "    </tr>\n",
       "    <tr>\n",
       "      <th>2</th>\n",
       "      <td>Arrow</td>\n",
       "      <td>XXL</td>\n",
       "      <td>Black</td>\n",
       "      <td>2450.0</td>\n",
       "    </tr>\n",
       "    <tr>\n",
       "      <th>3</th>\n",
       "      <td>Arrow</td>\n",
       "      <td>M</td>\n",
       "      <td>Blue</td>\n",
       "      <td>NaN</td>\n",
       "    </tr>\n",
       "    <tr>\n",
       "      <th>4</th>\n",
       "      <td>NaN</td>\n",
       "      <td>M</td>\n",
       "      <td>Blue</td>\n",
       "      <td>500.0</td>\n",
       "    </tr>\n",
       "  </tbody>\n",
       "</table>\n",
       "</div>"
      ],
      "text/plain": [
       "    Brand Size  Color   Price\n",
       "0  Adidas  XXL   Blue  1400.0\n",
       "1  Adidas   XL    Red  1200.0\n",
       "2   Arrow  XXL  Black  2450.0\n",
       "3   Arrow    M   Blue     NaN\n",
       "4     NaN    M   Blue   500.0"
      ]
     },
     "execution_count": 28,
     "metadata": {},
     "output_type": "execute_result"
    }
   ],
   "source": [
    "df.head()"
   ]
  },
  {
   "cell_type": "code",
   "execution_count": 29,
   "metadata": {},
   "outputs": [],
   "source": [
    "df = pd.get_dummies(df, columns=['Color'] , drop_first=True )"
   ]
  },
  {
   "cell_type": "code",
   "execution_count": 30,
   "metadata": {},
   "outputs": [
    {
     "data": {
      "text/html": [
       "<div>\n",
       "<style scoped>\n",
       "    .dataframe tbody tr th:only-of-type {\n",
       "        vertical-align: middle;\n",
       "    }\n",
       "\n",
       "    .dataframe tbody tr th {\n",
       "        vertical-align: top;\n",
       "    }\n",
       "\n",
       "    .dataframe thead th {\n",
       "        text-align: right;\n",
       "    }\n",
       "</style>\n",
       "<table border=\"1\" class=\"dataframe\">\n",
       "  <thead>\n",
       "    <tr style=\"text-align: right;\">\n",
       "      <th></th>\n",
       "      <th>Brand</th>\n",
       "      <th>Size</th>\n",
       "      <th>Price</th>\n",
       "      <th>Color_Blue</th>\n",
       "      <th>Color_Green</th>\n",
       "      <th>Color_Red</th>\n",
       "    </tr>\n",
       "  </thead>\n",
       "  <tbody>\n",
       "    <tr>\n",
       "      <th>0</th>\n",
       "      <td>Adidas</td>\n",
       "      <td>XXL</td>\n",
       "      <td>1400.0</td>\n",
       "      <td>1</td>\n",
       "      <td>0</td>\n",
       "      <td>0</td>\n",
       "    </tr>\n",
       "    <tr>\n",
       "      <th>1</th>\n",
       "      <td>Adidas</td>\n",
       "      <td>XL</td>\n",
       "      <td>1200.0</td>\n",
       "      <td>0</td>\n",
       "      <td>0</td>\n",
       "      <td>1</td>\n",
       "    </tr>\n",
       "    <tr>\n",
       "      <th>2</th>\n",
       "      <td>Arrow</td>\n",
       "      <td>XXL</td>\n",
       "      <td>2450.0</td>\n",
       "      <td>0</td>\n",
       "      <td>0</td>\n",
       "      <td>0</td>\n",
       "    </tr>\n",
       "    <tr>\n",
       "      <th>3</th>\n",
       "      <td>Arrow</td>\n",
       "      <td>M</td>\n",
       "      <td>NaN</td>\n",
       "      <td>1</td>\n",
       "      <td>0</td>\n",
       "      <td>0</td>\n",
       "    </tr>\n",
       "    <tr>\n",
       "      <th>4</th>\n",
       "      <td>NaN</td>\n",
       "      <td>M</td>\n",
       "      <td>500.0</td>\n",
       "      <td>1</td>\n",
       "      <td>0</td>\n",
       "      <td>0</td>\n",
       "    </tr>\n",
       "    <tr>\n",
       "      <th>5</th>\n",
       "      <td>Adidas</td>\n",
       "      <td>L</td>\n",
       "      <td>1200.0</td>\n",
       "      <td>0</td>\n",
       "      <td>1</td>\n",
       "      <td>0</td>\n",
       "    </tr>\n",
       "    <tr>\n",
       "      <th>6</th>\n",
       "      <td>Arrow</td>\n",
       "      <td>XL</td>\n",
       "      <td>2400.0</td>\n",
       "      <td>1</td>\n",
       "      <td>0</td>\n",
       "      <td>0</td>\n",
       "    </tr>\n",
       "    <tr>\n",
       "      <th>7</th>\n",
       "      <td>Arrow</td>\n",
       "      <td>M</td>\n",
       "      <td>1400.0</td>\n",
       "      <td>1</td>\n",
       "      <td>0</td>\n",
       "      <td>0</td>\n",
       "    </tr>\n",
       "    <tr>\n",
       "      <th>8</th>\n",
       "      <td>Arrow</td>\n",
       "      <td>M</td>\n",
       "      <td>2400.0</td>\n",
       "      <td>1</td>\n",
       "      <td>0</td>\n",
       "      <td>0</td>\n",
       "    </tr>\n",
       "    <tr>\n",
       "      <th>9</th>\n",
       "      <td>Puma</td>\n",
       "      <td>XL</td>\n",
       "      <td>2400.0</td>\n",
       "      <td>1</td>\n",
       "      <td>0</td>\n",
       "      <td>0</td>\n",
       "    </tr>\n",
       "    <tr>\n",
       "      <th>10</th>\n",
       "      <td>Puma</td>\n",
       "      <td>M</td>\n",
       "      <td>1400.0</td>\n",
       "      <td>1</td>\n",
       "      <td>0</td>\n",
       "      <td>0</td>\n",
       "    </tr>\n",
       "    <tr>\n",
       "      <th>11</th>\n",
       "      <td>Arrow</td>\n",
       "      <td>XL</td>\n",
       "      <td>1200.0</td>\n",
       "      <td>0</td>\n",
       "      <td>0</td>\n",
       "      <td>1</td>\n",
       "    </tr>\n",
       "    <tr>\n",
       "      <th>12</th>\n",
       "      <td>Arrow</td>\n",
       "      <td>L</td>\n",
       "      <td>1200.0</td>\n",
       "      <td>0</td>\n",
       "      <td>1</td>\n",
       "      <td>0</td>\n",
       "    </tr>\n",
       "    <tr>\n",
       "      <th>13</th>\n",
       "      <td>Puma</td>\n",
       "      <td>M</td>\n",
       "      <td>2400.0</td>\n",
       "      <td>1</td>\n",
       "      <td>0</td>\n",
       "      <td>0</td>\n",
       "    </tr>\n",
       "    <tr>\n",
       "      <th>14</th>\n",
       "      <td>Puma</td>\n",
       "      <td>XL</td>\n",
       "      <td>2200.0</td>\n",
       "      <td>0</td>\n",
       "      <td>0</td>\n",
       "      <td>1</td>\n",
       "    </tr>\n",
       "    <tr>\n",
       "      <th>15</th>\n",
       "      <td>Adidas</td>\n",
       "      <td>XXL</td>\n",
       "      <td>NaN</td>\n",
       "      <td>0</td>\n",
       "      <td>0</td>\n",
       "      <td>0</td>\n",
       "    </tr>\n",
       "    <tr>\n",
       "      <th>16</th>\n",
       "      <td>Puma</td>\n",
       "      <td>XXL</td>\n",
       "      <td>2450.0</td>\n",
       "      <td>0</td>\n",
       "      <td>0</td>\n",
       "      <td>0</td>\n",
       "    </tr>\n",
       "    <tr>\n",
       "      <th>17</th>\n",
       "      <td>Puma</td>\n",
       "      <td>M</td>\n",
       "      <td>1000.0</td>\n",
       "      <td>1</td>\n",
       "      <td>0</td>\n",
       "      <td>0</td>\n",
       "    </tr>\n",
       "    <tr>\n",
       "      <th>18</th>\n",
       "      <td>Puma</td>\n",
       "      <td>L</td>\n",
       "      <td>3200.0</td>\n",
       "      <td>0</td>\n",
       "      <td>1</td>\n",
       "      <td>0</td>\n",
       "    </tr>\n",
       "  </tbody>\n",
       "</table>\n",
       "</div>"
      ],
      "text/plain": [
       "     Brand Size   Price  Color_Blue  Color_Green  Color_Red\n",
       "0   Adidas  XXL  1400.0           1            0          0\n",
       "1   Adidas   XL  1200.0           0            0          1\n",
       "2    Arrow  XXL  2450.0           0            0          0\n",
       "3    Arrow    M     NaN           1            0          0\n",
       "4      NaN    M   500.0           1            0          0\n",
       "5   Adidas    L  1200.0           0            1          0\n",
       "6    Arrow   XL  2400.0           1            0          0\n",
       "7    Arrow    M  1400.0           1            0          0\n",
       "8    Arrow    M  2400.0           1            0          0\n",
       "9     Puma   XL  2400.0           1            0          0\n",
       "10    Puma    M  1400.0           1            0          0\n",
       "11   Arrow   XL  1200.0           0            0          1\n",
       "12   Arrow    L  1200.0           0            1          0\n",
       "13    Puma    M  2400.0           1            0          0\n",
       "14    Puma   XL  2200.0           0            0          1\n",
       "15  Adidas  XXL     NaN           0            0          0\n",
       "16    Puma  XXL  2450.0           0            0          0\n",
       "17    Puma    M  1000.0           1            0          0\n",
       "18    Puma    L  3200.0           0            1          0"
      ]
     },
     "execution_count": 30,
     "metadata": {},
     "output_type": "execute_result"
    }
   ],
   "source": [
    "df"
   ]
  },
  {
   "cell_type": "code",
   "execution_count": null,
   "metadata": {},
   "outputs": [],
   "source": []
  }
 ],
 "metadata": {
  "kernelspec": {
   "display_name": "Python 3",
   "language": "python",
   "name": "python3"
  },
  "language_info": {
   "codemirror_mode": {
    "name": "ipython",
    "version": 3
   },
   "file_extension": ".py",
   "mimetype": "text/x-python",
   "name": "python",
   "nbconvert_exporter": "python",
   "pygments_lexer": "ipython3",
   "version": "3.7.3"
  }
 },
 "nbformat": 4,
 "nbformat_minor": 1
}
