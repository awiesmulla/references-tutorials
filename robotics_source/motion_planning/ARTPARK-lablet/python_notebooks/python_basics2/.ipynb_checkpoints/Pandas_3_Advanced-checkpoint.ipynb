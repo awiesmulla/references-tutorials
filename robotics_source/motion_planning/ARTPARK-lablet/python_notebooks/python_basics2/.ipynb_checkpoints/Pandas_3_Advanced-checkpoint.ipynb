{
 "cells": [
  {
   "cell_type": "markdown",
   "metadata": {},
   "source": [
    "### Reshaping dataframes\n",
    "\n",
    "This part of the section shows the different ways in which one can view the same datatable.\n",
    "\n",
    "* [Crosstab](#useful-crosstab)\n",
    "* [Merge](#useful-merge)\n",
    "* [Melt](#useful-melt)\n",
    "* [Pivot](#useful-pivot)\n",
    "* [Stack/Unstack](#useful-stack)\n"
   ]
  },
  {
   "cell_type": "code",
   "execution_count": null,
   "metadata": {
    "collapsed": true
   },
   "outputs": [],
   "source": [
    "import pandas as pd"
   ]
  },
  {
   "cell_type": "markdown",
   "metadata": {},
   "source": [
    "#### Crosstab <a class=\"anchor\" id=\"useful-crosstab\"></a>\n",
    "\n",
    "Suppose we have a datatable which has categorical attributes. We wish to see the item counts of various different combinations of categories. Crosstab is the function we would use in such a case.\n",
    "\n",
    "For example, given below is a dataset of cars with categorical attributes. The categories describe how the price of the car, maintenance, space, etc. The full description can be found here: https://archive.ics.uci.edu/ml/datasets/Car+Evaluation\n"
   ]
  },
  {
   "cell_type": "code",
   "execution_count": null,
   "metadata": {},
   "outputs": [],
   "source": [
    "df_cars = pd.read_csv('https://archive.ics.uci.edu/ml/machine-learning-databases/car/car.data', header=None)\n",
    "df_cars.columns = ['Buying_Price', 'Maintenance', 'Doors', 'Persons', 'Boot_Space', 'Safety', 'Acceptability']\n",
    "\n",
    "df_cars.sample(5)"
   ]
  },
  {
   "cell_type": "code",
   "execution_count": null,
   "metadata": {},
   "outputs": [],
   "source": [
    "df_cars.shape"
   ]
  },
  {
   "cell_type": "code",
   "execution_count": null,
   "metadata": {},
   "outputs": [],
   "source": [
    "# We want to see the number of cars of across different price ranges and acceptability.\n",
    "# Using crosstab, we can read off the numbers quite easily. For example, there are 39 low priced cars\n",
    "# that are also high acceptable.\n",
    "\n",
    "\n",
    "pd.crosstab( df_cars['Buying_Price'] , df_cars['Acceptability'], margins=True )"
   ]
  },
  {
   "cell_type": "markdown",
   "metadata": {},
   "source": [
    "#### Merge (similar to join in SQL) <a class=\"anchor\" id=\"useful-merge\"></a>"
   ]
  },
  {
   "cell_type": "code",
   "execution_count": null,
   "metadata": {
    "collapsed": true
   },
   "outputs": [],
   "source": [
    "import pandas as pd\n",
    "\n",
    "df_bikes = pd.read_csv('misc/bike_price.csv')\n",
    "df_type= pd.read_csv('misc/bike_type.csv')"
   ]
  },
  {
   "cell_type": "code",
   "execution_count": null,
   "metadata": {},
   "outputs": [],
   "source": [
    "pd.merge(df_bikes,df_type,on='TypeNumber',how='inner')"
   ]
  },
  {
   "cell_type": "markdown",
   "metadata": {},
   "source": [
    "#### Melt <a class=\"anchor\" id=\"useful-melt\"></a>\n",
    "\n",
    "Melt is a function that reshapes the dataframe by converting column names into values."
   ]
  },
  {
   "cell_type": "code",
   "execution_count": null,
   "metadata": {},
   "outputs": [],
   "source": [
    "temp_week = {\n",
    "    'Channel': [ 'BT-TV' ,'CNN','BBC', 'Google'],\n",
    "    'Mon': [26,26,27,25],\n",
    "    'Tue': [25,26,27,25],\n",
    "    'Wed': [27,26,27,25],\n",
    "    'Thu': [29,28,28,28],\n",
    "    'Fri': [26,26,27,26],\n",
    "    'Sat': [26,24,27,25],\n",
    "    'Sun': [23,23,23,22]\n",
    "       \n",
    "}\n",
    "df = pd.DataFrame(data=temp_week)\n",
    "df = df[ ['Channel','Mon','Tue','Wed','Thu','Fri','Sat','Sun'] ] # cols by default are sored in alphabetical order\n",
    "df"
   ]
  },
  {
   "cell_type": "code",
   "execution_count": null,
   "metadata": {},
   "outputs": [],
   "source": [
    "df.set_index(keys='Channel')"
   ]
  },
  {
   "cell_type": "code",
   "execution_count": null,
   "metadata": {},
   "outputs": [],
   "source": [
    "temp_df = pd.melt(df, id_vars=['Channel'], var_name='Day', value_name='Temperature')\n",
    "temp_df"
   ]
  },
  {
   "cell_type": "markdown",
   "metadata": {},
   "source": [
    "#### Pivot  <a class=\"anchor\" id=\"useful-pivot\"></a>\n",
    "\n",
    "Pivot is the reverse of melt."
   ]
  },
  {
   "cell_type": "code",
   "execution_count": null,
   "metadata": {},
   "outputs": [],
   "source": [
    "temp_df.pivot(index='Channel', columns='Day', values='Temperature')"
   ]
  },
  {
   "cell_type": "code",
   "execution_count": null,
   "metadata": {},
   "outputs": [],
   "source": [
    "# Pivot_table can be used to get aggregate measures. But the prefered way to do this is groupby\n",
    "import numpy as np\n",
    "pd.pivot_table(temp_df, columns=['Day'], values='Temperature', aggfunc=np.mean)"
   ]
  },
  {
   "cell_type": "markdown",
   "metadata": {},
   "source": [
    "#### Stack/Unstack <a class=\"anchor\" id=\"useful-stack\"></a>\n",
    "\n",
    "These functions are similar to pivot and melt except that they work on multi-level indexed tables. Let us suppose we have a dataframe with multi-level index as shown below. We can convert the typenumber into a column similar sing unstack. "
   ]
  },
  {
   "cell_type": "code",
   "execution_count": null,
   "metadata": {},
   "outputs": [],
   "source": [
    "df_bikes.sort_values(by=['TypeNumber'],inplace=True)\n",
    "df_multi = df_bikes.set_index(['TypeNumber','Model'])\n",
    "df_multi"
   ]
  },
  {
   "cell_type": "code",
   "execution_count": null,
   "metadata": {},
   "outputs": [],
   "source": [
    "df_unstacked = df_multi.unstack(level='TypeNumber')\n",
    "df_unstacked"
   ]
  },
  {
   "cell_type": "code",
   "execution_count": null,
   "metadata": {},
   "outputs": [],
   "source": [
    "# Once would expect stack to do undo the unstack operation, but it does not quite do so. \n",
    "# They reason is because stack() has a preference for what is attribute is picked as the stacked level.\n",
    "# Understanding the exact behaviour involves some info about multi-indexes which we have not discussed.\n",
    "\n",
    "df_unstacked.stack('TypeNumber')"
   ]
  },
  {
   "cell_type": "code",
   "execution_count": null,
   "metadata": {
    "collapsed": true
   },
   "outputs": [],
   "source": []
  },
  {
   "cell_type": "code",
   "execution_count": null,
   "metadata": {
    "collapsed": true
   },
   "outputs": [],
   "source": []
  }
 ],
 "metadata": {
  "kernelspec": {
   "display_name": "Python 3",
   "language": "python",
   "name": "python3"
  },
  "language_info": {
   "codemirror_mode": {
    "name": "ipython",
    "version": 3
   },
   "file_extension": ".py",
   "mimetype": "text/x-python",
   "name": "python",
   "nbconvert_exporter": "python",
   "pygments_lexer": "ipython3",
   "version": "3.7.3"
  }
 },
 "nbformat": 4,
 "nbformat_minor": 1
}
