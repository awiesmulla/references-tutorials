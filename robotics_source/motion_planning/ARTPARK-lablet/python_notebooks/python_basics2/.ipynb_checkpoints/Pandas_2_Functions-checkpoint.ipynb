{
 "cells": [
  {
   "cell_type": "markdown",
   "metadata": {},
   "source": [
    "### Functions on Pandas Dataframe"
   ]
  },
  {
   "cell_type": "markdown",
   "metadata": {},
   "source": [
    "\n",
    "* [Aggregate functions: Groupby](#fun-first)\n",
    "* [Custom function: apply](#fun-second)\n",
    "* [Uber NY taxi dataset](#fun-third)\n"
   ]
  },
  {
   "cell_type": "markdown",
   "metadata": {},
   "source": [
    "### Groupby operation <a class=\"anchor\" id=\"fun-first\"></a>"
   ]
  },
  {
   "cell_type": "code",
   "execution_count": null,
   "metadata": {},
   "outputs": [],
   "source": [
    "import pandas as pd\n",
    "df = pd.read_csv('misc/studentmarks2.csv', sep=\",\", header=None)\n",
    "df.columns = ['Name','Marks1','Marks2']\n",
    "\n",
    "df['Grade'] = ['Fourth','Fourth','Third',\"Third\",\"Third\",\"Second\",\"Second\",\"Second\",\"Third\",\"Second\",\"Second\" ]\n"
   ]
  },
  {
   "cell_type": "code",
   "execution_count": null,
   "metadata": {},
   "outputs": [],
   "source": [
    "df.shape"
   ]
  },
  {
   "cell_type": "code",
   "execution_count": null,
   "metadata": {},
   "outputs": [],
   "source": [
    "# What is the mean score of students of a particular grade? To find out we groupby the grade and take the mean.\n",
    "import numpy as np\n",
    "df_grade = df[ ['Marks1','Marks2'] ].groupby(df['Grade'])\n",
    "\n"
   ]
  },
  {
   "cell_type": "code",
   "execution_count": null,
   "metadata": {},
   "outputs": [],
   "source": [
    "type(df_grade)"
   ]
  },
  {
   "cell_type": "code",
   "execution_count": null,
   "metadata": {},
   "outputs": [],
   "source": [
    "# We can apply aggregate operations like count, sum, max, min, mean, etc. on a group by object\n",
    "df_grade.mean()\n"
   ]
  },
  {
   "cell_type": "code",
   "execution_count": null,
   "metadata": {},
   "outputs": [],
   "source": [
    "df_grade.max()"
   ]
  },
  {
   "cell_type": "code",
   "execution_count": null,
   "metadata": {},
   "outputs": [],
   "source": [
    "g = df_grade.max().reset_index()"
   ]
  },
  {
   "cell_type": "code",
   "execution_count": null,
   "metadata": {},
   "outputs": [],
   "source": [
    "g"
   ]
  },
  {
   "cell_type": "markdown",
   "metadata": {},
   "source": [
    "### Custom functions: Apply method <a class=\"anchor\" id=\"fun-second\"></a>\n",
    "\n",
    "We can use the method <code>apply</code> that allows us to manipulate data using custom function. As an example, here is how one would find the standard deviation of the marks. There is no built-in aggregate function for std. dev but we can use a fuction from <code>numpy</code>.\n"
   ]
  },
  {
   "cell_type": "code",
   "execution_count": null,
   "metadata": {},
   "outputs": [],
   "source": [
    "import numpy as np\n",
    "\n",
    "df_grade.apply(np.std) \n"
   ]
  },
  {
   "cell_type": "markdown",
   "metadata": {},
   "source": [
    "#### Apply function on rows"
   ]
  },
  {
   "cell_type": "code",
   "execution_count": null,
   "metadata": {},
   "outputs": [],
   "source": [
    "# We use use the apply function on rows by using the option axis=1 or axis='columns'. \n",
    "# Here we give an alternate way to get the total column using apply.\n",
    "\n",
    "def sumup(row):\n",
    "    return row['Marks1'] + row['Marks2']\n",
    "\n",
    "df['Total'] = df.apply(sumup,axis='columns')"
   ]
  },
  {
   "cell_type": "code",
   "execution_count": null,
   "metadata": {},
   "outputs": [],
   "source": [
    "df"
   ]
  },
  {
   "cell_type": "markdown",
   "metadata": {},
   "source": [
    "### Problem: Uber taxi drives <a class=\"anchor\" id=\"fun-third\"></a>\n",
    "\n",
    "We have a dataset about 10000 Uber rides from one day in New York city. The columns give information about time and location of each pickup. "
   ]
  },
  {
   "cell_type": "code",
   "execution_count": 86,
   "metadata": {},
   "outputs": [
    {
     "data": {
      "text/plain": [
       "Index(['Id', 'Date/Time', 'Lat', 'Lon', 'Base'], dtype='object')"
      ]
     },
     "execution_count": 86,
     "metadata": {},
     "output_type": "execute_result"
    }
   ],
   "source": [
    "%matplotlib inline\n",
    "import pandas as pd\n",
    "import matplotlib.pyplot as plt\n",
    "\n",
    "uber_df = pd.read_csv('misc/uber-apr14.csv')\n",
    "uber_df.columns"
   ]
  },
  {
   "cell_type": "code",
   "execution_count": null,
   "metadata": {},
   "outputs": [],
   "source": [
    "uber_df.info()"
   ]
  },
  {
   "cell_type": "code",
   "execution_count": null,
   "metadata": {},
   "outputs": [],
   "source": [
    "uber_df.head()"
   ]
  },
  {
   "cell_type": "markdown",
   "metadata": {},
   "source": [
    "**Q1. Datetime format**. The information about dataframe shows that the column 'Date/Time' is in object format. Convert the column to pandas datetime format. Use the function <code>to_datetime</code> as given below."
   ]
  },
  {
   "cell_type": "code",
   "execution_count": null,
   "metadata": {},
   "outputs": [],
   "source": [
    "pd.to_datetime('1/6/2014 0:11:00').weekday()\n"
   ]
  },
  {
   "cell_type": "markdown",
   "metadata": {},
   "source": [
    "**Q2.** Add a new column called 'Day' denoting the day of the week. Values of this column should be from 1 to 7. "
   ]
  },
  {
   "cell_type": "code",
   "execution_count": null,
   "metadata": {
    "collapsed": true
   },
   "outputs": [],
   "source": []
  },
  {
   "cell_type": "markdown",
   "metadata": {},
   "source": [
    "**Q3.** Find the average number of rides for each day of the week."
   ]
  },
  {
   "cell_type": "code",
   "execution_count": null,
   "metadata": {
    "collapsed": true
   },
   "outputs": [],
   "source": [
    "\n"
   ]
  },
  {
   "cell_type": "markdown",
   "metadata": {},
   "source": [
    "**Q4.** By plotting the points we can see that most of the rides happen within the city. We can restrict the plot to a fixed intervals using <code>xlim</code> and <code>ylim</code>. Find two longitude values such that 80% of the points are contained within them. Use the quantile function. Do the same for latitude values and plot the figure again."
   ]
  },
  {
   "cell_type": "code",
   "execution_count": null,
   "metadata": {},
   "outputs": [],
   "source": [
    "\n",
    "plt.figure(figsize=(12, 12))\n",
    "plt.plot(data['Lon'], data['Lat'], '.',alpha=0.5)\n",
    "#plt.xlim(-74.2,-73.8)\n"
   ]
  },
  {
   "cell_type": "code",
   "execution_count": null,
   "metadata": {
    "collapsed": true
   },
   "outputs": [],
   "source": []
  }
 ],
 "metadata": {
  "kernelspec": {
   "display_name": "Python 3",
   "language": "python",
   "name": "python3"
  },
  "language_info": {
   "codemirror_mode": {
    "name": "ipython",
    "version": 3
   },
   "file_extension": ".py",
   "mimetype": "text/x-python",
   "name": "python",
   "nbconvert_exporter": "python",
   "pygments_lexer": "ipython3",
   "version": "3.7.3"
  }
 },
 "nbformat": 4,
 "nbformat_minor": 1
}
