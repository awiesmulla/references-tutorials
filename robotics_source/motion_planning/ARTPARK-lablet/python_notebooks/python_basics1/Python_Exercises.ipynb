{
 "cells": [
  {
   "cell_type": "markdown",
   "metadata": {},
   "source": [
    "### Introduction to Python - Exercises"
   ]
  },
  {
   "cell_type": "markdown",
   "metadata": {},
   "source": [
    "#### 1. Palindrome checker\n",
    "Write a function <code>is_palindrome</code> that takes a number and returns <code>True</code> if it's a palindrome and <code>False</code> otherwise."
   ]
  },
  {
   "cell_type": "code",
   "execution_count": 1,
   "metadata": {
    "collapsed": true
   },
   "outputs": [],
   "source": [
    "# def is_palindrome(x):\n",
    "  "
   ]
  },
  {
   "cell_type": "markdown",
   "metadata": {},
   "source": [
    "#### 2. Sum of squares\n",
    "Write a function <code>sum_squares</code> that takes a value <code>n</code> and returns the sum of the squares of the first <code>n</code> integers. Use the map and sum functions."
   ]
  },
  {
   "cell_type": "code",
   "execution_count": 2,
   "metadata": {
    "collapsed": true
   },
   "outputs": [],
   "source": [
    "# def sum_squares(n):\n",
    "  "
   ]
  },
  {
   "cell_type": "markdown",
   "metadata": {},
   "source": [
    "#### 3. Generate the grid pattern\n",
    "\n",
    "Consider the given grid and generate the required grid pattern"
   ]
  },
  {
   "cell_type": "code",
   "execution_count": 1,
   "metadata": {
    "scrolled": true
   },
   "outputs": [
    {
     "data": {
      "text/html": [
       "<style type=\"text/css\">table.blockgrid {border: none;} .blockgrid tr {border: none;} .blockgrid td {padding: 0px;} #blocksfcb49157-804c-4786-af5e-775023f30c2e td {border: 1px solid black;}</style><table id=\"blocksfcb49157-804c-4786-af5e-775023f30c2e\" class=\"blockgrid\"><tbody><tr><td title=\"0 0\" style=\"width: 30px; height: 30px;background-color: rgb(240, 240, 240);\"></td><td title=\"0 1\" style=\"width: 30px; height: 30px;background-color: rgb(240, 240, 240);\"></td><td title=\"0 2\" style=\"width: 30px; height: 30px;background-color: rgb(240, 240, 240);\"></td><td title=\"0 3\" style=\"width: 30px; height: 30px;background-color: rgb(240, 240, 240);\"></td><td title=\"0 4\" style=\"width: 30px; height: 30px;background-color: rgb(240, 240, 240);\"></td><td title=\"0 5\" style=\"width: 30px; height: 30px;background-color: rgb(240, 240, 240);\"></td><td title=\"0 6\" style=\"width: 30px; height: 30px;background-color: rgb(240, 240, 240);\"></td><td title=\"0 7\" style=\"width: 30px; height: 30px;background-color: rgb(240, 240, 240);\"></td></tr><tr><td title=\"1 0\" style=\"width: 30px; height: 30px;background-color: rgb(240, 240, 240);\"></td><td title=\"1 1\" style=\"width: 30px; height: 30px;background-color: rgb(240, 240, 240);\"></td><td title=\"1 2\" style=\"width: 30px; height: 30px;background-color: rgb(240, 240, 240);\"></td><td title=\"1 3\" style=\"width: 30px; height: 30px;background-color: rgb(240, 240, 240);\"></td><td title=\"1 4\" style=\"width: 30px; height: 30px;background-color: rgb(240, 240, 240);\"></td><td title=\"1 5\" style=\"width: 30px; height: 30px;background-color: rgb(240, 240, 240);\"></td><td title=\"1 6\" style=\"width: 30px; height: 30px;background-color: rgb(240, 240, 240);\"></td><td title=\"1 7\" style=\"width: 30px; height: 30px;background-color: rgb(240, 240, 240);\"></td></tr><tr><td title=\"2 0\" style=\"width: 30px; height: 30px;background-color: rgb(240, 240, 240);\"></td><td title=\"2 1\" style=\"width: 30px; height: 30px;background-color: rgb(240, 240, 240);\"></td><td title=\"2 2\" style=\"width: 30px; height: 30px;background-color: rgb(240, 240, 240);\"></td><td title=\"2 3\" style=\"width: 30px; height: 30px;background-color: rgb(240, 240, 240);\"></td><td title=\"2 4\" style=\"width: 30px; height: 30px;background-color: rgb(240, 240, 240);\"></td><td title=\"2 5\" style=\"width: 30px; height: 30px;background-color: rgb(240, 240, 240);\"></td><td title=\"2 6\" style=\"width: 30px; height: 30px;background-color: rgb(240, 240, 240);\"></td><td title=\"2 7\" style=\"width: 30px; height: 30px;background-color: rgb(240, 240, 240);\"></td></tr><tr><td title=\"3 0\" style=\"width: 30px; height: 30px;background-color: rgb(240, 240, 240);\"></td><td title=\"3 1\" style=\"width: 30px; height: 30px;background-color: rgb(240, 240, 240);\"></td><td title=\"3 2\" style=\"width: 30px; height: 30px;background-color: rgb(240, 240, 240);\"></td><td title=\"3 3\" style=\"width: 30px; height: 30px;background-color: rgb(240, 240, 240);\"></td><td title=\"3 4\" style=\"width: 30px; height: 30px;background-color: rgb(240, 240, 240);\"></td><td title=\"3 5\" style=\"width: 30px; height: 30px;background-color: rgb(240, 240, 240);\"></td><td title=\"3 6\" style=\"width: 30px; height: 30px;background-color: rgb(240, 240, 240);\"></td><td title=\"3 7\" style=\"width: 30px; height: 30px;background-color: rgb(240, 240, 240);\"></td></tr><tr><td title=\"4 0\" style=\"width: 30px; height: 30px;background-color: rgb(240, 240, 240);\"></td><td title=\"4 1\" style=\"width: 30px; height: 30px;background-color: rgb(240, 240, 240);\"></td><td title=\"4 2\" style=\"width: 30px; height: 30px;background-color: rgb(240, 240, 240);\"></td><td title=\"4 3\" style=\"width: 30px; height: 30px;background-color: rgb(240, 240, 240);\"></td><td title=\"4 4\" style=\"width: 30px; height: 30px;background-color: rgb(240, 240, 240);\"></td><td title=\"4 5\" style=\"width: 30px; height: 30px;background-color: rgb(240, 240, 240);\"></td><td title=\"4 6\" style=\"width: 30px; height: 30px;background-color: rgb(240, 240, 240);\"></td><td title=\"4 7\" style=\"width: 30px; height: 30px;background-color: rgb(240, 240, 240);\"></td></tr><tr><td title=\"5 0\" style=\"width: 30px; height: 30px;background-color: rgb(240, 240, 240);\"></td><td title=\"5 1\" style=\"width: 30px; height: 30px;background-color: rgb(240, 240, 240);\"></td><td title=\"5 2\" style=\"width: 30px; height: 30px;background-color: rgb(240, 240, 240);\"></td><td title=\"5 3\" style=\"width: 30px; height: 30px;background-color: rgb(240, 240, 240);\"></td><td title=\"5 4\" style=\"width: 30px; height: 30px;background-color: rgb(240, 240, 240);\"></td><td title=\"5 5\" style=\"width: 30px; height: 30px;background-color: rgb(240, 240, 240);\"></td><td title=\"5 6\" style=\"width: 30px; height: 30px;background-color: rgb(240, 240, 240);\"></td><td title=\"5 7\" style=\"width: 30px; height: 30px;background-color: rgb(240, 240, 240);\"></td></tr><tr><td title=\"6 0\" style=\"width: 30px; height: 30px;background-color: rgb(240, 240, 240);\"></td><td title=\"6 1\" style=\"width: 30px; height: 30px;background-color: rgb(240, 240, 240);\"></td><td title=\"6 2\" style=\"width: 30px; height: 30px;background-color: rgb(240, 240, 240);\"></td><td title=\"6 3\" style=\"width: 30px; height: 30px;background-color: rgb(240, 240, 240);\"></td><td title=\"6 4\" style=\"width: 30px; height: 30px;background-color: rgb(240, 240, 240);\"></td><td title=\"6 5\" style=\"width: 30px; height: 30px;background-color: rgb(240, 240, 240);\"></td><td title=\"6 6\" style=\"width: 30px; height: 30px;background-color: rgb(240, 240, 240);\"></td><td title=\"6 7\" style=\"width: 30px; height: 30px;background-color: rgb(240, 240, 240);\"></td></tr><tr><td title=\"7 0\" style=\"width: 30px; height: 30px;background-color: rgb(240, 240, 240);\"></td><td title=\"7 1\" style=\"width: 30px; height: 30px;background-color: rgb(240, 240, 240);\"></td><td title=\"7 2\" style=\"width: 30px; height: 30px;background-color: rgb(240, 240, 240);\"></td><td title=\"7 3\" style=\"width: 30px; height: 30px;background-color: rgb(240, 240, 240);\"></td><td title=\"7 4\" style=\"width: 30px; height: 30px;background-color: rgb(240, 240, 240);\"></td><td title=\"7 5\" style=\"width: 30px; height: 30px;background-color: rgb(240, 240, 240);\"></td><td title=\"7 6\" style=\"width: 30px; height: 30px;background-color: rgb(240, 240, 240);\"></td><td title=\"7 7\" style=\"width: 30px; height: 30px;background-color: rgb(240, 240, 240);\"></td></tr></tbody></table>"
      ],
      "text/plain": [
       "<IPython.core.display.HTML object>"
      ]
     },
     "metadata": {},
     "output_type": "display_data"
    }
   ],
   "source": [
    "import grid\n",
    "grid.create_grid(8,8)\n",
    "grid.show()"
   ]
  },
  {
   "cell_type": "code",
   "execution_count": 2,
   "metadata": {
    "scrolled": true
   },
   "outputs": [
    {
     "data": {
      "text/html": [
       "<style type=\"text/css\">table.blockgrid {border: none;} .blockgrid tr {border: none;} .blockgrid td {padding: 0px;} #blocks9df0614e-814f-4b5a-b0de-7b2aeaba6429 td {border: 1px solid black;}</style><table id=\"blocks9df0614e-814f-4b5a-b0de-7b2aeaba6429\" class=\"blockgrid\"><tbody><tr><td title=\"0 0\" style=\"width: 30px; height: 30px;background-color: rgb(240, 240, 240);\"></td><td title=\"0 1\" style=\"width: 30px; height: 30px;background-color: rgb(240, 240, 240);\"></td><td title=\"0 2\" style=\"width: 30px; height: 30px;background-color: rgb(240, 240, 240);\"></td><td title=\"0 3\" style=\"width: 30px; height: 30px;background-color: rgb(240, 240, 240);\"></td><td title=\"0 4\" style=\"width: 30px; height: 30px;background-color: rgb(240, 240, 240);\"></td><td title=\"0 5\" style=\"width: 30px; height: 30px;background-color: rgb(240, 240, 240);\"></td><td title=\"0 6\" style=\"width: 30px; height: 30px;background-color: rgb(240, 240, 240);\"></td><td title=\"0 7\" style=\"width: 30px; height: 30px;background-color: rgb(240, 240, 240);\"></td></tr><tr><td title=\"1 0\" style=\"width: 30px; height: 30px;background-color: rgb(240, 240, 240);\"></td><td title=\"1 1\" style=\"width: 30px; height: 30px;background-color: rgb(240, 240, 240);\"></td><td title=\"1 2\" style=\"width: 30px; height: 30px;background-color: rgb(240, 240, 240);\"></td><td title=\"1 3\" style=\"width: 30px; height: 30px;background-color: rgb(240, 240, 240);\"></td><td title=\"1 4\" style=\"width: 30px; height: 30px;background-color: rgb(240, 240, 240);\"></td><td title=\"1 5\" style=\"width: 30px; height: 30px;background-color: rgb(240, 240, 240);\"></td><td title=\"1 6\" style=\"width: 30px; height: 30px;background-color: rgb(240, 240, 240);\"></td><td title=\"1 7\" style=\"width: 30px; height: 30px;background-color: rgb(240, 240, 240);\"></td></tr><tr><td title=\"2 0\" style=\"width: 30px; height: 30px;background-color: rgb(240, 240, 240);\"></td><td title=\"2 1\" style=\"width: 30px; height: 30px;background-color: rgb(240, 240, 240);\"></td><td title=\"2 2\" style=\"width: 30px; height: 30px;background-color: rgb(240, 240, 240);\"></td><td title=\"2 3\" style=\"width: 30px; height: 30px;background-color: rgb(240, 240, 240);\"></td><td title=\"2 4\" style=\"width: 30px; height: 30px;background-color: rgb(240, 240, 240);\"></td><td title=\"2 5\" style=\"width: 30px; height: 30px;background-color: rgb(240, 240, 240);\"></td><td title=\"2 6\" style=\"width: 30px; height: 30px;background-color: rgb(240, 240, 240);\"></td><td title=\"2 7\" style=\"width: 30px; height: 30px;background-color: rgb(240, 240, 240);\"></td></tr><tr><td title=\"3 0\" style=\"width: 30px; height: 30px;background-color: rgb(240, 240, 240);\"></td><td title=\"3 1\" style=\"width: 30px; height: 30px;background-color: rgb(240, 240, 240);\"></td><td title=\"3 2\" style=\"width: 30px; height: 30px;background-color: rgb(240, 240, 240);\"></td><td title=\"3 3\" style=\"width: 30px; height: 30px;background-color: rgb(240, 240, 240);\"></td><td title=\"3 4\" style=\"width: 30px; height: 30px;background-color: rgb(240, 240, 240);\"></td><td title=\"3 5\" style=\"width: 30px; height: 30px;background-color: rgb(240, 240, 240);\"></td><td title=\"3 6\" style=\"width: 30px; height: 30px;background-color: rgb(240, 240, 240);\"></td><td title=\"3 7\" style=\"width: 30px; height: 30px;background-color: rgb(240, 240, 240);\"></td></tr><tr><td title=\"4 0\" style=\"width: 30px; height: 30px;background-color: rgb(240, 240, 240);\"></td><td title=\"4 1\" style=\"width: 30px; height: 30px;background-color: rgb(240, 240, 240);\"></td><td title=\"4 2\" style=\"width: 30px; height: 30px;background-color: rgb(240, 240, 240);\"></td><td title=\"4 3\" style=\"width: 30px; height: 30px;background-color: rgb(240, 240, 240);\"></td><td title=\"4 4\" style=\"width: 30px; height: 30px;background-color: rgb(240, 240, 240);\"></td><td title=\"4 5\" style=\"width: 30px; height: 30px;background-color: rgb(240, 240, 240);\"></td><td title=\"4 6\" style=\"width: 30px; height: 30px;background-color: rgb(240, 240, 240);\"></td><td title=\"4 7\" style=\"width: 30px; height: 30px;background-color: rgb(240, 240, 240);\"></td></tr><tr><td title=\"5 0\" style=\"width: 30px; height: 30px;background-color: rgb(240, 240, 240);\"></td><td title=\"5 1\" style=\"width: 30px; height: 30px;background-color: rgb(240, 240, 240);\"></td><td title=\"5 2\" style=\"width: 30px; height: 30px;background-color: rgb(240, 240, 240);\"></td><td title=\"5 3\" style=\"width: 30px; height: 30px;background-color: rgb(240, 240, 240);\"></td><td title=\"5 4\" style=\"width: 30px; height: 30px;background-color: rgb(240, 240, 240);\"></td><td title=\"5 5\" style=\"width: 30px; height: 30px;background-color: rgb(240, 240, 240);\"></td><td title=\"5 6\" style=\"width: 30px; height: 30px;background-color: rgb(240, 240, 240);\"></td><td title=\"5 7\" style=\"width: 30px; height: 30px;background-color: rgb(240, 240, 240);\"></td></tr><tr><td title=\"6 0\" style=\"width: 30px; height: 30px;background-color: rgb(240, 240, 240);\"></td><td title=\"6 1\" style=\"width: 30px; height: 30px;background-color: rgb(240, 240, 240);\"></td><td title=\"6 2\" style=\"width: 30px; height: 30px;background-color: rgb(240, 240, 240);\"></td><td title=\"6 3\" style=\"width: 30px; height: 30px;background-color: rgb(240, 240, 240);\"></td><td title=\"6 4\" style=\"width: 30px; height: 30px;background-color: rgb(240, 240, 240);\"></td><td title=\"6 5\" style=\"width: 30px; height: 30px;background-color: rgb(240, 240, 240);\"></td><td title=\"6 6\" style=\"width: 30px; height: 30px;background-color: rgb(60, 60, 60);\"></td><td title=\"6 7\" style=\"width: 30px; height: 30px;background-color: rgb(240, 240, 240);\"></td></tr><tr><td title=\"7 0\" style=\"width: 30px; height: 30px;background-color: rgb(240, 240, 240);\"></td><td title=\"7 1\" style=\"width: 30px; height: 30px;background-color: rgb(240, 240, 240);\"></td><td title=\"7 2\" style=\"width: 30px; height: 30px;background-color: rgb(240, 240, 240);\"></td><td title=\"7 3\" style=\"width: 30px; height: 30px;background-color: rgb(240, 240, 240);\"></td><td title=\"7 4\" style=\"width: 30px; height: 30px;background-color: rgb(240, 240, 240);\"></td><td title=\"7 5\" style=\"width: 30px; height: 30px;background-color: rgb(240, 240, 240);\"></td><td title=\"7 6\" style=\"width: 30px; height: 30px;background-color: rgb(240, 240, 240);\"></td><td title=\"7 7\" style=\"width: 30px; height: 30px;background-color: rgb(240, 240, 240);\"></td></tr></tbody></table>"
      ],
      "text/plain": [
       "<IPython.core.display.HTML object>"
      ]
     },
     "metadata": {},
     "output_type": "display_data"
    }
   ],
   "source": [
    "grid.paint_black(6,6) # Operation will overwrite on the previous grid pattern without clearing it\n",
    "grid.show() "
   ]
  },
  {
   "cell_type": "markdown",
   "metadata": {},
   "source": [
    "Write a program to generate the following pattern\n",
    "\n",
    "![](./misc/grid_question.png)"
   ]
  },
  {
   "cell_type": "markdown",
   "metadata": {},
   "source": [
    "#### 4. Sort student marks list"
   ]
  },
  {
   "cell_type": "code",
   "execution_count": 2,
   "metadata": {
    "collapsed": true
   },
   "outputs": [],
   "source": [
    "file = open('./misc/studentmarks1.csv','r')\n",
    "marks_list = file.read().splitlines()"
   ]
  },
  {
   "cell_type": "code",
   "execution_count": 3,
   "metadata": {},
   "outputs": [
    {
     "data": {
      "text/plain": [
       "['sagar,15',\n",
       " 'priya,25',\n",
       " 'sandy,20',\n",
       " 'adil,30',\n",
       " 'ranjan,40',\n",
       " 'shuba,20',\n",
       " 'james,15',\n",
       " 'himanshu,35',\n",
       " 'arya,37',\n",
       " 'soumya,40']"
      ]
     },
     "execution_count": 3,
     "metadata": {},
     "output_type": "execute_result"
    }
   ],
   "source": [
    "marks_list"
   ]
  },
  {
   "cell_type": "code",
   "execution_count": 1,
   "metadata": {
    "scrolled": true
   },
   "outputs": [
    {
     "data": {
      "text/plain": [
       "[('ranjan', 40),\n",
       " ('soumya', 40),\n",
       " ('arya', 37),\n",
       " ('himanshu', 35),\n",
       " ('adil', 30),\n",
       " ('priya', 25),\n",
       " ('sandy', 20),\n",
       " ('shuba', 20),\n",
       " ('sagar', 15),\n",
       " ('james', 15)]"
      ]
     },
     "execution_count": 1,
     "metadata": {},
     "output_type": "execute_result"
    }
   ],
   "source": [
    "marks_dict = {}\n",
    "for entries in marks_list:\n",
    "    name,marks=entries.split(',')\n",
    "    marks_dict[name]=int(marks)\n",
    "# print(marks_dict)\n",
    "sorted(marks_dict.items(),key=lambda x:x[1],reverse=True)"
   ]
  },
  {
   "cell_type": "markdown",
   "metadata": {},
   "source": [
    "Read the file <code>studentmarks2.csv</code> . There are two marks columns, sort the entries based on the first marks. If there is a tie then sort based on the second marks column."
   ]
  },
  {
   "cell_type": "code",
   "execution_count": 4,
   "metadata": {
    "collapsed": true
   },
   "outputs": [],
   "source": [
    "student_marks = open('./misc/studentmarks2.csv','r')"
   ]
  },
  {
   "cell_type": "markdown",
   "metadata": {},
   "source": [
    "#### 5. Format the table\n",
    "\n",
    "Read the file <code>studentmarks2.csv</code> and format it according to the given picture below.\n",
    "![marks_list](./misc/markslist.png)"
   ]
  },
  {
   "cell_type": "code",
   "execution_count": 6,
   "metadata": {
    "collapsed": true
   },
   "outputs": [],
   "source": [
    "student_marks = open('./misc/studentmarks2.csv','r')"
   ]
  },
  {
   "cell_type": "markdown",
   "metadata": {},
   "source": [
    "#### 5. Word frequency\n",
    "\n",
    "The file <code>novel_conard.txt</code> contains the text of a book by Joseph Conard. We wish construct a dictionary that stores the number of times each word appears. Common words like <code>an, the, is, by</code>  are called stop words are not of much interest. So we want to construct a word frequency dictionary after removing the stop words from the novel. The list of stop_words is given in the file <code>stopwords.txt</code>.\n",
    "\n",
    "Following methods may be useful: .join to concatenate list of lines, .split(), .get() on dict.\n",
    "\n",
    "eg: \" \".join(['function',' to',' join', ' string', ' elements'])\n",
    "    o/p: function to join string elements\n",
    "    "
   ]
  },
  {
   "cell_type": "code",
   "execution_count": 6,
   "metadata": {},
   "outputs": [],
   "source": [
    "novel_file = open('./misc/novel_conard.txt','r')\n",
    "stop_file = open('./misc/stopwords.txt','r')\n",
    "novel_text = novel_file.read().splitlines()\n",
    "stop_word_list = stop_file.read().splitlines()\n"
   ]
  }
 ],
 "metadata": {
  "kernelspec": {
   "display_name": "Python 3",
   "language": "python",
   "name": "python3"
  },
  "language_info": {
   "codemirror_mode": {
    "name": "ipython",
    "version": 3
   },
   "file_extension": ".py",
   "mimetype": "text/x-python",
   "name": "python",
   "nbconvert_exporter": "python",
   "pygments_lexer": "ipython3",
   "version": "3.7.3"
  }
 },
 "nbformat": 4,
 "nbformat_minor": 2
}
