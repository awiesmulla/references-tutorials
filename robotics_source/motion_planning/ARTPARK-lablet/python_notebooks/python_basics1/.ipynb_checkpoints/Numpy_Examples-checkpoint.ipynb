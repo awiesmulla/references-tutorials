{
 "cells": [
  {
   "cell_type": "markdown",
   "metadata": {},
   "source": [
    "## **Numerical Python**\n",
    "\n",
    "Numpy is one of the important packages for numerical computation designed for efficiency to work on large data sets. In this workbook we shall explore its features through some examples"
   ]
  },
  {
   "cell_type": "markdown",
   "metadata": {},
   "source": [
    "#### 1. Intializing Matrices\n",
    "\n",
    "A n-dimensional arrays are the most frequently used objects in machine learning. Numpy is tailor-made to perform efficient operations on such arrays."
   ]
  },
  {
   "cell_type": "code",
   "execution_count": 1,
   "metadata": {},
   "outputs": [],
   "source": [
    "# Create vector\n",
    "import numpy as np\n",
    "mat = np.array([1, 2, 3, 4, 5, 6])"
   ]
  },
  {
   "cell_type": "code",
   "execution_count": 2,
   "metadata": {},
   "outputs": [
    {
     "data": {
      "text/plain": [
       "(6,)"
      ]
     },
     "execution_count": 2,
     "metadata": {},
     "output_type": "execute_result"
    }
   ],
   "source": [
    "mat.shape"
   ]
  },
  {
   "cell_type": "code",
   "execution_count": 3,
   "metadata": {},
   "outputs": [],
   "source": [
    "mat = np.array([[1,2,3],\n",
    "                [2,4,6]])"
   ]
  },
  {
   "cell_type": "code",
   "execution_count": 4,
   "metadata": {},
   "outputs": [
    {
     "data": {
      "text/plain": [
       "(2, 3)"
      ]
     },
     "execution_count": 4,
     "metadata": {},
     "output_type": "execute_result"
    }
   ],
   "source": [
    "mat.shape"
   ]
  },
  {
   "cell_type": "markdown",
   "metadata": {},
   "source": [
    "**In-class exercise**. Create a 5x4 numpy array where the ith row and jth col has the entry i+j.\n",
    "\n",
    "\n"
   ]
  },
  {
   "cell_type": "code",
   "execution_count": null,
   "metadata": {},
   "outputs": [],
   "source": [
    "\n"
   ]
  },
  {
   "cell_type": "markdown",
   "metadata": {},
   "source": [
    "#### 2. Matrix generation"
   ]
  },
  {
   "cell_type": "code",
   "execution_count": 5,
   "metadata": {},
   "outputs": [
    {
     "data": {
      "text/plain": [
       "array([[1., 0., 0.],\n",
       "       [0., 1., 0.],\n",
       "       [0., 0., 1.]])"
      ]
     },
     "execution_count": 5,
     "metadata": {},
     "output_type": "execute_result"
    }
   ],
   "source": [
    "#Identity matrix\n",
    "np.identity(3)"
   ]
  },
  {
   "cell_type": "code",
   "execution_count": 6,
   "metadata": {},
   "outputs": [
    {
     "name": "stdout",
     "output_type": "stream",
     "text": [
      "[[1. 1.]\n",
      " [1. 1.]\n",
      " [1. 1.]] \n",
      "Shape: (3, 2)\n"
     ]
    }
   ],
   "source": [
    "#ones matrix\n",
    "ones_m=np.ones([3,2]) #feed a tuple/list to get multidimension matrix\n",
    "print(ones_m,\"\\nShape:\",ones_m.shape)\n"
   ]
  },
  {
   "cell_type": "code",
   "execution_count": 7,
   "metadata": {},
   "outputs": [
    {
     "name": "stdout",
     "output_type": "stream",
     "text": [
      "[[1. 1. 1.]\n",
      " [1. 1. 1.]] \n",
      "Shape: (2, 3)\n"
     ]
    }
   ],
   "source": [
    "#transpose\n",
    "ones_transpose = ones_m.T\n",
    "print(ones_transpose,\"\\nShape:\",ones_transpose.shape)"
   ]
  },
  {
   "cell_type": "code",
   "execution_count": 8,
   "metadata": {},
   "outputs": [
    {
     "name": "stdout",
     "output_type": "stream",
     "text": [
      "[[1. 1. 1. 1. 1. 1.]] Shape: (1, 6)\n"
     ]
    }
   ],
   "source": [
    "#reshape\n",
    "ones_reshape = ones_m.reshape(1,6)\n",
    "print(ones_reshape,\"Shape:\",ones_reshape.shape)"
   ]
  },
  {
   "cell_type": "code",
   "execution_count": 9,
   "metadata": {},
   "outputs": [
    {
     "data": {
      "text/plain": [
       "array([[0., 0., 0., 0.],\n",
       "       [0., 0., 0., 0.],\n",
       "       [0., 0., 0., 0.]])"
      ]
     },
     "execution_count": 9,
     "metadata": {},
     "output_type": "execute_result"
    }
   ],
   "source": [
    "#zeros matrix\n",
    "np.zeros((3,4))"
   ]
  },
  {
   "cell_type": "markdown",
   "metadata": {},
   "source": [
    "#### 2. Indexing "
   ]
  },
  {
   "cell_type": "code",
   "execution_count": 10,
   "metadata": {},
   "outputs": [],
   "source": [
    "# Create an array of grand slam information\n",
    "Players = ['Roger Federer', 'Margaret Court', 'Rafael Nadal', 'Serena Williams', 'Pete Sampras', 'Steffi Graf', 'Novak Djokovic']\n",
    "Titles = [20, 24,17, 23,15, 22,14]\n",
    "Finals = [30, 29,25, 29,24,31, 19]"
   ]
  },
  {
   "cell_type": "code",
   "execution_count": 11,
   "metadata": {},
   "outputs": [],
   "source": [
    "grand_slam = np.array([Players,Titles,Finals])"
   ]
  },
  {
   "cell_type": "code",
   "execution_count": 12,
   "metadata": {},
   "outputs": [
    {
     "data": {
      "text/plain": [
       "array([['Roger Federer'],\n",
       "       ['20']], dtype='<U15')"
      ]
     },
     "execution_count": 12,
     "metadata": {},
     "output_type": "execute_result"
    }
   ],
   "source": [
    "grand_slam[0:2,0:1]"
   ]
  },
  {
   "cell_type": "markdown",
   "metadata": {},
   "source": [
    "**In-class exercise**. Notice that the names of men and women alternate. Index the matrix in such a way that only the info for men is printed."
   ]
  },
  {
   "cell_type": "code",
   "execution_count": null,
   "metadata": {},
   "outputs": [],
   "source": [
    "\n",
    "\n"
   ]
  },
  {
   "cell_type": "markdown",
   "metadata": {},
   "source": [
    "####  3. Dice rolling simulation\n",
    "\n",
    "Simulate the process of rolling a 6 faced die 10 times and find the probability of getting a number that is divisible by 3."
   ]
  },
  {
   "cell_type": "code",
   "execution_count": 13,
   "metadata": {},
   "outputs": [
    {
     "name": "stdout",
     "output_type": "stream",
     "text": [
      "0.5\n"
     ]
    }
   ],
   "source": [
    "import numpy as np #Import the python package\n",
    "trials = 10\n",
    "draws = np.random.randint(1,7,trials) # Generate 10 random integers in the range 1-6\n",
    "even_number_probability = draws[draws%3==0] #filter the array for even numbers\n",
    "print(even_number_probability.size/trials)"
   ]
  },
  {
   "cell_type": "markdown",
   "metadata": {},
   "source": [
    "**In-class exercise**. Solve the problem from the selection test using simulation: Two six-faced dice are rolled. Find the probability that their faces sum to 4.\n"
   ]
  },
  {
   "cell_type": "code",
   "execution_count": null,
   "metadata": {},
   "outputs": [],
   "source": [
    "\n",
    "\n"
   ]
  },
  {
   "cell_type": "markdown",
   "metadata": {},
   "source": [
    "#### 4. Reading CSV files: Economic factors\n",
    "\n",
    "Consider the following sample data on a quarterly basis on Indian economy sampled from RBI database containing Gross Value added, Forex, Borrowings for the period 2016 - Q1 2018.\n",
    "Find the correlation among different indicators."
   ]
  },
  {
   "cell_type": "code",
   "execution_count": 14,
   "metadata": {},
   "outputs": [
    {
     "name": "stdout",
     "output_type": "stream",
     "text": [
      "   Period  GVA       Forex   Borrowing  CPI \n",
      " 16-17 Q1  27750.63  359760  4406.34    5.25\n",
      "       Q2  27681.67  363172  943.86     5.66\n",
      "       Q3  28213.65  371990  2341.62    5.16\n",
      "       Q4  28830.35  360297  3906.87    3.74\n",
      " 17-18 Q1  29291.85  369955  4081.98    3.58\n",
      "       Q2  29378.24  386539  1312.33    2.2 \n",
      "       Q3  30082.46  399657  2342.97    2.97\n",
      "       Q4  31009.01  409367  3959.6     4.55\n",
      " 18-19 Q1  31626.22  424361  4484.1     4.59\n"
     ]
    }
   ],
   "source": [
    "import numpy as np\n",
    "\n",
    "f=open('./misc/economy_data.csv')\n",
    "data = f.read().split('\\n')\n",
    "for content in data[:-1]:\n",
    "    print(\"{0:>9s}  {1:9s} {2:7s} {3:10s} {4:4s}\".format(*(content.split(','))))"
   ]
  },
  {
   "cell_type": "code",
   "execution_count": 15,
   "metadata": {},
   "outputs": [
    {
     "name": "stdout",
     "output_type": "stream",
     "text": [
      "Data shape: (9, 4) , Data size: 36 , Data type: float32\n"
     ]
    }
   ],
   "source": [
    "#read data into numpy array\n",
    "#skip the header and 1st column\n",
    "data_np = np.genfromtxt('./misc/economy_data.csv',delimiter=\",\",skip_header=1,usecols=[1,2,3,4],dtype=\"float32\") #\n",
    "print(\"Data shape:\",data_np.shape, \", Data size:\",data_np.size, \", Data type:\",data_np.dtype)"
   ]
  },
  {
   "cell_type": "code",
   "execution_count": 16,
   "metadata": {},
   "outputs": [
    {
     "name": "stdout",
     "output_type": "stream",
     "text": [
      "Corrleation coefficients forex,borrowing\n",
      " [[1.         0.19624352]\n",
      " [0.19624352 1.        ]]\n"
     ]
    }
   ],
   "source": [
    "gva = data_np[:,0] #select all rows from 1st column\n",
    "forex = data_np[:,1]\n",
    "borrowing = data_np[:,2]\n",
    "cpi = data_np[:,3]\n",
    "print(\"Corrleation coefficients forex,borrowing\\n\",np.corrcoef(forex,borrowing))"
   ]
  },
  {
   "cell_type": "markdown",
   "metadata": {},
   "source": [
    "**In-class exercises**\n",
    "\n",
    "(a) Get the data of forex in the Q2 of 17-18."
   ]
  },
  {
   "cell_type": "code",
   "execution_count": null,
   "metadata": {},
   "outputs": [],
   "source": [
    "\n"
   ]
  },
  {
   "cell_type": "markdown",
   "metadata": {},
   "source": [
    "(b) Get the data of gva,cpi for Q3,Q4 of 16-17"
   ]
  },
  {
   "cell_type": "code",
   "execution_count": null,
   "metadata": {},
   "outputs": [],
   "source": []
  },
  {
   "cell_type": "markdown",
   "metadata": {},
   "source": [
    "(c)[Solved] Fetch rows where cpi is less than 3"
   ]
  },
  {
   "cell_type": "code",
   "execution_count": 17,
   "metadata": {},
   "outputs": [
    {
     "name": "stdout",
     "output_type": "stream",
     "text": [
      "Rows: [False False False False False  True  True False False]\n",
      "\n",
      "Dataset where cpi < 3\n",
      " [[2.937824e+04 3.865390e+05 1.312330e+03 2.200000e+00]\n",
      " [3.008246e+04 3.996570e+05 2.342970e+03 2.970000e+00]]\n"
     ]
    }
   ],
   "source": [
    "print(\"Rows:\",data_np[:,-1]<3)\n",
    "print(\"\\nDataset where cpi < 3\\n\", data_np[data_np[:,-1]<3])"
   ]
  },
  {
   "cell_type": "markdown",
   "metadata": {},
   "source": [
    "(d)[Solved] Calculate the average cpi for all the years."
   ]
  },
  {
   "cell_type": "code",
   "execution_count": 18,
   "metadata": {},
   "outputs": [
    {
     "data": {
      "text/plain": [
       "4.188889"
      ]
     },
     "execution_count": 18,
     "metadata": {},
     "output_type": "execute_result"
    }
   ],
   "source": [
    "np.mean(cpi)"
   ]
  },
  {
   "cell_type": "markdown",
   "metadata": {},
   "source": [
    "(e) Calculate the average borrowing for those quarters when CPI was greater than 5."
   ]
  },
  {
   "cell_type": "code",
   "execution_count": null,
   "metadata": {},
   "outputs": [],
   "source": [
    "\n"
   ]
  },
  {
   "cell_type": "markdown",
   "metadata": {},
   "source": [
    "#### Broadcasting \n",
    "\n",
    "When two arrays are of different shapes this describes how the arithmetic works between them. \n",
    "\n",
    "Arrays are compatible for broadcasting when the trailing dimension match or either of them is of length 1, then the broadcasting is done over the missing dimension or length 1 dimension"
   ]
  },
  {
   "cell_type": "code",
   "execution_count": 19,
   "metadata": {},
   "outputs": [
    {
     "name": "stdout",
     "output_type": "stream",
     "text": [
      "shape of a (2, 3)  shape of b (3,)\n"
     ]
    },
    {
     "data": {
      "text/plain": [
       "array([[ 9, 11, 13],\n",
       "       [11, 13, 15]])"
      ]
     },
     "execution_count": 19,
     "metadata": {},
     "output_type": "execute_result"
    }
   ],
   "source": [
    "#When trailing dimension match\n",
    "a=np.array([[1,2,3],[3,4,5]])\n",
    "b=np.array([8,9,10])\n",
    "print(\"shape of a\",a.shape,\" shape of b\",b.shape)\n",
    "a+b #broadcasting on row"
   ]
  },
  {
   "cell_type": "code",
   "execution_count": 20,
   "metadata": {},
   "outputs": [
    {
     "name": "stdout",
     "output_type": "stream",
     "text": [
      "shape of a (2, 3)  shape of b (2, 1)\n"
     ]
    },
    {
     "data": {
      "text/plain": [
       "array([[11, 12, 13],\n",
       "       [15, 16, 17]])"
      ]
     },
     "execution_count": 20,
     "metadata": {},
     "output_type": "execute_result"
    }
   ],
   "source": [
    "#trailing dimension is 1\n",
    "b=np.array([[10],[12]])\n",
    "print(\"shape of a\",a.shape,\" shape of b\",b.shape)\n",
    "a+b #broadcasting on column"
   ]
  },
  {
   "cell_type": "markdown",
   "metadata": {},
   "source": [
    "#### Stacking operation"
   ]
  },
  {
   "cell_type": "code",
   "execution_count": 21,
   "metadata": {},
   "outputs": [
    {
     "data": {
      "text/plain": [
       "array([[1., 0., 0.],\n",
       "       [0., 1., 0.],\n",
       "       [0., 0., 1.],\n",
       "       [1., 2., 3.],\n",
       "       [4., 5., 6.],\n",
       "       [7., 8., 9.]])"
      ]
     },
     "execution_count": 21,
     "metadata": {},
     "output_type": "execute_result"
    }
   ],
   "source": [
    "#vertical stacking\n",
    "a = np.identity(3)\n",
    "b = np.array([[ 1, 2, 3],\n",
    "[ 4, 5, 6],\n",
    "[ 7, 8, 9]])\n",
    "np.vstack((a,b))"
   ]
  },
  {
   "cell_type": "code",
   "execution_count": 22,
   "metadata": {},
   "outputs": [
    {
     "data": {
      "text/plain": [
       "array([[1., 0., 0., 1., 2., 3.],\n",
       "       [0., 1., 0., 4., 5., 6.],\n",
       "       [0., 0., 1., 7., 8., 9.]])"
      ]
     },
     "execution_count": 22,
     "metadata": {},
     "output_type": "execute_result"
    }
   ],
   "source": [
    "np.hstack((a,b))"
   ]
  },
  {
   "cell_type": "code",
   "execution_count": 23,
   "metadata": {},
   "outputs": [
    {
     "data": {
      "text/plain": [
       "array([[1., 0., 0.],\n",
       "       [0., 1., 0.],\n",
       "       [0., 0., 1.],\n",
       "       [1., 2., 3.],\n",
       "       [4., 5., 6.],\n",
       "       [7., 8., 9.]])"
      ]
     },
     "execution_count": 23,
     "metadata": {},
     "output_type": "execute_result"
    }
   ],
   "source": [
    "np.concatenate([a,b],axis=0) #same as vstack "
   ]
  },
  {
   "cell_type": "markdown",
   "metadata": {},
   "source": [
    "#### 5. Image processing\n",
    "\n",
    "We will now try to put what we have learned so far into a processing an image. \\ "
   ]
  },
  {
   "cell_type": "code",
   "execution_count": 24,
   "metadata": {},
   "outputs": [
    {
     "name": "stdout",
     "output_type": "stream",
     "text": [
      "[[0.9882353  0.9882353  0.9843137  ... 1.         1.         1.        ]\n",
      " [0.9843137  0.9843137  0.98039216 ... 1.         1.         1.        ]\n",
      " [0.9843137  0.98039216 0.9764706  ... 1.         1.         1.        ]\n",
      " ...\n",
      " [0.9764706  0.9764706  0.9764706  ... 0.9019608  0.9019608  0.9019608 ]\n",
      " [0.9764706  0.9764706  0.9764706  ... 0.9098039  0.9137255  0.9098039 ]\n",
      " [0.9764706  0.9764706  0.9764706  ... 0.9098039  0.9137255  0.9098039 ]]\n"
     ]
    },
    {
     "data": {
      "image/png": "[encoded data removed]",
      "text/plain": [
       "<Figure size 432x288 with 1 Axes>"
      ]
     },
     "metadata": {
      "needs_background": "light"
     },
     "output_type": "display_data"
    }
   ],
   "source": [
    "import matplotlib.image as mimg\n",
    "import matplotlib.pyplot as plt\n",
    "import numpy as np\n",
    "%matplotlib inline\n",
    "img = mimg.imread('misc/rajnikant.png') # read an image\n",
    "\n",
    "original_image_pixels = np.array(img,dtype='float32')  # make an numpy array\n",
    "print (original_image_pixels) # Note the values are between 0 and 1\n",
    "plt.imshow(original_image_pixels,cmap='gray'); # use a gray scale color map"
   ]
  },
  {
   "cell_type": "code",
   "execution_count": 25,
   "metadata": {},
   "outputs": [
    {
     "data": {
      "text/plain": [
       "<matplotlib.image.AxesImage at 0x7fd79ea277f0>"
      ]
     },
     "execution_count": 25,
     "metadata": {},
     "output_type": "execute_result"
    },
    {
     "data": {
      "image/png": "[encoded data removed]",
      "text/plain": [
       "<Figure size 432x288 with 1 Axes>"
      ]
     },
     "metadata": {
      "needs_background": "light"
     },
     "output_type": "display_data"
    }
   ],
   "source": [
    "#Increase contrast \n",
    "contrast_enhanced_pixels = original_image_pixels*3 #increase the contrast; but some values may now be more than 1\n",
    "contrast_enhanced_pixels[contrast_enhanced_pixels > 1] = 1 #clamp the values to max 1\n",
    "plt.imshow(contrast_enhanced_pixels,cmap='gray')"
   ]
  },
  {
   "cell_type": "markdown",
   "metadata": {},
   "source": [
    "**In-class exercise**. Make Rajinikant look older: Replace the upper portion of the first image with the upper portion of the second image."
   ]
  },
  {
   "cell_type": "code",
   "execution_count": null,
   "metadata": {},
   "outputs": [],
   "source": [
    "\n",
    "\n"
   ]
  }
 ],
 "metadata": {
  "kernelspec": {
   "display_name": "Python 3",
   "language": "python",
   "name": "python3"
  },
  "language_info": {
   "codemirror_mode": {
    "name": "ipython",
    "version": 3
   },
   "file_extension": ".py",
   "mimetype": "text/x-python",
   "name": "python",
   "nbconvert_exporter": "python",
   "pygments_lexer": "ipython3",
   "version": "3.7.3"
  }
 },
 "nbformat": 4,
 "nbformat_minor": 2
}
