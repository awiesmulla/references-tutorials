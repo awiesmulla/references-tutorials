{
 "cells": [
  {
   "cell_type": "markdown",
   "metadata": {},
   "source": [
    "### Numpy Exercises Solution\n"
   ]
  },
  {
   "cell_type": "markdown",
   "metadata": {},
   "source": [
    "#### 1. Random walk simulation\n",
    "\n",
    "Simulate an 1000-step random walk exercise where a person starting from 0 takes one step to the right(+1) or to the left(-1) with equal probability. \n",
    "\n",
    "Find the max distance reached from the origin. Carry out 100 trails of this process and find the mean of the max distance of all trails.\n",
    "\n",
    "Useful functions in numpy : random.randint , cumsum, where, abs "
   ]
  },
  {
   "cell_type": "code",
   "execution_count": 1,
   "metadata": {},
   "outputs": [],
   "source": [
    "import numpy as np\n",
    "steps = 1000\n",
    "num_trail = 100\n",
    "\n",
    "def trail(steps):\n",
    "    #First generate n-steps sequence, simulating the random walk\n",
    "    step_sequence = np.random.choice([-1,1],steps)\n",
    "    #Total distance traversed at the end of each iteration is the cumulative sum of the \n",
    "    #above random walk steps.\n",
    "    iteration_distance = step_sequence.cumsum()  \n",
    "    max_dist = np.max(np.abs(iteration_distance))  \n",
    "    return max_dist\n",
    "\n",
    "trail_result = [trail(1000) for _ in range(num_trail)] #max distance in each trail"
   ]
  },
  {
   "cell_type": "code",
   "execution_count": 2,
   "metadata": {},
   "outputs": [
    {
     "name": "stdout",
     "output_type": "stream",
     "text": [
      "Mean of the max distance of all trails 40.48\n"
     ]
    }
   ],
   "source": [
    "print(\"Mean of the max distance of all trails\",np.mean(trail_result))"
   ]
  },
  {
   "cell_type": "markdown",
   "metadata": {},
   "source": [
    "#### 2. Sides of a triangle\n",
    "\n",
    "Consider a stick of length 10units.\n",
    "Write a program having two functions, one to randomly select two points on the stick at which to break and another function to determine if the pieces can form the sides of a triangle. Carry out 100 trails and report the probability of finding the right pieces that can form the sides of the triangle"
   ]
  },
  {
   "cell_type": "code",
   "execution_count": 3,
   "metadata": {},
   "outputs": [
    {
     "name": "stdout",
     "output_type": "stream",
     "text": [
      "Probability: 0.15\n"
     ]
    }
   ],
   "source": [
    "import numpy as np\n",
    "\n",
    "#This problem is scale invariant.\n",
    "#Hence, without the loss of generality we can assume a unit-length stick\n",
    "def stick_pieces():    \n",
    "    x,y=np.random.rand(2)\n",
    "    if x>y:x,y=y,x\n",
    "    return x,y-x,1-y\n",
    "\n",
    "def triangle_check(x,y,z):\n",
    "    return (x+y>z and y+z>x and z+x>y)\n",
    "\n",
    "trails = 100\n",
    "result = [triangle_check(*(stick_pieces())) for _ in range(trails)]\n",
    "print(\"Probability:\",sum(result)/trails)"
   ]
  },
  {
   "cell_type": "markdown",
   "metadata": {},
   "source": [
    "#### 3. Random number generation\n",
    "\n",
    "Generate 10 random numbers in the interval [0,1] and obtain an array $X$. Generate another array $Y$ such that $Y[i]$ is 1 if $X[i]\\ge 0.5$ and 0 otherwise. Compare the two arrays by stacking them. In other words, create a 2x10 matrix and print it."
   ]
  },
  {
   "cell_type": "code",
   "execution_count": 4,
   "metadata": {},
   "outputs": [
    {
     "name": "stdout",
     "output_type": "stream",
     "text": [
      "[[0.0557821  0.8875212  0.96943179 0.12478569 0.23387767 0.54571418\n",
      "  0.42247957 0.46936522 0.08743738 0.90397887]\n",
      " [0.         1.         1.         0.         0.         1.\n",
      "  0.         0.         0.         1.        ]]\n"
     ]
    }
   ],
   "source": [
    "import numpy as np\n",
    "X = np.random.rand(10)\n",
    "\n",
    "# Generate the array Y \n",
    "Y = np.where(X>=0.5,1,0)\n",
    "#code to stack \n",
    "print(np.vstack((X,Y)))"
   ]
  },
  {
   "cell_type": "markdown",
   "metadata": {},
   "source": [
    "#### 4. Pearson's correlation coefficient\n",
    "\n",
    "Given two arrays $X,Y$, correlation is a measure of linear dependence of values of one array on the other. For example, heights and weights of a group of people are correlated. Implement the below formula for correlation and verify the result using numpy's corrcoef method.\n",
    "\n",
    "This is given by $\\frac{\\sum(X-X_{mean})(Y-Y_{mean})}{\\sqrt{\\sum(X-X_{mean})^2\\sum(Y-Y_{mean})^2}}$  . \n"
   ]
  },
  {
   "cell_type": "code",
   "execution_count": 5,
   "metadata": {},
   "outputs": [
    {
     "name": "stdout",
     "output_type": "stream",
     "text": [
      "0.9936573433093854\n",
      "[[1.         0.99365734]\n",
      " [0.99365734 1.        ]]\n"
     ]
    }
   ],
   "source": [
    "X = np.random.randint(0,10,20)\n",
    "Y = X + np.random.rand(20)\n",
    "\n",
    "X_mean = np.mean(X)\n",
    "Y_mean = np.mean(Y)\n",
    "\n",
    "exp = np.sum((X-X_mean)*(Y-Y_mean))\n",
    "std = np.sqrt(np.sum((X-X_mean)**2) * np.sum((Y-Y_mean)**2))\n",
    "pcc = exp/std\n",
    "print(pcc)\n",
    "print(np.corrcoef(X,Y))"
   ]
  },
  {
   "cell_type": "markdown",
   "metadata": {},
   "source": [
    "#### 5. Mean & Variance of crude oil prices\n",
    "Read the price of the two varieties of crude oil from the file <code>spot_prices_crude</code>. Find the mean & the standard deviation of the two types of crude oil. \n",
    "\n",
    "Examine the contents of the csv file, there are some dates for which the price is not known, mean calculation should handle such cases.\n",
    "\n",
    "Useful functions in numpy: isnan, genfromtxt, nan_to_num, mean, std"
   ]
  },
  {
   "cell_type": "code",
   "execution_count": 6,
   "metadata": {},
   "outputs": [
    {
     "name": "stdout",
     "output_type": "stream",
     "text": [
      "Crude1_mean: 45.91709681528662 ,Crude2_mean: 43.68011373260738\n",
      "Crude1_SD: 33.14636993225907 ,Crude2_SD: 29.61836508539748\n"
     ]
    }
   ],
   "source": [
    "import numpy as np\n",
    "data = np.genfromtxt('./misc/spot_prices_crude.csv',delimiter=\";\")\n",
    "data=data[1:,1:]\n",
    "crude_data=np.nan_to_num(data)\n",
    "\n",
    "crude1_data = crude_data[~np.isnan(data[:,0])][:,0]\n",
    "crude2_data = crude_data[~np.isnan(data[:,1])][:,1]\n",
    "\n",
    "print(\"Crude1_mean:\",np.mean(crude1_data),\",Crude2_mean:\",np.mean(crude2_data))\n",
    "print(\"Crude1_SD:\",np.std(crude1_data),\",Crude2_SD:\",np.std(crude2_data))"
   ]
  }
 ],
 "metadata": {
  "kernelspec": {
   "display_name": "Python 3",
   "language": "python",
   "name": "python3"
  },
  "language_info": {
   "codemirror_mode": {
    "name": "ipython",
    "version": 3
   },
   "file_extension": ".py",
   "mimetype": "text/x-python",
   "name": "python",
   "nbconvert_exporter": "python",
   "pygments_lexer": "ipython3",
   "version": "3.7.3"
  }
 },
 "nbformat": 4,
 "nbformat_minor": 2
}
