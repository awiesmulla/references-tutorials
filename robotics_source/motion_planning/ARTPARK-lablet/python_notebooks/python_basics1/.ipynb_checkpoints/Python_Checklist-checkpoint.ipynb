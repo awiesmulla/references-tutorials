{
 "cells": [
  {
   "cell_type": "markdown",
   "metadata": {},
   "source": [
    "## Introduction to Python\n",
    "\n",
    "The following snippets of code give a quick tour of topics discussed in 'Introduction to Python' PDF."
   ]
  },
  {
   "cell_type": "markdown",
   "metadata": {},
   "source": [
    "<b>Why Python for Machine Learning?</b>\n",
    "\n",
    "Python has a large and active community on data analysis, ML, computing etc... \n",
    "Python has a wide array of libraries to support different Machine learning tasks. For visualization there matplotlib, seaborn etc, there are nltk,scikit,numpy to work with text and Tensorflow for deeplearning tasks etc.. and these are open source and free to use.\n",
    "\n",
    "May solve the problem of having two development environments one for prototyping, testing & another one for production say in C++. Python can be used for both the environments. \n",
    "\n",
    "<b>Shortcomings</b>\n",
    "\n",
    "  Python is an interpreted language thus, it runs slower than code written in compiled language like C++/Java . Choice depends on the application where low latency requirement may be critical.\n",
    "   Python's GIL prevents the interpreter from running more than one Python instruction at a time even if there are multiple CPU cores available, thus a challenge for building multi-threaded application. "
   ]
  },
  {
   "cell_type": "markdown",
   "metadata": {},
   "source": [
    "**Ipython & Jupyter Notebooks**\n",
    "\n",
    "An interpreter runs the Python program by executing one statement at a time. Standard interpreter can be invoked on the command line by typing python on the command prompt.  \n",
    "\n",
    "IPython is an enhanced interpreter and Jupyter notebook is a web based interactive document for code, text(supports markup), data visualization etc.. that communicates with the IPython kernel. IPython kernel runs the user code and provides for features such as autocomplete .\n",
    "\n",
    "IPython includes a kernel for Python code, and there are kernels for several other languages. \n",
    "\n",
    "When a notebook is saved it is sent from the browser to the notebook server which saves it on the disk with a .ipynb extension. Only notebook server is responsible for saving and loading notebooks, notebooks can be edited even if there is no kernel for that language—only that the code cannot be executed.\n",
    "\n",
    "![Notebook Components](./notebook_components.png)\n",
    "Image credit: <a href=\"https://jupyter.readthedocs.io/en/latest/architecture/how_jupyter_ipython_work.html\">Jupyter Documentation</a>"
   ]
  },
  {
   "cell_type": "markdown",
   "metadata": {},
   "source": [
    "#### Using a notebook\n",
    "\n",
    "1. To run a cell use Alt-Enter on Windows/Linux or Cmd-Enter on mac OSX\n",
    "2. There are two input modes in the notebook - Command Mode & Edit Mode. \n",
    "   In edit mode you can write code or text into a cell, in command mode you can do some \n",
    "   operations such as adding(Esc-b,Esc-a)/deleting a cell(dd), changing the cell type from code to markdown(m) & vice-versa(y) etc.. \n",
    "   \n",
    "   Use Esc to enter the command mode & while in command mode \n",
    "   press 'h' to get the menu on keyboard shortcuts. Press the enter key to enter the \n",
    "   edit mode\n",
    "   \n",
    "3. When writing code, use tab for auto-completion and shift-tab to get help on methods. Press it twice to get the details of the methods."
   ]
  },
  {
   "cell_type": "markdown",
   "metadata": {},
   "source": [
    "### Data Types"
   ]
  },
  {
   "cell_type": "markdown",
   "metadata": {},
   "source": [
    "**Variables and Conditionals**\n",
    "\n",
    "Consider the following piece of code that uses some variables "
   ]
  },
  {
   "cell_type": "code",
   "execution_count": 1,
   "metadata": {},
   "outputs": [
    {
     "name": "stdout",
     "output_type": "stream",
     "text": [
      "x: 10 <class 'int'>\n",
      "y: 2.5 <class 'float'>\n",
      "x: 25.0 <class 'float'>\n",
      "x: python <class 'str'>\n"
     ]
    }
   ],
   "source": [
    "x =10\n",
    "print ('x:',x,type(x))\n",
    "y = 2.5\n",
    "print ('y:',y,type(y))\n",
    "x = x * y\n",
    "print ('x:',x,type(x))\n",
    "x = 'python'\n",
    "print ('x:',x,type(x)) #str - string"
   ]
  },
  {
   "cell_type": "markdown",
   "metadata": {},
   "source": [
    "In Python, variable names such as 'x','y' in the above example are bound to some values. Type of the variable indicates the type of the value it refers to which can be obtained using the inbuilt function 'type'. Variable names can refer to any type & the type of value it refers to can change over the course of program execution as seen above, which is unlike say, in C where the variable type is fixed."
   ]
  },
  {
   "cell_type": "code",
   "execution_count": 2,
   "metadata": {
    "scrolled": true
   },
   "outputs": [
    {
     "name": "stdout",
     "output_type": "stream",
     "text": [
      "12\n",
      "60\n",
      "100\n"
     ]
    }
   ],
   "source": [
    "#some simple operations\n",
    "x = 2\n",
    "x+=10 # x = x + 10\n",
    "print (x)\n",
    "\n",
    "x*=5  # x = x*5\n",
    "print (x)\n",
    "\n",
    "x = 10\n",
    "print (x**2) #raise to the power of"
   ]
  },
  {
   "cell_type": "markdown",
   "metadata": {},
   "source": [
    "<em>#</em> character is used add comments & it's scope extends till the end of the line."
   ]
  },
  {
   "cell_type": "markdown",
   "metadata": {},
   "source": [
    "#### Conditional statements"
   ]
  },
  {
   "cell_type": "code",
   "execution_count": 3,
   "metadata": {
    "scrolled": true
   },
   "outputs": [
    {
     "name": "stdout",
     "output_type": "stream",
     "text": [
      "Retry\n"
     ]
    }
   ],
   "source": [
    "if x > 100:\n",
    "    print (\"Go\")\n",
    "elif x > 70:\n",
    "    print (\"Wait\")\n",
    "else:\n",
    "    print (\"Retry\")"
   ]
  },
  {
   "cell_type": "markdown",
   "metadata": {},
   "source": [
    "if-else statements can be used to perform simple tests.\n",
    "<b>if</b> is a keyword that is followed by a condition which is a boolean expression. <b>if</b> statement ends with a colon ':' and the statement after <b>if</b> is indented. <em>Python depends on indentation to define a block of code</em>. This block of code will be executed if the condition is satisfied, if the condition is false then the <b>elif</b> block is tried similar to the <b>if</b> statement & finally <b>else</b> block is executed if both the previous conditions are false"
   ]
  },
  {
   "cell_type": "code",
   "execution_count": 4,
   "metadata": {},
   "outputs": [],
   "source": [
    "#To create an empty body use the pass statement\n",
    "if 1<2:\n",
    "    pass #pass statement does nothing\n",
    "else:\n",
    "    print ('\\\"a\\\"<\\\"b\\\"')"
   ]
  },
  {
   "cell_type": "markdown",
   "metadata": {},
   "source": [
    "**Use of and,or and not in conditions**"
   ]
  },
  {
   "cell_type": "code",
   "execution_count": 5,
   "metadata": {},
   "outputs": [
    {
     "name": "stdout",
     "output_type": "stream",
     "text": [
      "and condition\n",
      "or condition\n",
      "not condititon\n"
     ]
    }
   ],
   "source": [
    "x = 10;y = 5\n",
    "if x > 5 and y<10: # and evaluates to true only if all the conditions are true\n",
    "    print ('and condition')\n",
    "\n",
    "if x > 10 or y == 5: # or evaluates to true if either of the condition are true\n",
    "    print ('or condition')\n",
    "\n",
    "if not x == 100: # not toggles true to false & vice versa\n",
    "    print ('not condititon')\n",
    "\n",
    "#try changing the values and check the result"
   ]
  },
  {
   "cell_type": "markdown",
   "metadata": {},
   "source": [
    "   "
   ]
  },
  {
   "cell_type": "markdown",
   "metadata": {},
   "source": [
    "**Strings**\n",
    "\n",
    "A String is a sequence of characters indexed by integers starting from 0. To define a string, enclose the characters inside a single/double/triple quotes where the starting & terminating quotes must be of the same identical."
   ]
  },
  {
   "cell_type": "code",
   "execution_count": 6,
   "metadata": {},
   "outputs": [
    {
     "name": "stdout",
     "output_type": "stream",
     "text": [
      "P\n",
      "Anaconda is a Python distribution,\n",
      "pip is a package management system for Python\n",
      " a Python\n"
     ]
    }
   ],
   "source": [
    "s = \"Python for ML\"\n",
    "print (s[0]) #Print the first character\n",
    "t = 'Anaconda'\n",
    "q = \"\"\"is a Python distribution,\n",
    "pip is a package management system for Python\"\"\"\n",
    "print (t, q)\n",
    "print (q[2:11])"
   ]
  },
  {
   "cell_type": "code",
   "execution_count": 7,
   "metadata": {},
   "outputs": [
    {
     "name": "stdout",
     "output_type": "stream",
     "text": [
      "python for ml python for ml \n",
      "python for ml . Get an umbrella\n"
     ]
    }
   ],
   "source": [
    "s = 'python for ml ' \n",
    "print (s*2) #mulitplication operators on string repeats the string\n",
    "\n",
    "#Concatenate strings\n",
    "v = \". Get an umbrella\"\n",
    "t = s + v\n",
    "print(t)"
   ]
  },
  {
   "cell_type": "markdown",
   "metadata": {},
   "source": [
    "### Type conversion\n",
    "\n",
    "Due to lack of type-checking, some type of errors are hard to catch in Python."
   ]
  },
  {
   "cell_type": "code",
   "execution_count": 8,
   "metadata": {},
   "outputs": [
    {
     "name": "stdout",
     "output_type": "stream",
     "text": [
      "1854.8\n"
     ]
    }
   ],
   "source": [
    "a,b='18','54.8'\n",
    "print (a+b) #Note, they are strings, not numbers."
   ]
  },
  {
   "cell_type": "code",
   "execution_count": 9,
   "metadata": {},
   "outputs": [
    {
     "name": "stdout",
     "output_type": "stream",
     "text": [
      "510\n",
      "15\n"
     ]
    }
   ],
   "source": [
    "s,t=5,10\n",
    "print (str(s)+str(t)) #Convert non-string to string\n",
    "print (s+t)"
   ]
  },
  {
   "cell_type": "markdown",
   "metadata": {},
   "source": [
    "**Immutable Strings**\n",
    "\n",
    "Immutability of Strings in python implies their content cannot be changed, i.e cannot add any new character nor remove a character from a string.\n"
   ]
  },
  {
   "cell_type": "code",
   "execution_count": 10,
   "metadata": {},
   "outputs": [
    {
     "ename": "TypeError",
     "evalue": "'str' object does not support item assignment",
     "output_type": "error",
     "traceback": [
      "\u001b[0;31m---------------------------------------------------------------------------\u001b[0m",
      "\u001b[0;31mTypeError\u001b[0m                                 Traceback (most recent call last)",
      "\u001b[0;32m<ipython-input-10-f220b0d26034>\u001b[0m in \u001b[0;36m<module>\u001b[0;34m()\u001b[0m\n\u001b[1;32m      1\u001b[0m \u001b[0ms\u001b[0m\u001b[0;34m=\u001b[0m\u001b[0;34m\"hello world\"\u001b[0m\u001b[0;34m\u001b[0m\u001b[0m\n\u001b[1;32m      2\u001b[0m \u001b[0;31m#trying to replace ’h’ with ’H’\u001b[0m\u001b[0;34m\u001b[0m\u001b[0;34m\u001b[0m\u001b[0m\n\u001b[0;32m----> 3\u001b[0;31m \u001b[0ms\u001b[0m\u001b[0;34m[\u001b[0m\u001b[0;36m0\u001b[0m\u001b[0;34m]\u001b[0m\u001b[0;34m=\u001b[0m\u001b[0;34m'H'\u001b[0m\u001b[0;34m\u001b[0m\u001b[0m\n\u001b[0m",
      "\u001b[0;31mTypeError\u001b[0m: 'str' object does not support item assignment"
     ]
    }
   ],
   "source": [
    "s=\"hello world\" \n",
    "#trying to replace ’h’ with ’H’\n",
    "s[0]='H'"
   ]
  },
  {
   "cell_type": "markdown",
   "metadata": {},
   "source": [
    "In order to change the contents we need to generate a new string"
   ]
  },
  {
   "cell_type": "code",
   "execution_count": 11,
   "metadata": {},
   "outputs": [
    {
     "name": "stdout",
     "output_type": "stream",
     "text": [
      "hello world , Hello world\n"
     ]
    }
   ],
   "source": [
    "s=\"hello world\" \n",
    "t = s.replace('h','H')\n",
    "print (s,',',t) #Original string is preserved"
   ]
  },
  {
   "cell_type": "code",
   "execution_count": 12,
   "metadata": {},
   "outputs": [
    {
     "name": "stdout",
     "output_type": "stream",
     "text": [
      "Elevation of Bengaluru is 3018 ft above sea level\n"
     ]
    }
   ],
   "source": [
    "#example of string construction\n",
    "x = \"Elevation of %s is %d ft above sea level\" %('Bengaluru',3018)\n",
    "print(x)"
   ]
  },
  {
   "cell_type": "markdown",
   "metadata": {},
   "source": [
    "**Formatting Strings**\n",
    "\n",
    "% is a format operator and %d, %s, %f are special format sequences that specify the formatting of a particular type of data such as integer, string or floating-point number. These formating sequences can contain some modifiers to specify the width and precision of the output, such as limiting the number of digits that appear after the decimal point in a floating point number or aligning the text."
   ]
  },
  {
   "cell_type": "code",
   "execution_count": 13,
   "metadata": {},
   "outputs": [
    {
     "name": "stdout",
     "output_type": "stream",
     "text": [
      "          Hello\n",
      "Hello\n",
      "There is more     space\n",
      " 42\n",
      "0042\n",
      "42.347\n",
      "42.34000\n"
     ]
    }
   ],
   "source": [
    "print(\"%15s\"%\"Hello\") # %Formats the string right aligned in a column width 15\n",
    "print(\"%5s\"%\"Hello\")   \n",
    "print(\"There is %-8s space\"%\"more\") # negative number indicates left alignment\n",
    "\n",
    "print(\"%3d\"%42)\n",
    "print(\"%04d\"%42) #pack leading zeros\n",
    "\n",
    "print(\"%.3f\"%42.34656) # %.<fixed number of digits to the right of Dot.>f\n",
    "print(\"%.5f\"%42.34)"
   ]
  },
  {
   "cell_type": "markdown",
   "metadata": {},
   "source": [
    "Another way to format is to use the 'format' function. Here we don't use the '%', formatting operator. Strings also have the format method that can be used to format many values"
   ]
  },
  {
   "cell_type": "code",
   "execution_count": 14,
   "metadata": {},
   "outputs": [
    {
     "name": "stdout",
     "output_type": "stream",
     "text": [
      "Using the format func: 4.600bn 01km Ryugu\n"
     ]
    }
   ],
   "source": [
    "print (\"Using the format func: {0:.3f}bn {1:02d}km {2:5s}\".format(4.6,1,\"Ryugu\"))\n",
    "#{0:.3f} number before colon refers to the corresponding argument \n",
    "# in the format function and the number after colon is the format specifier"
   ]
  },
  {
   "cell_type": "markdown",
   "metadata": {},
   "source": [
    "**Use the 'in' operator to check for the presence of a character or word in a string**"
   ]
  },
  {
   "cell_type": "code",
   "execution_count": 15,
   "metadata": {},
   "outputs": [
    {
     "name": "stdout",
     "output_type": "stream",
     "text": [
      "True\n",
      "False\n"
     ]
    }
   ],
   "source": [
    "print ('milk' in 'milky way')\n",
    "print ('a' in 'milk')"
   ]
  },
  {
   "cell_type": "markdown",
   "metadata": {},
   "source": [
    "## Data structures"
   ]
  },
  {
   "cell_type": "markdown",
   "metadata": {},
   "source": [
    "**Lists**\n",
    "\n",
    "A List is a container of items either all of the same type or mixed types that are indexed by integers starting from 0."
   ]
  },
  {
   "cell_type": "code",
   "execution_count": 16,
   "metadata": {},
   "outputs": [
    {
     "name": "stdout",
     "output_type": "stream",
     "text": [
      "[5, 9, 10, 11]\n",
      "[5, 'x', 10, 't']\n"
     ]
    }
   ],
   "source": [
    "l=[5,9,10,11]\n",
    "print (l)\n",
    "lst=[5,'x',10,'t']\n",
    "print (lst)"
   ]
  },
  {
   "cell_type": "markdown",
   "metadata": {},
   "source": [
    "#### List operations\n",
    "\n",
    "Length of the list, popping/deleting elements out"
   ]
  },
  {
   "cell_type": "code",
   "execution_count": 17,
   "metadata": {},
   "outputs": [
    {
     "name": "stdout",
     "output_type": "stream",
     "text": [
      "List: [4, 5, 8, 'a', 9, 10, 50]\n",
      "Length of the list: 7\n",
      "Popped out element:50,\n",
      "List after pop operation:[4, 5, 8, 'a', 9, 10]\n",
      "[4, 5, 'a', 9, 10]\n"
     ]
    }
   ],
   "source": [
    "lst = [4,5,8,'a',9,10,50]\n",
    "print (\"List:\",lst)\n",
    "print (\"Length of the list:\",len(lst)) #len function gives the length of the list\n",
    "pop_element = lst.pop() #pop by default removes & returns the last element from the list\n",
    "print (\"Popped out element:%s,\\nList after pop operation:%s\"%(pop_element,lst))\n",
    "lst.pop(2) #pop can also be used to remove an element based on index starting from 0\n",
    "print (lst)"
   ]
  },
  {
   "cell_type": "code",
   "execution_count": 18,
   "metadata": {},
   "outputs": [
    {
     "name": "stdout",
     "output_type": "stream",
     "text": [
      "Before deleting: [4, 5, 8, 'a']\n",
      "After deleting 2nd element [4, 8, 'a']\n"
     ]
    }
   ],
   "source": [
    "#Deleting when the removed value is not required\n",
    "lst = [4,5,8,'a']\n",
    "print (\"Before deleting:\",lst)\n",
    "del lst[1]\n",
    "print (\"After deleting 2nd element\",lst)"
   ]
  },
  {
   "cell_type": "code",
   "execution_count": 19,
   "metadata": {},
   "outputs": [
    {
     "name": "stdout",
     "output_type": "stream",
     "text": [
      "[4, 5, 8, 50]\n"
     ]
    }
   ],
   "source": [
    "#Remove by element, not by index\n",
    "lst = [4,5,8,'a',50]\n",
    "lst.remove('a') # reomving the 'a' element\n",
    "print (lst)"
   ]
  },
  {
   "cell_type": "code",
   "execution_count": 20,
   "metadata": {},
   "outputs": [
    {
     "name": "stdout",
     "output_type": "stream",
     "text": [
      "[4, 5, 8, 'insert', 'a', 50]\n"
     ]
    }
   ],
   "source": [
    "#insert at an index\n",
    "lst = [4,5,8,'a',50]\n",
    "lst.insert(3,\"insert\") #list_name.insert(index,value)\n",
    "print (lst)"
   ]
  },
  {
   "cell_type": "markdown",
   "metadata": {},
   "source": [
    "Negative indices are supported. Use negative index to access list elements from the end, so -1 refers to the last element of the list, -2 second to last element and so on"
   ]
  },
  {
   "cell_type": "code",
   "execution_count": 21,
   "metadata": {},
   "outputs": [
    {
     "data": {
      "text/plain": [
       "50"
      ]
     },
     "execution_count": 21,
     "metadata": {},
     "output_type": "execute_result"
    }
   ],
   "source": [
    "last_element = lst[-1]\n",
    "last_element"
   ]
  },
  {
   "cell_type": "markdown",
   "metadata": {},
   "source": [
    "**Reference, Splicing, and Copying**"
   ]
  },
  {
   "cell_type": "code",
   "execution_count": 22,
   "metadata": {},
   "outputs": [
    {
     "name": "stdout",
     "output_type": "stream",
     "text": [
      "[4, 5, 8, -15] [4, 5, 8, -15]\n"
     ]
    }
   ],
   "source": [
    "# List copying\n",
    "\n",
    "x = [4,5,8,9]\n",
    "# Say, we want to copy the contents of the list x\n",
    "x_copy = x\n",
    "# Let's change the content of the new list x_copy\n",
    "x_copy[3] = -15\n",
    "print (x,x_copy)\n",
    "# We see that the changes made to the original list x affects the list y too"
   ]
  },
  {
   "cell_type": "markdown",
   "metadata": {},
   "source": [
    "When the variable x is assigned to a list, it refers to the address of the list object. Then, when we assign a new variable y to x (y = x), the operation just creates another reference to the same address, we can verify this using id() function which returns the identity of the object an integer which is unique."
   ]
  },
  {
   "cell_type": "code",
   "execution_count": 23,
   "metadata": {},
   "outputs": [
    {
     "name": "stdout",
     "output_type": "stream",
     "text": [
      "object identifier of x:139992049414344,\n",
      "object identifier of x_copy:139992049414344\n"
     ]
    }
   ],
   "source": [
    "\n",
    "print (\"object identifier of x:%d,\\nobject identifier of x_copy:%d\"%(id(x),id(x_copy)))\n",
    "# id function returns the object's integer identifier,\n",
    "# We see that both x,y point to the same object\n"
   ]
  },
  {
   "cell_type": "markdown",
   "metadata": {},
   "source": [
    "**List splicing**"
   ]
  },
  {
   "cell_type": "code",
   "execution_count": 24,
   "metadata": {},
   "outputs": [
    {
     "name": "stdout",
     "output_type": "stream",
     "text": [
      "\n",
      "Different splicing operations\n",
      "List x: [4, 5, 8, 9, -10, 'a', 'b']\n",
      "x[1:3]=[5, 8], x[:3]=[4, 5, 8], x[2:]=[8, 9, -10, 'a', 'b'], x[-2:]=['a', 'b']\n",
      "x[1:5:2]=[5, 9]\n"
     ]
    }
   ],
   "source": [
    "#List Splicing\n",
    "#To copy the contents of the list to another variable use splicing\n",
    "x = [4,5,8,9,-10,'a','b']\n",
    "x_copy = x[:] #\n",
    "\n",
    "# [start:end:step] This is a range specifier, returns a new list from start to end-1\n",
    "\n",
    "print (\"\\nDifferent splicing operations\")\n",
    "print (\"List x:\",x)\n",
    "print (\"x[1:3]=%s, x[:3]=%s, x[2:]=%s, x[-2:]=%s\"%(x[1:3],x[:3],x[2:],x[-2:]) )\n",
    "\n",
    "print (\"x[1:5:2]=%s\"%x[1:5:2] )#starting from index 1, collects every second element"
   ]
  },
  {
   "cell_type": "code",
   "execution_count": 25,
   "metadata": {},
   "outputs": [
    {
     "name": "stdout",
     "output_type": "stream",
     "text": [
      "[4, 5, 8, 9, -10, 'a', 'b']\n",
      "[4, 9, -10, 'a', 'b']\n"
     ]
    }
   ],
   "source": [
    "#Remove more than one element using del\n",
    "print (x)\n",
    "del x[1:3]\n",
    "print (x)"
   ]
  },
  {
   "cell_type": "markdown",
   "metadata": {},
   "source": [
    "#### Adding elements to the list\n"
   ]
  },
  {
   "cell_type": "code",
   "execution_count": 26,
   "metadata": {
    "scrolled": false
   },
   "outputs": [
    {
     "name": "stdout",
     "output_type": "stream",
     "text": [
      "List: [1, 3, 4, 5, 9]\n",
      "Appending single element 5: [1, 3, 4, 5, 9, 5]\n",
      "Adding more than one element -10 & -5: [1, 3, 4, 5, 9, 5, -10, -5]\n"
     ]
    }
   ],
   "source": [
    "lst = [1,3,4,5,9]\n",
    "print (\"List:\",lst)\n",
    "\n",
    "lst.append(5)  #Appending a single element\n",
    "print (\"Appending single element 5:\",lst)\n",
    "\n",
    "lst.extend([-10,-5]) #To add more than one element use the extend method\n",
    "print (\"Adding more than one element -10 & -5:\",lst)\n"
   ]
  },
  {
   "cell_type": "code",
   "execution_count": 27,
   "metadata": {},
   "outputs": [
    {
     "name": "stdout",
     "output_type": "stream",
     "text": [
      "Appending a list [-5,-8]: [1, 3, 4, 5, 9, 5, -10, -5, [-5, -8]]\n",
      "Matrix [[3, 1], [2, 3]]\n",
      "Accessing individual elements: 2nd element in 1st row: 1\n",
      "[1, 3, 4, 5, 9, 5, -10, -5, [-5, -8], -99, -98]\n"
     ]
    }
   ],
   "source": [
    "\n",
    "lst.append([-5,-8]) #Appending a list\n",
    "print (\"Appending a list [-5,-8]:\",lst)\n",
    "#We have a list of list\n",
    "\n",
    "#Define a matrix\n",
    "mat = [[3,1],[2,3]]\n",
    "print (\"Matrix\",mat)\n",
    "print (\"Accessing individual elements: 2nd element in 1st row:\",mat[0][1])\n",
    "#Matrix indexing in python starts from 0\n",
    "\n",
    "#Alternate way of adding elements to the list\n",
    "lst = lst+[-99,-98]\n",
    "print (lst)"
   ]
  },
  {
   "cell_type": "markdown",
   "metadata": {},
   "source": [
    "Check for a element in a list using the in operator"
   ]
  },
  {
   "cell_type": "code",
   "execution_count": 28,
   "metadata": {},
   "outputs": [
    {
     "name": "stdout",
     "output_type": "stream",
     "text": [
      "[1, 5, 9, 'b']\n",
      "5: True\n",
      "a: False\n"
     ]
    }
   ],
   "source": [
    "lst = [1,5,9,'b']\n",
    "print (lst) \n",
    "print (\"5:\",5 in lst)\n",
    "print ('a:','a' in lst)"
   ]
  },
  {
   "cell_type": "markdown",
   "metadata": {},
   "source": [
    "**Split a string**"
   ]
  },
  {
   "cell_type": "code",
   "execution_count": 29,
   "metadata": {},
   "outputs": [
    {
     "name": "stdout",
     "output_type": "stream",
     "text": [
      " We are made of star-stuff \n",
      " Word list ['We', 'are', 'made', 'of', 'star-stuff']\n",
      "moon_list: ['Titan', 'Europa', 'Enceladus']\n"
     ]
    }
   ],
   "source": [
    "text = \" We are made of star-stuff\"\n",
    "word_list = text.split()\n",
    "print (text,\"\\n Word list\",word_list)\n",
    "\n",
    "text = \"Titan,Europa,Enceladus\"\n",
    "moon_list=text.split(',') #split on a different delimiter\n",
    "print (\"moon_list:\",moon_list)"
   ]
  },
  {
   "cell_type": "markdown",
   "metadata": {},
   "source": [
    "**Concatenate** a list of strings using 'join'"
   ]
  },
  {
   "cell_type": "code",
   "execution_count": 30,
   "metadata": {},
   "outputs": [
    {
     "name": "stdout",
     "output_type": "stream",
     "text": [
      "List of words ['We', 'are', 'made', 'of', 'star-stuff']\n",
      "After joining: We are made of star-stuff\n",
      "Joining using a '*' as a delimiter: Titan*Europa*Enceladus\n"
     ]
    }
   ],
   "source": [
    "print (\"List of words\",word_list)\n",
    "sentence = \" \".join(word_list)\n",
    "print (\"After joining:\",sentence)\n",
    "#use a different delimiter\n",
    "new_delimiter_sent = \"*\".join(moon_list)\n",
    "print (\"Joining using a '*' as a delimiter:\", new_delimiter_sent)"
   ]
  },
  {
   "cell_type": "markdown",
   "metadata": {},
   "source": [
    "**Strip leading & trailing characters**"
   ]
  },
  {
   "cell_type": "code",
   "execution_count": 31,
   "metadata": {},
   "outputs": [
    {
     "name": "stdout",
     "output_type": "stream",
     "text": [
      "Water vapor and icy particles erupt from Enceladus\n",
      "Cassini spacecraft has detected those plumes\n"
     ]
    }
   ],
   "source": [
    "s = \"   Water vapor and icy particles erupt from Enceladus  \"\n",
    "t = s.strip() #Remove leading and trailing whitespace if no chars is given in split\n",
    "print (t)\n",
    "s = \"The Cassini spacecraft has detected those plumes    \"\n",
    "t = s.strip('T,h,e,\" \"') #Removes leading and trailing characters given in split\n",
    "print (t)"
   ]
  },
  {
   "cell_type": "markdown",
   "metadata": {},
   "source": [
    "### Sets \n",
    "\n",
    "Sets are lists with duplicates removed. To create a set use the set function. Sets are unordered unlike lists and tuples and cannot be indexed by inumbers."
   ]
  },
  {
   "cell_type": "code",
   "execution_count": 32,
   "metadata": {},
   "outputs": [
    {
     "name": "stdout",
     "output_type": "stream",
     "text": [
      "{1, 2, 3, 4, 5}\n",
      "{'H', '-', 's', 'y', 'a', 'u', 'b', '2'}\n"
     ]
    }
   ],
   "source": [
    "x = set([1,2,3,2,4,1,5])\n",
    "print (x)\n",
    "print (set(\"Hayabusa-2\")) #Note:The result has only one letter 'a'"
   ]
  },
  {
   "cell_type": "markdown",
   "metadata": {},
   "source": [
    "### Tuples\n",
    "\n",
    "Tuples are immutable Lists. Elements cannot be added to / removed from Tuples, therefore no append/pop methods & they use a compact representation unlike lists, that overallocate memory to optimize the performance of operations that add new items. Tuples are lighter than lists and supposedly faster. "
   ]
  },
  {
   "cell_type": "markdown",
   "metadata": {},
   "source": [
    "***Create tuples***\n",
    "\n",
    "Define a tuple as a sequence of comma separated values optionally enclosing them within a parenthesis."
   ]
  },
  {
   "cell_type": "code",
   "execution_count": 33,
   "metadata": {},
   "outputs": [
    {
     "name": "stdout",
     "output_type": "stream",
     "text": [
      "<class 'tuple'> (1, 2, 'a', 'x', 8, 6)\n",
      "x\n",
      "('a', 'x', 8)\n",
      "(9, 'p', 6, 'g')\n",
      "<class 'tuple'> (10,)\n"
     ]
    }
   ],
   "source": [
    "t = 1,2,'a','x',8,6 \n",
    "print (type(t),t)\n",
    "\n",
    "print (t[3]) #access the elements the same way as in Lists\n",
    "print (t[2:5])\n",
    "\n",
    "t= (9,'p',6,'g') #Define a tuple enclosing it in a parantheses\n",
    "print(t)\n",
    "\n",
    "t = 10,  #Tuple with a single element\n",
    "print (type(t),t)\n"
   ]
  },
  {
   "cell_type": "code",
   "execution_count": 34,
   "metadata": {},
   "outputs": [
    {
     "name": "stdout",
     "output_type": "stream",
     "text": [
      "<class 'tuple'> ()\n",
      "<class 'tuple'> ('t', 'u', 'p', 'l', 'e', 's')\n"
     ]
    }
   ],
   "source": [
    "t = tuple() #Create an empty tuple\n",
    "print (type(t),t)\n",
    "t = tuple('tuples') #Argument can be list,string\n",
    "print (type(t),t) "
   ]
  },
  {
   "cell_type": "code",
   "execution_count": 35,
   "metadata": {},
   "outputs": [
    {
     "name": "stdout",
     "output_type": "stream",
     "text": [
      "('t', 'u', 'p', 'l', 'e', 's')\n"
     ]
    },
    {
     "ename": "TypeError",
     "evalue": "'tuple' object does not support item assignment",
     "output_type": "error",
     "traceback": [
      "\u001b[0;31m---------------------------------------------------------------------------\u001b[0m",
      "\u001b[0;31mTypeError\u001b[0m                                 Traceback (most recent call last)",
      "\u001b[0;32m<ipython-input-35-9489d9d0b19d>\u001b[0m in \u001b[0;36m<module>\u001b[0;34m()\u001b[0m\n\u001b[1;32m      1\u001b[0m \u001b[0mprint\u001b[0m \u001b[0;34m(\u001b[0m\u001b[0mt\u001b[0m\u001b[0;34m)\u001b[0m\u001b[0;34m\u001b[0m\u001b[0m\n\u001b[0;32m----> 2\u001b[0;31m \u001b[0mt\u001b[0m\u001b[0;34m[\u001b[0m\u001b[0;36m2\u001b[0m\u001b[0;34m]\u001b[0m \u001b[0;34m=\u001b[0m \u001b[0;34m'p'\u001b[0m \u001b[0;31m#tuples are immutable\u001b[0m\u001b[0;34m\u001b[0m\u001b[0m\n\u001b[0m",
      "\u001b[0;31mTypeError\u001b[0m: 'tuple' object does not support item assignment"
     ]
    }
   ],
   "source": [
    "print (t)\n",
    "t[2] = 'p' #tuples are immutable "
   ]
  },
  {
   "cell_type": "markdown",
   "metadata": {},
   "source": [
    "### Dictionaries\n",
    "\n",
    "Dictionaries are like Lists, but unlike Lists, their index can be a non-integer such as strings, tuples but not list as it is mutable. It's a mapping between a set of indices called <em>keys</em> and a set of values, which can be of any type even a list or another dictionary itself."
   ]
  },
  {
   "cell_type": "code",
   "execution_count": 36,
   "metadata": {},
   "outputs": [
    {
     "name": "stdout",
     "output_type": "stream",
     "text": [
      "{}\n",
      "<class 'dict'> {'mangalyaan': 2013, 'voyager1': 1977, 'cassini': 1997, 'juno': 2011}\n",
      "2011\n",
      "{('Frank', 'Perera'): 7418, ('Raj', 'Shekar'): 24568}\n",
      "24568\n"
     ]
    }
   ],
   "source": [
    "#Create a dictionary, collection of key-value pairs\n",
    "\n",
    "d = dict() #create an empty dictionary\n",
    "print (d)\n",
    "\n",
    "space_probes = {\"voyager1\":1977,\"cassini\":1997,\"juno\":2011,\"mangalyaan\":2013}\n",
    "print (type(space_probes),space_probes)\n",
    "# colon ':', separates the key and value\n",
    "\n",
    "print (space_probes['juno']) #Accessing dictionary values\n",
    "\n",
    "# Tuples as keys of the dictionary \n",
    "name_id_num = {(\"Raj\",\"Shekar\"):24568,(\"Frank\",\"Perera\"):7418}\n",
    "print (name_id_num)\n",
    "print (name_id_num[(\"Raj\",\"Shekar\")])"
   ]
  },
  {
   "cell_type": "markdown",
   "metadata": {},
   "source": [
    "Fetch value based on key and Copy"
   ]
  },
  {
   "cell_type": "code",
   "execution_count": 37,
   "metadata": {},
   "outputs": [
    {
     "name": "stdout",
     "output_type": "stream",
     "text": [
      "139992049350984 139992049349960\n",
      "{'mangalyaan': 2013, 'voyager1': 1977, 'cassini': 1997, 'juno': 2011}\n",
      "juno year:NA, cassini:1997\n",
      "{}\n"
     ]
    }
   ],
   "source": [
    "space_probes = {\"voyager1\":1977,\"cassini\":1997,\"juno\":2011,\"mangalyaan\":2013}\n",
    "\n",
    "duplicate = space_probes.copy() #Make a duplicate copy of the dictionary\n",
    "print(id(space_probes),id(duplicate)) #shows that they are two different objects\n",
    "print (duplicate)\n",
    "\n",
    "del space_probes['juno']  #Delete a dictionary entry\n",
    "\n",
    "#returns the value corresponding to key if key exists else returns 'NA'\n",
    "print (\"juno year:%s, cassini:%s\"%(space_probes.get('juno','NA'),\\\n",
    "                                  space_probes.get('cassini','NA')))\n",
    "\n",
    "duplicate.clear() # Removes all items from the dictionary\n",
    "print (duplicate)"
   ]
  },
  {
   "cell_type": "markdown",
   "metadata": {},
   "source": [
    "## Iteration\n",
    "\n",
    "### Loops, Range, List comprehension"
   ]
  },
  {
   "cell_type": "markdown",
   "metadata": {},
   "source": [
    "Range Function:\n",
    "range(stop), range(start,stop,step) - Returns a sequence of integers from start (if provided else default start = 0 ) until stop-1 in steps of step(default = 1)"
   ]
  },
  {
   "cell_type": "code",
   "execution_count": 38,
   "metadata": {},
   "outputs": [
    {
     "name": "stdout",
     "output_type": "stream",
     "text": [
      "<class 'range'> range(0, 10)\n"
     ]
    }
   ],
   "source": [
    "x = range(10)\n",
    "print (type(x),x)"
   ]
  },
  {
   "cell_type": "code",
   "execution_count": 39,
   "metadata": {},
   "outputs": [
    {
     "name": "stdout",
     "output_type": "stream",
     "text": [
      "3 4 5 6 7 8 9 "
     ]
    }
   ],
   "source": [
    "for i in range(3,10):\n",
    "    print (i,end=\" \")\n",
    "    "
   ]
  },
  {
   "cell_type": "code",
   "execution_count": 40,
   "metadata": {},
   "outputs": [],
   "source": [
    "x = range(2,21,3)"
   ]
  },
  {
   "cell_type": "markdown",
   "metadata": {},
   "source": [
    "**Loops** For, While"
   ]
  },
  {
   "cell_type": "markdown",
   "metadata": {},
   "source": [
    "For loops are used when there are known set of items we want to go through such as list of numbers or dictionary etc.."
   ]
  },
  {
   "cell_type": "code",
   "execution_count": 41,
   "metadata": {},
   "outputs": [
    {
     "name": "stdout",
     "output_type": "stream",
     "text": [
      "0\n",
      "1\n",
      "4\n",
      "9\n",
      "16\n"
     ]
    }
   ],
   "source": [
    "x = range(5)\n",
    "for i in x:\n",
    "    print (i**2)"
   ]
  },
  {
   "cell_type": "code",
   "execution_count": 42,
   "metadata": {},
   "outputs": [
    {
     "name": "stdout",
     "output_type": "stream",
     "text": [
      "Hi Ravi\n",
      "Hi Anu\n",
      "Hi Jim\n"
     ]
    }
   ],
   "source": [
    "x = ['Ravi','Anu','Jim']\n",
    "for i in x:\n",
    "    print (\"Hi\",i)"
   ]
  },
  {
   "cell_type": "markdown",
   "metadata": {},
   "source": [
    "While loops are used when it is not known beforehand how many times we want to iterate"
   ]
  },
  {
   "cell_type": "code",
   "execution_count": 43,
   "metadata": {},
   "outputs": [
    {
     "name": "stdout",
     "output_type": "stream",
     "text": [
      "3\n"
     ]
    }
   ],
   "source": [
    "lst =[7,3,5,2,9,1]\n",
    "i=0\n",
    "while lst[i] > 2:\n",
    "    i=i+1\n",
    "print (i)"
   ]
  },
  {
   "cell_type": "markdown",
   "metadata": {},
   "source": [
    "**continue and break statements**\n",
    "\n",
    "<em>continue</em> statement is used to skip to the next iteration without completing the current iteration.\n",
    "\n",
    "<em>break</em> statement is used to exit the loop "
   ]
  },
  {
   "cell_type": "code",
   "execution_count": 44,
   "metadata": {},
   "outputs": [
    {
     "name": "stdout",
     "output_type": "stream",
     "text": [
      "1\n",
      "3\n",
      "9\n",
      "5\n"
     ]
    }
   ],
   "source": [
    "#continue\n",
    "\n",
    "x = [1,3,4,8,9,5]\n",
    "for i in x:\n",
    "    if i%2 == 0:\n",
    "        continue #if a number is even, jump to the next iteration\n",
    "    print (i) "
   ]
  },
  {
   "cell_type": "code",
   "execution_count": 45,
   "metadata": {},
   "outputs": [
    {
     "name": "stdout",
     "output_type": "stream",
     "text": [
      "1\n",
      "2\n",
      "3\n",
      "4\n"
     ]
    }
   ],
   "source": [
    "#break\n",
    "x = [1,2,3,4,-5,8,9]\n",
    "for i in x:\n",
    "    if i < 0:\n",
    "        break\n",
    "    print (i)"
   ]
  },
  {
   "cell_type": "markdown",
   "metadata": {},
   "source": [
    "**Zip and Enumerate function**\n",
    "\n",
    "Zip connects lists and tuples, it pairs the corresponding elements in the list into tuple."
   ]
  },
  {
   "cell_type": "code",
   "execution_count": 70,
   "metadata": {},
   "outputs": [
    {
     "name": "stdout",
     "output_type": "stream",
     "text": [
      "0 5 5\n",
      "1 6 7\n",
      "2 7 9\n",
      "3 8 11\n",
      "4 9 13\n"
     ]
    }
   ],
   "source": [
    "lst1 = range(5)\n",
    "lst2 = range(5,10)\n",
    "\n",
    "#Add the corresponding elements of the list\n",
    "for x,y in zip(lst1,lst2):\n",
    "    print (x,y,x+y)\n"
   ]
  },
  {
   "cell_type": "code",
   "execution_count": 73,
   "metadata": {},
   "outputs": [
    {
     "name": "stdout",
     "output_type": "stream",
     "text": [
      "17\n",
      "[(1, 0), (5, 1), (2, 2), (17, 3), (8, 4), (-2, 5)]\n",
      "Max val and idx (17, 3)\n"
     ]
    }
   ],
   "source": [
    "#using zip to find the max element in an array\n",
    "lst = [1,5,2,17,8,-2]\n",
    "print (max(lst))\n",
    "lst_index = list(zip(lst,range(len(lst))))\n",
    "print (lst_index)\n",
    "print (\"Max val and idx\",max(lst_index))"
   ]
  },
  {
   "cell_type": "code",
   "execution_count": 48,
   "metadata": {},
   "outputs": [
    {
     "name": "stdout",
     "output_type": "stream",
     "text": [
      "2\n",
      "1\n",
      "10\n"
     ]
    }
   ],
   "source": [
    "#enumerate\n",
    "lst = [2,5,1,0,10]\n",
    "#fetch only even numbered indicies\n",
    "enum = enumerate(lst)\n",
    "#enum : (0, 2), (1, 5), (2, 1), (3, 0), (4, 10)\n",
    "for x,y in enum:\n",
    "    if x%2==0:\n",
    "        print (y)"
   ]
  },
  {
   "cell_type": "markdown",
   "metadata": {},
   "source": [
    "**List comprehension**\n",
    "\n",
    "List comprehension provides a nice way to generate lists whose elements are derived by applying some operation on another sequence such as squares of numbers, list of even numbers etc.."
   ]
  },
  {
   "cell_type": "code",
   "execution_count": 49,
   "metadata": {},
   "outputs": [
    {
     "name": "stdout",
     "output_type": "stream",
     "text": [
      "[0, 1, 4, 9, 16]\n",
      "[1, 3, 5, 7, 9]\n"
     ]
    }
   ],
   "source": [
    "#Generate the squares of the first 'n' numbers\n",
    "number_squares = [x*x for x in range(5)]\n",
    "print (number_squares)\n",
    "\n",
    "#list of even numbers upto 10\n",
    "even_nos = [x for x in range(10) if x%2]\n",
    "print (even_nos)\n"
   ]
  },
  {
   "cell_type": "code",
   "execution_count": 50,
   "metadata": {},
   "outputs": [
    {
     "data": {
      "text/plain": [
       "['river', 'hills', 'and', 'shepherd']"
      ]
     },
     "execution_count": 50,
     "metadata": {},
     "output_type": "execute_result"
    }
   ],
   "source": [
    "word_list = [' river','hills  ',' and','shepherd']\n",
    "new_list = [word.strip() for word in word_list] #string the leading and trailing spaces\n",
    "new_list"
   ]
  },
  {
   "cell_type": "markdown",
   "metadata": {},
   "source": [
    "## Functions\n",
    "\n",
    "A Function is a name given to a set of statements that performs an operation and returns a value. If an operation say, calculating mean of numbers is performed repeatedly, instead of reproducing the code every time it's required, such an operation can be enclosed in a function & called using it's name and if any change to the block of code is required it needs to be made at only one place & is easier to debug."
   ]
  },
  {
   "cell_type": "code",
   "execution_count": 51,
   "metadata": {},
   "outputs": [
    {
     "name": "stdout",
     "output_type": "stream",
     "text": [
      "2.75\n",
      "1.5\n"
     ]
    }
   ],
   "source": [
    "def find_avg(x):\n",
    "    avg = sum(x)/len(x)\n",
    "    return avg\n",
    "print (find_avg([1,3,5,2]))\n",
    "print (find_avg([8,-9,12,-5]))"
   ]
  },
  {
   "cell_type": "markdown",
   "metadata": {},
   "source": [
    "<b>def</b> is a keyword create a function which is followed by a function name and parameter list and finally ending with a block marker (Colon) : . The statements that follow the block marker are part of the function which has to be indented. In the above eg: find_avg is the function name and accepts one argument, x."
   ]
  },
  {
   "cell_type": "code",
   "execution_count": 52,
   "metadata": {},
   "outputs": [
    {
     "name": "stdout",
     "output_type": "stream",
     "text": [
      "48\n",
      "56\n",
      "15\n"
     ]
    }
   ],
   "source": [
    "def prod(x,y,z=1): \n",
    "    return (x+1)*(y+2)*(z+3)\n",
    "\n",
    "print (prod(1,2,3))\n",
    "print (prod(x=1,y=5))\n",
    "print (prod(z=2,y=1,x=0)) #Supply arguments in arbitary order"
   ]
  },
  {
   "cell_type": "markdown",
   "metadata": {},
   "source": [
    "**Default values for function arguments** - In the above function definition, third argument 'z' has a default value 1, when the third parameter is omitted 'z' takes 1."
   ]
  },
  {
   "cell_type": "markdown",
   "metadata": {},
   "source": [
    "**Unpacking argument lists**\n",
    "Suppose that the arguments are in a list or a tuple but need to be unpacked to pass as arguments to a function that require separate positional arguments."
   ]
  },
  {
   "cell_type": "code",
   "execution_count": 53,
   "metadata": {},
   "outputs": [
    {
     "data": {
      "text/plain": [
       "range(3, 10)"
      ]
     },
     "execution_count": 53,
     "metadata": {},
     "output_type": "execute_result"
    }
   ],
   "source": [
    "x = [3,10]\n",
    "range(*x) #range function requires separate start and stop arguments like range(3,10)"
   ]
  },
  {
   "cell_type": "code",
   "execution_count": 54,
   "metadata": {},
   "outputs": [
    {
     "name": "stdout",
     "output_type": "stream",
     "text": [
      "6\n",
      "15\n"
     ]
    },
    {
     "ename": "TypeError",
     "evalue": "func_sum() missing 2 required positional arguments: 'y' and 'z'",
     "output_type": "error",
     "traceback": [
      "\u001b[0;31m---------------------------------------------------------------------------\u001b[0m",
      "\u001b[0;31mTypeError\u001b[0m                                 Traceback (most recent call last)",
      "\u001b[0;32m<ipython-input-54-220499d2074e>\u001b[0m in \u001b[0;36m<module>\u001b[0;34m()\u001b[0m\n\u001b[1;32m     10\u001b[0m \u001b[0;31m#when we have elements in the form of list and tuple they have to be unpacked\u001b[0m\u001b[0;34m\u001b[0m\u001b[0;34m\u001b[0m\u001b[0m\n\u001b[1;32m     11\u001b[0m \u001b[0;34m\u001b[0m\u001b[0m\n\u001b[0;32m---> 12\u001b[0;31m \u001b[0mprint\u001b[0m \u001b[0;34m(\u001b[0m\u001b[0mfunc_sum\u001b[0m\u001b[0;34m(\u001b[0m\u001b[0mlst\u001b[0m\u001b[0;34m)\u001b[0m\u001b[0;34m)\u001b[0m\u001b[0;34m\u001b[0m\u001b[0m\n\u001b[0m\u001b[1;32m     13\u001b[0m \u001b[0;31m#Above function results in error as func_sum requires 3 arguments, whereas a list\u001b[0m\u001b[0;34m\u001b[0m\u001b[0;34m\u001b[0m\u001b[0m\n\u001b[1;32m     14\u001b[0m \u001b[0;31m#is just seen as one argument\u001b[0m\u001b[0;34m\u001b[0m\u001b[0;34m\u001b[0m\u001b[0m\n",
      "\u001b[0;31mTypeError\u001b[0m: func_sum() missing 2 required positional arguments: 'y' and 'z'"
     ]
    }
   ],
   "source": [
    "def func_sum(x,y,z):\n",
    "    return x+y+z\n",
    "lst = [1,2,3]\n",
    "tup = (4,5,6)\n",
    "\n",
    "print (func_sum(*lst))\n",
    "print (func_sum(*tup))\n",
    "\n",
    "#Function requires separate arguments, not in the form of list/tuple\n",
    "#when we have elements in the form of list and tuple they have to be unpacked\n",
    "\n",
    "print (func_sum(lst))\n",
    "#Above function results in error as func_sum requires 3 arguments, whereas a list \n",
    "#is just seen as one argument"
   ]
  },
  {
   "cell_type": "markdown",
   "metadata": {},
   "source": [
    "**Pass a function as an argument to another function**\n",
    "\n",
    "map,filter & reduce function"
   ]
  },
  {
   "cell_type": "markdown",
   "metadata": {},
   "source": [
    "<code>map</code> map(function,seq1,seq2..)- suppose we have a list of scores of different events, where scores are also list & whose averages have to be caculated. eg: event_score =[event1,event2,..eventn] we need to write code explicitly to call find_avg 'n' times."
   ]
  },
  {
   "cell_type": "code",
   "execution_count": 74,
   "metadata": {},
   "outputs": [
    {
     "name": "stdout",
     "output_type": "stream",
     "text": [
      "[[1, 2, 3], [5, 6, 8], range(6, 10), [7, 9, 1]]\n",
      "average: [2.0, 6.333333333333333, 7.5, 5.666666666666667]\n"
     ]
    }
   ],
   "source": [
    "def find_avg(x):\n",
    "    avg = sum(x)/len(x)\n",
    "    return avg\n",
    "events_scores =[[1,2,3],[5,6,8],range(6,10),[7,9,1]]\n",
    "print (events_scores)\n",
    "print (\"average:\",list(map(find_avg,events_scores)))"
   ]
  },
  {
   "cell_type": "markdown",
   "metadata": {},
   "source": [
    "map applies the function <em>find_avg</em> on each element of the list events_scores, which in turn is also a list in the above eg. "
   ]
  },
  {
   "cell_type": "code",
   "execution_count": 56,
   "metadata": {},
   "outputs": [
    {
     "data": {
      "text/plain": [
       "<map at 0x7f5270584550>"
      ]
     },
     "execution_count": 56,
     "metadata": {},
     "output_type": "execute_result"
    }
   ],
   "source": [
    "def sqr(x):\n",
    "    return x*x\n",
    "map(sqr,range(4,10)) #apply the function sqr on each element of range(4,10)"
   ]
  },
  {
   "cell_type": "markdown",
   "metadata": {},
   "source": [
    "<code>filter</code>(function,sequence)\n",
    "\n",
    "Applies the elements of the sequence to the function and returns only those elements for which the function returned true."
   ]
  },
  {
   "cell_type": "code",
   "execution_count": 67,
   "metadata": {},
   "outputs": [
    {
     "data": {
      "text/plain": [
       "[1, 3, 5]"
      ]
     },
     "execution_count": 67,
     "metadata": {},
     "output_type": "execute_result"
    }
   ],
   "source": [
    "def find_odd(x):\n",
    "    return x%2!=0\n",
    "list(filter(find_odd,[1,3,2,4,5]))\n",
    "#filter returns only those elements of the list for which find_odd returned true"
   ]
  },
  {
   "cell_type": "markdown",
   "metadata": {},
   "source": [
    "### Lambda expression\n",
    "\n",
    "This is used to create anonymous one-time use function. Lamda function can have only a single expression (no statements). \n",
    "\n",
    "eg:lambda x,y:x*y returns the product of it's arguments"
   ]
  },
  {
   "cell_type": "code",
   "execution_count": 66,
   "metadata": {},
   "outputs": [
    {
     "name": "stdout",
     "output_type": "stream",
     "text": [
      "[2.0, 6.333333333333333, 7.5, 5.666666666666667]\n",
      "[1, 3, 5]\n"
     ]
    }
   ],
   "source": [
    "events_scores =[[1,2,3],[5,6,8],range(6,10),[7,9,1]]\n",
    "print (list(map(lambda x:sum(x)/len(x),events_scores)))\n",
    "print (list(filter(lambda x:x%2 !=0, [1,3,2,4,5])))\n"
   ]
  },
  {
   "cell_type": "markdown",
   "metadata": {},
   "source": [
    "**Variable Scope**\n",
    "\n",
    "When a function is executed a local namespace gets created, which contains the names of the function parameters and variables that are assigned inside the function body"
   ]
  },
  {
   "cell_type": "code",
   "execution_count": 59,
   "metadata": {},
   "outputs": [
    {
     "name": "stdout",
     "output_type": "stream",
     "text": [
      "Inside the func 10 -5\n",
      "Outside the func 5 -5\n"
     ]
    }
   ],
   "source": [
    "x = 5\n",
    "y = -5\n",
    "def check_scope():\n",
    "    x = 10\n",
    "    print (\"Inside the func\",x,y)\n",
    "check_scope()\n",
    "print (\"Outside the func\",x,y)"
   ]
  },
  {
   "cell_type": "markdown",
   "metadata": {},
   "source": [
    "Both x and y are global variables, inside the function check_scope, x is locally defined which overrides it's global value. Outside the function x value remains unchanged from it's intital assignment. Global variable y is accessible inside the function "
   ]
  },
  {
   "cell_type": "code",
   "execution_count": 60,
   "metadata": {},
   "outputs": [
    {
     "name": "stdout",
     "output_type": "stream",
     "text": [
      "Inside the func 10 -5\n",
      "Outside the func 10 -5\n"
     ]
    }
   ],
   "source": [
    "x = 5\n",
    "y = -5\n",
    "def check_scope():\n",
    "    global x \n",
    "    x = 10\n",
    "    print (\"Inside the func\",x,y)\n",
    "check_scope()\n",
    "print (\"Outside the func\",x,y)"
   ]
  },
  {
   "cell_type": "markdown",
   "metadata": {},
   "source": [
    "Here, we declare the x to be a global variable inside the check_scope function, thus, any changes made inside the function gets reflected outside the function scope as well. "
   ]
  },
  {
   "cell_type": "markdown",
   "metadata": {},
   "source": [
    "**Recursion** \n",
    "\n",
    "Recursive function is a function that calls itself.\n"
   ]
  },
  {
   "cell_type": "code",
   "execution_count": 61,
   "metadata": {},
   "outputs": [
    {
     "name": "stdout",
     "output_type": "stream",
     "text": [
      "40320\n",
      "120\n"
     ]
    }
   ],
   "source": [
    "#Recursion example to find the factorial of a number\n",
    "\n",
    "def fact(n=1):\n",
    "    return 1 if n==1 else n*fact(n-1)\n",
    "print (fact(8))\n",
    "print (fact(5))"
   ]
  },
  {
   "cell_type": "markdown",
   "metadata": {},
   "source": [
    "<em>Note: Python has a maximum recursion depth which is system dependent, this prevents infinite recursion</em>"
   ]
  },
  {
   "cell_type": "markdown",
   "metadata": {},
   "source": [
    "**Variable length arguments**\n",
    "\n",
    "  Function can accept a variable number of arguments if we add * to the last parameter name"
   ]
  },
  {
   "cell_type": "code",
   "execution_count": 62,
   "metadata": {},
   "outputs": [
    {
     "name": "stdout",
     "output_type": "stream",
     "text": [
      "Variable length arg: (20,)\n",
      "20\n",
      "Variable length arg: (22, 33, 44, 55)\n",
      "55\n"
     ]
    }
   ],
   "source": [
    "def sum_num(x,*y):# sum(*y) this also works just as fine\n",
    "    print (\"Variable length arg:\",y)\n",
    "    s = x\n",
    "    for i in y:\n",
    "        s+=i\n",
    "    return i\n",
    "print (sum_num(10,20))\n",
    "print (sum_num(11,22,33,44,55))"
   ]
  },
  {
   "cell_type": "markdown",
   "metadata": {},
   "source": [
    "After the first argument, remaining arguments are placed in the y variable as tuple. "
   ]
  },
  {
   "cell_type": "markdown",
   "metadata": {},
   "source": [
    "#### Pass by reference or value & side effect\n",
    "\n",
    "In a pass by reference mechansim, parameters passed are references to the memory locations of the original arguments, in pass by value parameters are just the copies of the original arguments passed in.\n",
    "\n",
    "In Python, passing an immutable object like string/tuple is like passing by value, whereas if a mututable object like list/dictonary is passed to a function where it gets modified then those changes will be reflected outside the scope of the function too."
   ]
  },
  {
   "cell_type": "code",
   "execution_count": 63,
   "metadata": {
    "scrolled": false
   },
   "outputs": [
    {
     "name": "stdout",
     "output_type": "stream",
     "text": [
      "Before calling the function\n",
      "String:'check',Id:139992171286576\n",
      "\n",
      "Inside the function\n",
      "String 'check', id before changing:139992171286576\n",
      "String 'change', id after changing:139992168509992\n",
      "\n",
      "Original String value after returning from the function 'check'\n"
     ]
    }
   ],
   "source": [
    "#Passing an immutable object, a string\n",
    "\n",
    "def pass_ref_val(string):\n",
    "    print(\"\\nInside the function\")\n",
    "    print(\"String \\'%s\\', id before changing:%d\"%(string,id(string)))\n",
    "    \n",
    "    string = \"change\"\n",
    "    \n",
    "    print(\"String \\'%s\\', id after changing:%d\"%(string,id(string)))\n",
    "\n",
    "string = \"check\"\n",
    "print(\"Before calling the function\\nString:\\'%s\\',Id:%d\"%(string,id(string)))\n",
    "pass_ref_val(string)\n",
    "print (\"\\nOriginal String value after returning from the function \\'%s\\'\"%string)"
   ]
  },
  {
   "cell_type": "markdown",
   "metadata": {},
   "source": [
    "When passing an immutable object like string, receving argument in the function has the same id as the variable defined outside the scope of the function, however once it was re-assigned to a different value it gets a new id thus any change in the value of the receiving argument doesn't affect the variable outside the function scope, which is not always the case when passing mutable objects like list as shown below."
   ]
  },
  {
   "cell_type": "code",
   "execution_count": 64,
   "metadata": {},
   "outputs": [
    {
     "name": "stdout",
     "output_type": "stream",
     "text": [
      "Before calling the function \n",
      "lst1 [2, 3, 4], id :139992075901640\n",
      "lst2 [1, 5, 7], id :139992075900360\n",
      "\n",
      "Inside the function\n",
      "lst1 [2, 3, 4] id before changing:139992075901640\n",
      "lst2 [1, 5, 7] id before changing:139992075900360\n",
      "lst1 [2, 3, 4] id after changing:139992048973064\n",
      "lst2 [1, 5, 7, -99] id after changing:139992075900360\n",
      "\n",
      "After returning from the function \n",
      "lst1:[2, 3, 4], lst2:[1, 5, 7, -99]\n"
     ]
    }
   ],
   "source": [
    "def pass_ref_val(l1,l2):\n",
    "    print(\"\\nInside the function\")\n",
    "    print(\"lst1 %s id before changing:%d\"%(l1,id(lst1)))\n",
    "    print(\"lst2 %s id before changing:%d\"%(lst2,id(l2)))\n",
    "    l1 = [1,2,3]\n",
    "    l2.append(-99)\n",
    "    print(\"lst1 %s id after changing:%d\"%(lst1,id(l1)))\n",
    "    print(\"lst2 %s id after changing:%d\"%(lst2,id(l2)))\n",
    "\n",
    "lst1,lst2 = [2,3,4],[1,5,7]\n",
    "print(\"Before calling the function \\nlst1 %s, id :%d\"%(lst1,id(lst1)))\n",
    "print(\"lst2 %s, id :%d\"%(lst2,id(lst2)))\n",
    "\n",
    "pass_ref_val(lst1,lst2)\n",
    "print(\"\\nAfter returning from the function \\nlst1:%s, lst2:%s\"%(lst1,lst2))"
   ]
  },
  {
   "cell_type": "markdown",
   "metadata": {},
   "source": [
    "In the above example function argument receiving lst1 was re-assigned inside the function whereas the argument receiving lst2 was changed inside the function. In the latter case id of the variable after the operation remains unchanged thus affecting lst2 that was defined outside the function, whereas in the former case id of the variable changes after reassigning and any change in the value of the receiving variable is not reflected in the main scope. "
   ]
  },
  {
   "cell_type": "markdown",
   "metadata": {},
   "source": [
    "Functions like the above ones that can affect the variables that are defined outside their scope are said to have a <b>side effect</b>.\n",
    "\n",
    "How can we address the above issue? Earlier, in the list section we came across a similar problem while trying to make a copy of the list, can we use it here?"
   ]
  }
 ],
 "metadata": {
  "kernelspec": {
   "display_name": "Python 3",
   "language": "python",
   "name": "python3"
  },
  "language_info": {
   "codemirror_mode": {
    "name": "ipython",
    "version": 3
   },
   "file_extension": ".py",
   "mimetype": "text/x-python",
   "name": "python",
   "nbconvert_exporter": "python",
   "pygments_lexer": "ipython3",
   "version": "3.7.3"
  }
 },
 "nbformat": 4,
 "nbformat_minor": 2
}
