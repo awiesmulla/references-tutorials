{
 "cells": [
  {
   "cell_type": "markdown",
   "metadata": {},
   "source": [
    "#### 1. Random walk simulation\n",
    "\n",
    "Simulate an 1000-step random walk exercise where a person starting from 0 takes one step to the right(+1) or to the left(-1) with equal probability. \n",
    "\n",
    "Find the max distance reached from the origin. Carry out 100 trails of this process and find the mean of the max distance of all trails.\n",
    "\n",
    "Useful functions in numpy : random.randint , cumsum, where, abs "
   ]
  },
  {
   "cell_type": "code",
   "execution_count": null,
   "metadata": {
    "collapsed": true
   },
   "outputs": [],
   "source": [
    "import numpy as np\n",
    "steps = 1000\n",
    "trail = 100\n",
    "#First generate n-steps sequence\n",
    "\n",
    " \n",
    " "
   ]
  },
  {
   "cell_type": "markdown",
   "metadata": {},
   "source": [
    "#### 2. Sides of a triangle\n",
    "\n",
    "Consider a stick of length 10units.\n",
    "Write a program having two functions, one to randomly select two points on the stick at which to break and another function to determine if the pieces can form the sides of a triangle. Carry out 100 trails and report the probability of finding the right pieces that can form the sides of the triangle"
   ]
  },
  {
   "cell_type": "code",
   "execution_count": null,
   "metadata": {
    "collapsed": true
   },
   "outputs": [],
   "source": [
    "import numpy as np\n",
    "#def stick_pieces(length=10):\n",
    " \n",
    "\n",
    "#def triangle_check(x,y,z):\n",
    "\n",
    "#print(\"Probability:\",)"
   ]
  },
  {
   "cell_type": "markdown",
   "metadata": {},
   "source": [
    "#### 3. Random number generation\n",
    "\n",
    "Generate 10 random numbers in the interval [0,1] and obtain an array $X$. Generate another array $Y$ such that $Y[i]$ is 1 if $X[i]\\ge 0.5$ and 0 otherwise. Compare the two arrays by stacking them. In other words, create a 2x10 matrix and print it."
   ]
  },
  {
   "cell_type": "code",
   "execution_count": null,
   "metadata": {
    "collapsed": true
   },
   "outputs": [],
   "source": [
    "\n",
    "\n"
   ]
  },
  {
   "cell_type": "markdown",
   "metadata": {},
   "source": [
    "#### 4. Pearson's correlation coefficient\n",
    "\n",
    "Given two arrays $X,Y$, correlation is a measure of linear dependence of values of one array on the other. For example, heights and weights of a group of people are correlated. Implement the below formula for correlation and verify the result using numpy's corrcoef method.\n",
    "\n",
    "This is given by $\\frac{\\sum(X-X_{mean})(Y-Y_{mean})}{\\sqrt{\\sum(X-X_{mean})^2\\sum(Y-Y_{mean})^2}}$  . \n",
    "\n"
   ]
  },
  {
   "cell_type": "code",
   "execution_count": null,
   "metadata": {
    "collapsed": true
   },
   "outputs": [],
   "source": [
    "# Write your code here.\n",
    "\n",
    "\n",
    "\n"
   ]
  },
  {
   "cell_type": "markdown",
   "metadata": {},
   "source": [
    "#### 5. Mean & Variance of crude oil prices\n",
    "Read the price of the two varieties of crude oil from the file <code>spot_prices_crude</code>. Find the mean & the standard deviation of the two types of crude oil. \n",
    "\n",
    "Examine the contents of the csv file, there are some dates for which the price is not known, mean calculation should handle such cases.\n",
    "\n",
    "Useful functions in numpy: isnan, genfromtxt, nan_to_num, mean, std"
   ]
  },
  {
   "cell_type": "code",
   "execution_count": 1,
   "metadata": {
    "collapsed": true
   },
   "outputs": [],
   "source": [
    "import numpy as np\n",
    "data = np.genfromtxt('./misc/spot_prices_crude.csv',delimiter=\";\")\n",
    "\n",
    "# print(\"Crude1_mean:\",,\",Crude2_mean:\",)\n",
    " "
   ]
  }
 ],
 "metadata": {
  "kernelspec": {
   "display_name": "Python 3",
   "language": "python",
   "name": "python3"
  },
  "language_info": {
   "codemirror_mode": {
    "name": "ipython",
    "version": 3
   },
   "file_extension": ".py",
   "mimetype": "text/x-python",
   "name": "python",
   "nbconvert_exporter": "python",
   "pygments_lexer": "ipython3",
   "version": "3.7.3"
  }
 },
 "nbformat": 4,
 "nbformat_minor": 2
}
