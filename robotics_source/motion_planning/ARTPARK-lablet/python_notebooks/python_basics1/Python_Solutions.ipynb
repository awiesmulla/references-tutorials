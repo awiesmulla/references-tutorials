{
 "cells": [
  {
   "cell_type": "markdown",
   "metadata": {},
   "source": [
    "### Introduction to Python - Solutions"
   ]
  },
  {
   "cell_type": "markdown",
   "metadata": {},
   "source": [
    "#### 1. Palindrome checker\n",
    "Write a function <code>is_palindrome</code> that takes a number and returns <code>True</code> if it's a palindrome and <code>False</code> otherwise."
   ]
  },
  {
   "cell_type": "code",
   "execution_count": 1,
   "metadata": {},
   "outputs": [],
   "source": [
    "def is_palindrome(x):\n",
    "    reverse_number = str(x)[::-1]\n",
    "    return str(x) == reverse_number\n",
    "\n",
    "print(is_palindrome(12343),is_palindrome(12321))"
   ]
  },
  {
   "cell_type": "markdown",
   "metadata": {},
   "source": [
    "#### 2. Sum of squares\n",
    "Write a function <code>sum_squares</code> that takes a value <code>n</code> and returns the sum of the squares of the first <code>n</code> integers. Use the map and sum functions."
   ]
  },
  {
   "cell_type": "code",
   "execution_count": 2,
   "metadata": {},
   "outputs": [],
   "source": [
    "def sum_squares(n):\n",
    "    return sum(map(lambda x:x**2, range(1,n+1)))\n",
    "sum_squares(3)"
   ]
  },
  {
   "cell_type": "markdown",
   "metadata": {},
   "source": [
    "#### 3. Generate the grid pattern\n",
    "\n",
    "Consider the given grid and generate the required grid pattern"
   ]
  },
  {
   "cell_type": "code",
   "execution_count": 3,
   "metadata": {
    "scrolled": true
   },
   "outputs": [],
   "source": [
    "import grid\n",
    "grid.create_grid(8,8)\n",
    "grid.show()"
   ]
  },
  {
   "cell_type": "code",
   "execution_count": 4,
   "metadata": {
    "scrolled": true
   },
   "outputs": [
    {
     "data": {
      "text/html": [
       "<style type=\"text/css\">table.blockgrid {border: none;} .blockgrid tr {border: none;} .blockgrid td {padding: 0px;} #blocks171f946b-7279-4e77-b0de-c92dfd4c3fe6 td {border: 1px solid black;}</style><table id=\"blocks171f946b-7279-4e77-b0de-c92dfd4c3fe6\" class=\"blockgrid\"><tbody><tr><td title=\"0 0\" style=\"width: 30px; height: 30px;background-color: rgb(240, 240, 240);\"></td><td title=\"0 1\" style=\"width: 30px; height: 30px;background-color: rgb(240, 240, 240);\"></td><td title=\"0 2\" style=\"width: 30px; height: 30px;background-color: rgb(240, 240, 240);\"></td><td title=\"0 3\" style=\"width: 30px; height: 30px;background-color: rgb(240, 240, 240);\"></td><td title=\"0 4\" style=\"width: 30px; height: 30px;background-color: rgb(240, 240, 240);\"></td><td title=\"0 5\" style=\"width: 30px; height: 30px;background-color: rgb(240, 240, 240);\"></td><td title=\"0 6\" style=\"width: 30px; height: 30px;background-color: rgb(240, 240, 240);\"></td><td title=\"0 7\" style=\"width: 30px; height: 30px;background-color: rgb(240, 240, 240);\"></td></tr><tr><td title=\"1 0\" style=\"width: 30px; height: 30px;background-color: rgb(240, 240, 240);\"></td><td title=\"1 1\" style=\"width: 30px; height: 30px;background-color: rgb(240, 240, 240);\"></td><td title=\"1 2\" style=\"width: 30px; height: 30px;background-color: rgb(240, 240, 240);\"></td><td title=\"1 3\" style=\"width: 30px; height: 30px;background-color: rgb(240, 240, 240);\"></td><td title=\"1 4\" style=\"width: 30px; height: 30px;background-color: rgb(240, 240, 240);\"></td><td title=\"1 5\" style=\"width: 30px; height: 30px;background-color: rgb(240, 240, 240);\"></td><td title=\"1 6\" style=\"width: 30px; height: 30px;background-color: rgb(240, 240, 240);\"></td><td title=\"1 7\" style=\"width: 30px; height: 30px;background-color: rgb(240, 240, 240);\"></td></tr><tr><td title=\"2 0\" style=\"width: 30px; height: 30px;background-color: rgb(240, 240, 240);\"></td><td title=\"2 1\" style=\"width: 30px; height: 30px;background-color: rgb(240, 240, 240);\"></td><td title=\"2 2\" style=\"width: 30px; height: 30px;background-color: rgb(240, 240, 240);\"></td><td title=\"2 3\" style=\"width: 30px; height: 30px;background-color: rgb(240, 240, 240);\"></td><td title=\"2 4\" style=\"width: 30px; height: 30px;background-color: rgb(240, 240, 240);\"></td><td title=\"2 5\" style=\"width: 30px; height: 30px;background-color: rgb(240, 240, 240);\"></td><td title=\"2 6\" style=\"width: 30px; height: 30px;background-color: rgb(240, 240, 240);\"></td><td title=\"2 7\" style=\"width: 30px; height: 30px;background-color: rgb(240, 240, 240);\"></td></tr><tr><td title=\"3 0\" style=\"width: 30px; height: 30px;background-color: rgb(240, 240, 240);\"></td><td title=\"3 1\" style=\"width: 30px; height: 30px;background-color: rgb(240, 240, 240);\"></td><td title=\"3 2\" style=\"width: 30px; height: 30px;background-color: rgb(240, 240, 240);\"></td><td title=\"3 3\" style=\"width: 30px; height: 30px;background-color: rgb(240, 240, 240);\"></td><td title=\"3 4\" style=\"width: 30px; height: 30px;background-color: rgb(240, 240, 240);\"></td><td title=\"3 5\" style=\"width: 30px; height: 30px;background-color: rgb(240, 240, 240);\"></td><td title=\"3 6\" style=\"width: 30px; height: 30px;background-color: rgb(240, 240, 240);\"></td><td title=\"3 7\" style=\"width: 30px; height: 30px;background-color: rgb(240, 240, 240);\"></td></tr><tr><td title=\"4 0\" style=\"width: 30px; height: 30px;background-color: rgb(240, 240, 240);\"></td><td title=\"4 1\" style=\"width: 30px; height: 30px;background-color: rgb(240, 240, 240);\"></td><td title=\"4 2\" style=\"width: 30px; height: 30px;background-color: rgb(240, 240, 240);\"></td><td title=\"4 3\" style=\"width: 30px; height: 30px;background-color: rgb(240, 240, 240);\"></td><td title=\"4 4\" style=\"width: 30px; height: 30px;background-color: rgb(240, 240, 240);\"></td><td title=\"4 5\" style=\"width: 30px; height: 30px;background-color: rgb(240, 240, 240);\"></td><td title=\"4 6\" style=\"width: 30px; height: 30px;background-color: rgb(240, 240, 240);\"></td><td title=\"4 7\" style=\"width: 30px; height: 30px;background-color: rgb(240, 240, 240);\"></td></tr><tr><td title=\"5 0\" style=\"width: 30px; height: 30px;background-color: rgb(240, 240, 240);\"></td><td title=\"5 1\" style=\"width: 30px; height: 30px;background-color: rgb(240, 240, 240);\"></td><td title=\"5 2\" style=\"width: 30px; height: 30px;background-color: rgb(240, 240, 240);\"></td><td title=\"5 3\" style=\"width: 30px; height: 30px;background-color: rgb(240, 240, 240);\"></td><td title=\"5 4\" style=\"width: 30px; height: 30px;background-color: rgb(240, 240, 240);\"></td><td title=\"5 5\" style=\"width: 30px; height: 30px;background-color: rgb(240, 240, 240);\"></td><td title=\"5 6\" style=\"width: 30px; height: 30px;background-color: rgb(240, 240, 240);\"></td><td title=\"5 7\" style=\"width: 30px; height: 30px;background-color: rgb(240, 240, 240);\"></td></tr><tr><td title=\"6 0\" style=\"width: 30px; height: 30px;background-color: rgb(240, 240, 240);\"></td><td title=\"6 1\" style=\"width: 30px; height: 30px;background-color: rgb(240, 240, 240);\"></td><td title=\"6 2\" style=\"width: 30px; height: 30px;background-color: rgb(240, 240, 240);\"></td><td title=\"6 3\" style=\"width: 30px; height: 30px;background-color: rgb(240, 240, 240);\"></td><td title=\"6 4\" style=\"width: 30px; height: 30px;background-color: rgb(240, 240, 240);\"></td><td title=\"6 5\" style=\"width: 30px; height: 30px;background-color: rgb(240, 240, 240);\"></td><td title=\"6 6\" style=\"width: 30px; height: 30px;background-color: rgb(60, 60, 60);\"></td><td title=\"6 7\" style=\"width: 30px; height: 30px;background-color: rgb(240, 240, 240);\"></td></tr><tr><td title=\"7 0\" style=\"width: 30px; height: 30px;background-color: rgb(240, 240, 240);\"></td><td title=\"7 1\" style=\"width: 30px; height: 30px;background-color: rgb(240, 240, 240);\"></td><td title=\"7 2\" style=\"width: 30px; height: 30px;background-color: rgb(240, 240, 240);\"></td><td title=\"7 3\" style=\"width: 30px; height: 30px;background-color: rgb(240, 240, 240);\"></td><td title=\"7 4\" style=\"width: 30px; height: 30px;background-color: rgb(240, 240, 240);\"></td><td title=\"7 5\" style=\"width: 30px; height: 30px;background-color: rgb(240, 240, 240);\"></td><td title=\"7 6\" style=\"width: 30px; height: 30px;background-color: rgb(240, 240, 240);\"></td><td title=\"7 7\" style=\"width: 30px; height: 30px;background-color: rgb(240, 240, 240);\"></td></tr></tbody></table>"
      ],
      "text/plain": [
       "<IPython.core.display.HTML object>"
      ]
     },
     "metadata": {},
     "output_type": "display_data"
    }
   ],
   "source": [
    "grid.paint_black(6,6) # Operation will overwrite on the previous grid pattern without clearing it\n",
    "grid.show() "
   ]
  },
  {
   "cell_type": "markdown",
   "metadata": {},
   "source": [
    "Write a program to generate a checkerboard pattern in which the black and white cells are of size 2x2. \n"
   ]
  },
  {
   "cell_type": "markdown",
   "metadata": {},
   "source": [
    "#### Solution"
   ]
  },
  {
   "cell_type": "code",
   "execution_count": 5,
   "metadata": {
    "scrolled": false
   },
   "outputs": [
    {
     "data": {
      "text/html": [
       "<style type=\"text/css\">table.blockgrid {border: none;} .blockgrid tr {border: none;} .blockgrid td {padding: 0px;} #blocksbeb5608a-2af3-48de-80cf-55d6ed05afdd td {border: 1px solid black;}</style><table id=\"blocksbeb5608a-2af3-48de-80cf-55d6ed05afdd\" class=\"blockgrid\"><tbody><tr><td title=\"0 0\" style=\"width: 30px; height: 30px;background-color: rgb(60, 60, 60);\"></td><td title=\"0 1\" style=\"width: 30px; height: 30px;background-color: rgb(60, 60, 60);\"></td><td title=\"0 2\" style=\"width: 30px; height: 30px;background-color: rgb(240, 240, 240);\"></td><td title=\"0 3\" style=\"width: 30px; height: 30px;background-color: rgb(240, 240, 240);\"></td><td title=\"0 4\" style=\"width: 30px; height: 30px;background-color: rgb(60, 60, 60);\"></td><td title=\"0 5\" style=\"width: 30px; height: 30px;background-color: rgb(60, 60, 60);\"></td><td title=\"0 6\" style=\"width: 30px; height: 30px;background-color: rgb(240, 240, 240);\"></td><td title=\"0 7\" style=\"width: 30px; height: 30px;background-color: rgb(240, 240, 240);\"></td><td title=\"0 8\" style=\"width: 30px; height: 30px;background-color: rgb(60, 60, 60);\"></td><td title=\"0 9\" style=\"width: 30px; height: 30px;background-color: rgb(60, 60, 60);\"></td><td title=\"0 10\" style=\"width: 30px; height: 30px;background-color: rgb(240, 240, 240);\"></td><td title=\"0 11\" style=\"width: 30px; height: 30px;background-color: rgb(240, 240, 240);\"></td></tr><tr><td title=\"1 0\" style=\"width: 30px; height: 30px;background-color: rgb(60, 60, 60);\"></td><td title=\"1 1\" style=\"width: 30px; height: 30px;background-color: rgb(60, 60, 60);\"></td><td title=\"1 2\" style=\"width: 30px; height: 30px;background-color: rgb(240, 240, 240);\"></td><td title=\"1 3\" style=\"width: 30px; height: 30px;background-color: rgb(240, 240, 240);\"></td><td title=\"1 4\" style=\"width: 30px; height: 30px;background-color: rgb(60, 60, 60);\"></td><td title=\"1 5\" style=\"width: 30px; height: 30px;background-color: rgb(60, 60, 60);\"></td><td title=\"1 6\" style=\"width: 30px; height: 30px;background-color: rgb(240, 240, 240);\"></td><td title=\"1 7\" style=\"width: 30px; height: 30px;background-color: rgb(240, 240, 240);\"></td><td title=\"1 8\" style=\"width: 30px; height: 30px;background-color: rgb(60, 60, 60);\"></td><td title=\"1 9\" style=\"width: 30px; height: 30px;background-color: rgb(60, 60, 60);\"></td><td title=\"1 10\" style=\"width: 30px; height: 30px;background-color: rgb(240, 240, 240);\"></td><td title=\"1 11\" style=\"width: 30px; height: 30px;background-color: rgb(240, 240, 240);\"></td></tr><tr><td title=\"2 0\" style=\"width: 30px; height: 30px;background-color: rgb(240, 240, 240);\"></td><td title=\"2 1\" style=\"width: 30px; height: 30px;background-color: rgb(240, 240, 240);\"></td><td title=\"2 2\" style=\"width: 30px; height: 30px;background-color: rgb(60, 60, 60);\"></td><td title=\"2 3\" style=\"width: 30px; height: 30px;background-color: rgb(60, 60, 60);\"></td><td title=\"2 4\" style=\"width: 30px; height: 30px;background-color: rgb(240, 240, 240);\"></td><td title=\"2 5\" style=\"width: 30px; height: 30px;background-color: rgb(240, 240, 240);\"></td><td title=\"2 6\" style=\"width: 30px; height: 30px;background-color: rgb(60, 60, 60);\"></td><td title=\"2 7\" style=\"width: 30px; height: 30px;background-color: rgb(60, 60, 60);\"></td><td title=\"2 8\" style=\"width: 30px; height: 30px;background-color: rgb(240, 240, 240);\"></td><td title=\"2 9\" style=\"width: 30px; height: 30px;background-color: rgb(240, 240, 240);\"></td><td title=\"2 10\" style=\"width: 30px; height: 30px;background-color: rgb(60, 60, 60);\"></td><td title=\"2 11\" style=\"width: 30px; height: 30px;background-color: rgb(60, 60, 60);\"></td></tr><tr><td title=\"3 0\" style=\"width: 30px; height: 30px;background-color: rgb(240, 240, 240);\"></td><td title=\"3 1\" style=\"width: 30px; height: 30px;background-color: rgb(240, 240, 240);\"></td><td title=\"3 2\" style=\"width: 30px; height: 30px;background-color: rgb(60, 60, 60);\"></td><td title=\"3 3\" style=\"width: 30px; height: 30px;background-color: rgb(60, 60, 60);\"></td><td title=\"3 4\" style=\"width: 30px; height: 30px;background-color: rgb(240, 240, 240);\"></td><td title=\"3 5\" style=\"width: 30px; height: 30px;background-color: rgb(240, 240, 240);\"></td><td title=\"3 6\" style=\"width: 30px; height: 30px;background-color: rgb(60, 60, 60);\"></td><td title=\"3 7\" style=\"width: 30px; height: 30px;background-color: rgb(60, 60, 60);\"></td><td title=\"3 8\" style=\"width: 30px; height: 30px;background-color: rgb(240, 240, 240);\"></td><td title=\"3 9\" style=\"width: 30px; height: 30px;background-color: rgb(240, 240, 240);\"></td><td title=\"3 10\" style=\"width: 30px; height: 30px;background-color: rgb(60, 60, 60);\"></td><td title=\"3 11\" style=\"width: 30px; height: 30px;background-color: rgb(60, 60, 60);\"></td></tr><tr><td title=\"4 0\" style=\"width: 30px; height: 30px;background-color: rgb(60, 60, 60);\"></td><td title=\"4 1\" style=\"width: 30px; height: 30px;background-color: rgb(60, 60, 60);\"></td><td title=\"4 2\" style=\"width: 30px; height: 30px;background-color: rgb(240, 240, 240);\"></td><td title=\"4 3\" style=\"width: 30px; height: 30px;background-color: rgb(240, 240, 240);\"></td><td title=\"4 4\" style=\"width: 30px; height: 30px;background-color: rgb(60, 60, 60);\"></td><td title=\"4 5\" style=\"width: 30px; height: 30px;background-color: rgb(60, 60, 60);\"></td><td title=\"4 6\" style=\"width: 30px; height: 30px;background-color: rgb(240, 240, 240);\"></td><td title=\"4 7\" style=\"width: 30px; height: 30px;background-color: rgb(240, 240, 240);\"></td><td title=\"4 8\" style=\"width: 30px; height: 30px;background-color: rgb(60, 60, 60);\"></td><td title=\"4 9\" style=\"width: 30px; height: 30px;background-color: rgb(60, 60, 60);\"></td><td title=\"4 10\" style=\"width: 30px; height: 30px;background-color: rgb(240, 240, 240);\"></td><td title=\"4 11\" style=\"width: 30px; height: 30px;background-color: rgb(240, 240, 240);\"></td></tr><tr><td title=\"5 0\" style=\"width: 30px; height: 30px;background-color: rgb(60, 60, 60);\"></td><td title=\"5 1\" style=\"width: 30px; height: 30px;background-color: rgb(60, 60, 60);\"></td><td title=\"5 2\" style=\"width: 30px; height: 30px;background-color: rgb(240, 240, 240);\"></td><td title=\"5 3\" style=\"width: 30px; height: 30px;background-color: rgb(240, 240, 240);\"></td><td title=\"5 4\" style=\"width: 30px; height: 30px;background-color: rgb(60, 60, 60);\"></td><td title=\"5 5\" style=\"width: 30px; height: 30px;background-color: rgb(60, 60, 60);\"></td><td title=\"5 6\" style=\"width: 30px; height: 30px;background-color: rgb(240, 240, 240);\"></td><td title=\"5 7\" style=\"width: 30px; height: 30px;background-color: rgb(240, 240, 240);\"></td><td title=\"5 8\" style=\"width: 30px; height: 30px;background-color: rgb(60, 60, 60);\"></td><td title=\"5 9\" style=\"width: 30px; height: 30px;background-color: rgb(60, 60, 60);\"></td><td title=\"5 10\" style=\"width: 30px; height: 30px;background-color: rgb(240, 240, 240);\"></td><td title=\"5 11\" style=\"width: 30px; height: 30px;background-color: rgb(240, 240, 240);\"></td></tr><tr><td title=\"6 0\" style=\"width: 30px; height: 30px;background-color: rgb(240, 240, 240);\"></td><td title=\"6 1\" style=\"width: 30px; height: 30px;background-color: rgb(240, 240, 240);\"></td><td title=\"6 2\" style=\"width: 30px; height: 30px;background-color: rgb(60, 60, 60);\"></td><td title=\"6 3\" style=\"width: 30px; height: 30px;background-color: rgb(60, 60, 60);\"></td><td title=\"6 4\" style=\"width: 30px; height: 30px;background-color: rgb(240, 240, 240);\"></td><td title=\"6 5\" style=\"width: 30px; height: 30px;background-color: rgb(240, 240, 240);\"></td><td title=\"6 6\" style=\"width: 30px; height: 30px;background-color: rgb(60, 60, 60);\"></td><td title=\"6 7\" style=\"width: 30px; height: 30px;background-color: rgb(60, 60, 60);\"></td><td title=\"6 8\" style=\"width: 30px; height: 30px;background-color: rgb(240, 240, 240);\"></td><td title=\"6 9\" style=\"width: 30px; height: 30px;background-color: rgb(240, 240, 240);\"></td><td title=\"6 10\" style=\"width: 30px; height: 30px;background-color: rgb(60, 60, 60);\"></td><td title=\"6 11\" style=\"width: 30px; height: 30px;background-color: rgb(60, 60, 60);\"></td></tr><tr><td title=\"7 0\" style=\"width: 30px; height: 30px;background-color: rgb(240, 240, 240);\"></td><td title=\"7 1\" style=\"width: 30px; height: 30px;background-color: rgb(240, 240, 240);\"></td><td title=\"7 2\" style=\"width: 30px; height: 30px;background-color: rgb(60, 60, 60);\"></td><td title=\"7 3\" style=\"width: 30px; height: 30px;background-color: rgb(60, 60, 60);\"></td><td title=\"7 4\" style=\"width: 30px; height: 30px;background-color: rgb(240, 240, 240);\"></td><td title=\"7 5\" style=\"width: 30px; height: 30px;background-color: rgb(240, 240, 240);\"></td><td title=\"7 6\" style=\"width: 30px; height: 30px;background-color: rgb(60, 60, 60);\"></td><td title=\"7 7\" style=\"width: 30px; height: 30px;background-color: rgb(60, 60, 60);\"></td><td title=\"7 8\" style=\"width: 30px; height: 30px;background-color: rgb(240, 240, 240);\"></td><td title=\"7 9\" style=\"width: 30px; height: 30px;background-color: rgb(240, 240, 240);\"></td><td title=\"7 10\" style=\"width: 30px; height: 30px;background-color: rgb(60, 60, 60);\"></td><td title=\"7 11\" style=\"width: 30px; height: 30px;background-color: rgb(60, 60, 60);\"></td></tr><tr><td title=\"8 0\" style=\"width: 30px; height: 30px;background-color: rgb(60, 60, 60);\"></td><td title=\"8 1\" style=\"width: 30px; height: 30px;background-color: rgb(60, 60, 60);\"></td><td title=\"8 2\" style=\"width: 30px; height: 30px;background-color: rgb(240, 240, 240);\"></td><td title=\"8 3\" style=\"width: 30px; height: 30px;background-color: rgb(240, 240, 240);\"></td><td title=\"8 4\" style=\"width: 30px; height: 30px;background-color: rgb(60, 60, 60);\"></td><td title=\"8 5\" style=\"width: 30px; height: 30px;background-color: rgb(60, 60, 60);\"></td><td title=\"8 6\" style=\"width: 30px; height: 30px;background-color: rgb(240, 240, 240);\"></td><td title=\"8 7\" style=\"width: 30px; height: 30px;background-color: rgb(240, 240, 240);\"></td><td title=\"8 8\" style=\"width: 30px; height: 30px;background-color: rgb(60, 60, 60);\"></td><td title=\"8 9\" style=\"width: 30px; height: 30px;background-color: rgb(60, 60, 60);\"></td><td title=\"8 10\" style=\"width: 30px; height: 30px;background-color: rgb(240, 240, 240);\"></td><td title=\"8 11\" style=\"width: 30px; height: 30px;background-color: rgb(240, 240, 240);\"></td></tr><tr><td title=\"9 0\" style=\"width: 30px; height: 30px;background-color: rgb(60, 60, 60);\"></td><td title=\"9 1\" style=\"width: 30px; height: 30px;background-color: rgb(60, 60, 60);\"></td><td title=\"9 2\" style=\"width: 30px; height: 30px;background-color: rgb(240, 240, 240);\"></td><td title=\"9 3\" style=\"width: 30px; height: 30px;background-color: rgb(240, 240, 240);\"></td><td title=\"9 4\" style=\"width: 30px; height: 30px;background-color: rgb(60, 60, 60);\"></td><td title=\"9 5\" style=\"width: 30px; height: 30px;background-color: rgb(60, 60, 60);\"></td><td title=\"9 6\" style=\"width: 30px; height: 30px;background-color: rgb(240, 240, 240);\"></td><td title=\"9 7\" style=\"width: 30px; height: 30px;background-color: rgb(240, 240, 240);\"></td><td title=\"9 8\" style=\"width: 30px; height: 30px;background-color: rgb(60, 60, 60);\"></td><td title=\"9 9\" style=\"width: 30px; height: 30px;background-color: rgb(60, 60, 60);\"></td><td title=\"9 10\" style=\"width: 30px; height: 30px;background-color: rgb(240, 240, 240);\"></td><td title=\"9 11\" style=\"width: 30px; height: 30px;background-color: rgb(240, 240, 240);\"></td></tr><tr><td title=\"10 0\" style=\"width: 30px; height: 30px;background-color: rgb(240, 240, 240);\"></td><td title=\"10 1\" style=\"width: 30px; height: 30px;background-color: rgb(240, 240, 240);\"></td><td title=\"10 2\" style=\"width: 30px; height: 30px;background-color: rgb(60, 60, 60);\"></td><td title=\"10 3\" style=\"width: 30px; height: 30px;background-color: rgb(60, 60, 60);\"></td><td title=\"10 4\" style=\"width: 30px; height: 30px;background-color: rgb(240, 240, 240);\"></td><td title=\"10 5\" style=\"width: 30px; height: 30px;background-color: rgb(240, 240, 240);\"></td><td title=\"10 6\" style=\"width: 30px; height: 30px;background-color: rgb(60, 60, 60);\"></td><td title=\"10 7\" style=\"width: 30px; height: 30px;background-color: rgb(60, 60, 60);\"></td><td title=\"10 8\" style=\"width: 30px; height: 30px;background-color: rgb(240, 240, 240);\"></td><td title=\"10 9\" style=\"width: 30px; height: 30px;background-color: rgb(240, 240, 240);\"></td><td title=\"10 10\" style=\"width: 30px; height: 30px;background-color: rgb(60, 60, 60);\"></td><td title=\"10 11\" style=\"width: 30px; height: 30px;background-color: rgb(60, 60, 60);\"></td></tr><tr><td title=\"11 0\" style=\"width: 30px; height: 30px;background-color: rgb(240, 240, 240);\"></td><td title=\"11 1\" style=\"width: 30px; height: 30px;background-color: rgb(240, 240, 240);\"></td><td title=\"11 2\" style=\"width: 30px; height: 30px;background-color: rgb(60, 60, 60);\"></td><td title=\"11 3\" style=\"width: 30px; height: 30px;background-color: rgb(60, 60, 60);\"></td><td title=\"11 4\" style=\"width: 30px; height: 30px;background-color: rgb(240, 240, 240);\"></td><td title=\"11 5\" style=\"width: 30px; height: 30px;background-color: rgb(240, 240, 240);\"></td><td title=\"11 6\" style=\"width: 30px; height: 30px;background-color: rgb(60, 60, 60);\"></td><td title=\"11 7\" style=\"width: 30px; height: 30px;background-color: rgb(60, 60, 60);\"></td><td title=\"11 8\" style=\"width: 30px; height: 30px;background-color: rgb(240, 240, 240);\"></td><td title=\"11 9\" style=\"width: 30px; height: 30px;background-color: rgb(240, 240, 240);\"></td><td title=\"11 10\" style=\"width: 30px; height: 30px;background-color: rgb(60, 60, 60);\"></td><td title=\"11 11\" style=\"width: 30px; height: 30px;background-color: rgb(60, 60, 60);\"></td></tr></tbody></table>"
      ],
      "text/plain": [
       "<IPython.core.display.HTML object>"
      ]
     },
     "metadata": {},
     "output_type": "display_data"
    }
   ],
   "source": [
    "grid.create_grid(12,12)\n",
    "for row in range(12):\n",
    "    for col in range(12):\n",
    "        if((int(row/2)+int(col/2))%2 == 0):\n",
    "            grid.paint_black(row,col)\n",
    "grid.show()"
   ]
  },
  {
   "cell_type": "markdown",
   "metadata": {},
   "source": [
    "#### 4. Sort student marks list"
   ]
  },
  {
   "cell_type": "code",
   "execution_count": 6,
   "metadata": {
    "scrolled": true
   },
   "outputs": [
    {
     "data": {
      "text/plain": [
       "[('ranjan', 40),\n",
       " ('soumya', 40),\n",
       " ('arya', 37),\n",
       " ('himanshu', 35),\n",
       " ('adil', 30),\n",
       " ('priya', 25),\n",
       " ('sandy', 20),\n",
       " ('shuba', 20),\n",
       " ('sagar', 15),\n",
       " ('james', 15)]"
      ]
     },
     "execution_count": 6,
     "metadata": {},
     "output_type": "execute_result"
    }
   ],
   "source": [
    "student_marks1 = open('./misc/studentmarks1.csv','r')\n",
    "marks_list = student_marks1.read().splitlines()\n",
    "marks_dict = {}\n",
    "for entries in marks_list:\n",
    "    name,marks=entries.split(',')\n",
    "    marks_dict[name]=int(marks)\n",
    "# print(marks_dict)\n",
    "sorted(marks_dict.items(),key=lambda x:x[1],reverse=True)"
   ]
  },
  {
   "cell_type": "markdown",
   "metadata": {},
   "source": [
    "Read the file <code>studentmarks2.csv</code> . There are two marks columns, sort the entries based on the first marks. If there is a tie then sort based on the second marks column."
   ]
  },
  {
   "cell_type": "code",
   "execution_count": 7,
   "metadata": {},
   "outputs": [
    {
     "data": {
      "text/plain": [
       "[('soumya', (40.25, 15.0)),\n",
       " ('ranjan', (40.0, 25.0)),\n",
       " ('arya', (37.0, 20.0)),\n",
       " ('adil', (30.666, 30.0)),\n",
       " ('sandy', (20.333, 45.0)),\n",
       " ('himanshu', (20.0, 20.0)),\n",
       " ('shuba', (20.0, 15.0)),\n",
       " ('james', (15.0, 34.666))]"
      ]
     },
     "execution_count": 7,
     "metadata": {},
     "output_type": "execute_result"
    }
   ],
   "source": [
    "student_marks2 = open('./misc/studentmarks2.csv','r')\n",
    "marks_list = student_marks2.read().splitlines()\n",
    "marks_dict = {}\n",
    "for entries in marks_list:\n",
    "    name,marks1,marks2=entries.split(',')\n",
    "    marks_dict[name]=float(marks1),float(marks2)\n",
    "sorted(marks_dict.items(),key=lambda x:(x[1][0],x[1][1]),reverse=True)\n",
    "#Explanation for key parameter in sorted function : \n",
    "#Any two tuples are comparable eg: (1,2) < (1,5).\n",
    "#This is also true for unequal length tuples (1,2)<(1,3,5)"
   ]
  },
  {
   "cell_type": "markdown",
   "metadata": {},
   "source": [
    "#### 5. Format the table\n",
    "\n",
    "Read the file <code>studentmarks2.csv</code> and format it according to the given picture below.\n",
    "![marks_list](./misc/markslist.png)"
   ]
  },
  {
   "cell_type": "code",
   "execution_count": 8,
   "metadata": {
    "scrolled": true
   },
   "outputs": [
    {
     "name": "stdout",
     "output_type": "stream",
     "text": [
      "sandy      20.33 45.00\n",
      "adil       30.67 30.00\n",
      "ranjan     40.00 25.00\n",
      "shuba      20.00 15.00\n",
      "james      15.00 34.67\n",
      "himanshu   20.00 20.00\n",
      "arya       37.00 20.00\n",
      "soumya     40.25 15.00\n"
     ]
    }
   ],
   "source": [
    "student_marks = open('./misc/studentmarks2.csv','r')\n",
    "marks_list = student_marks.readlines()\n",
    "for ml in marks_list:\n",
    "    name,marks1,marks2 = ml.split(',')\n",
    "    print(\"{0:10s} {1:.2f} {2:.2f}\".format(name,float(marks1),float(marks2)))"
   ]
  },
  {
   "cell_type": "markdown",
   "metadata": {},
   "source": [
    "Refer to the link for more formatting options\n",
    "<a href=\"https://www.python-course.eu/python3_formatted_output.php\">Print Formatting</a>"
   ]
  },
  {
   "cell_type": "markdown",
   "metadata": {},
   "source": [
    "#### 6. Word frequency\n",
    "\n",
    "The file <code>novel_conard.txt</code> contains the text of a book by Joseph Conard. We wish construct a dictionary that stores the number of times each word appears. Common words like <code>an, the, is, by</code>  are called stop words are not of much interest. So we want to construct a word frequency dictionary after removing the stop words from the novel. The list of stop_words is given in the file <code>stopwords.txt</code>.\n",
    "\n",
    "Following methods may be useful: .join to concatenate list of lines, .split(), .get() on dict.\n",
    "\n",
    "eg: \" \".join(['function',' to',' join', ' string', ' elements'])\n",
    "    o/p: function to join string elements\n",
    "    "
   ]
  },
  {
   "cell_type": "code",
   "execution_count": 9,
   "metadata": {},
   "outputs": [
    {
     "name": "stdout",
     "output_type": "stream",
     "text": [
      "Word freq dict. length: 10949\n"
     ]
    },
    {
     "data": {
      "text/plain": [
       "[('would', 114),\n",
       " ('one', 96),\n",
       " ('like', 95),\n",
       " ('could', 86),\n",
       " ('man', 64),\n",
       " ('see', 61),\n",
       " ('Kurtz', 60),\n",
       " ('Project', 59),\n",
       " ('made', 57),\n",
       " ('said', 56)]"
      ]
     },
     "execution_count": 9,
     "metadata": {},
     "output_type": "execute_result"
    }
   ],
   "source": [
    "novel_file = open('./misc/novel_conard.txt','r')\n",
    "stop_file = open('./misc/stopwords.txt','r')\n",
    "novel_text = novel_file.read().splitlines()\n",
    "stop_word_list = stop_file.read().splitlines()\n",
    "\n",
    "novel_text = \"\".join(novel_text)\n",
    "novel_words = novel_text.split()\n",
    "word_frequency = {}\n",
    "for word in novel_words:\n",
    "    if word.lower() not in stop_word_list:\n",
    "        word_frequency[word]=word_frequency.get(word,0)+1\n",
    "print(\"Word freq dict. length:\",len(word_frequency))\n",
    "sorted(word_frequency.items(),key=lambda x:x[1],reverse=True)[:10]"
   ]
  }
 ],
 "metadata": {
  "kernelspec": {
   "display_name": "Python 3",
   "language": "python",
   "name": "python3"
  },
  "language_info": {
   "codemirror_mode": {
    "name": "ipython",
    "version": 3
   },
   "file_extension": ".py",
   "mimetype": "text/x-python",
   "name": "python",
   "nbconvert_exporter": "python",
   "pygments_lexer": "ipython3",
   "version": "3.7.3"
  }
 },
 "nbformat": 4,
 "nbformat_minor": 2
}
